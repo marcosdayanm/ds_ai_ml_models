{
 "cells": [
  {
   "cell_type": "markdown",
   "metadata": {
    "id": "Ptv5Qw16ImwV"
   },
   "source": [
    "# Machine Learning with K-Nearest Neighbors (KNN)\n",
    "\n",
    "## K-Nearest Neighbors (KNN) Dataset Generator\n",
    "\n",
    "This script generates synthetic training and test datasets for a K-Nearest Neighbors machine learning algorithm. The datasets consist of:\n",
    "\n",
    "**1. Two numerical features (feature1 and feature2):**\n",
    "- Generated using normal distribution with mean=0 and standard deviation=0.2\n",
    "- These could represent any measurable characteristics (e.g., height/weight, temperature/humidity, price/quality scores, etc.)\n",
    "\n",
    "**2. Binary classification labels ('A' or 'B'):**\n",
    "- Randomly assigned with equal probability (50% each)\n",
    "- In real scenarios, these might represent categories like pass/fail, spam/not spam, positive/negative sentiment, etc.\n",
    "\n",
    "**The script creates two separate files:**\n",
    "- KNNTraining.txt: 20 samples for training the KNN model\n",
    "- KNNTest.txt: 30 samples for testing the model's performance\n",
    "\n",
    "**Output format:** Each line follows the format: `feature1,feature2,label`\n",
    "Example: `-0.123,0.456,A`\n",
    "\n",
    "**This synthetic data can be used to:**\n",
    "- Test KNN algorithm implementations\n",
    "- Demonstrate classification techniques\n",
    "- Practice data preprocessing and model evaluation"
   ]
  },
  {
   "cell_type": "code",
   "execution_count": 1,
   "metadata": {
    "colab": {
     "base_uri": "https://localhost:8080/"
    },
    "id": "AJVgi5kvCYe-",
    "outputId": "d04ff0ca-33d3-4c0d-dea9-6e071e88db91"
   },
   "outputs": [
    {
     "name": "stdout",
     "output_type": "stream",
     "text": [
      "Create training samples\n",
      "Save training samples into a file\n",
      "Create test samples\n",
      "Save test samples into a file\n",
      "Dataset generation complete!\n",
      "Files created:\n",
      "- KNNTraining.txt (20 samples)\n",
      "- KNNTest.txt (30 samples)\n"
     ]
    }
   ],
   "source": [
    "import numpy as np\n",
    "import codecs\n",
    "\n",
    "base_path = \"\"\n",
    "\n",
    "print(\"Create training samples\")\n",
    "feature1 = list(np.random.normal(0, 0.2, 20)) # 20 random numbers from -0.2 to 0.2 \n",
    "feature2 = list(np.random.normal(0, 0.2, 20))\n",
    "label = list(np.random.choice(['A', 'B'], size=20, p=[0.5, 0.5])) # randomize a 20 element list with either A or B\n",
    "\n",
    "print(\"Save training samples into a file\")\n",
    "with codecs.open(base_path + \"KNNTraining.txt\", \"w\", \"UTF-8\") as file:\n",
    "    for f1, f2, l in zip(feature1, feature2, label):\n",
    "        file.write(str(f1) + \",\" + str(f2) + \",\" + str(l) + \"\\n\")\n",
    "\n",
    "print(\"Create test samples\")\n",
    "feature1 = list(np.random.normal(0, 0.2, 30))\n",
    "feature2 = list(np.random.normal(0, 0.2, 30))\n",
    "label = list(np.random.choice(['A', 'B'], size=30, p=[0.5, 0.5]))\n",
    "\n",
    "print(\"Save test samples into a file\")\n",
    "with codecs.open(base_path + \"KNNTest.txt\", \"w\", \"UTF-8\") as file:\n",
    "    for f1, f2, l in zip(feature1, feature2, label):\n",
    "        file.write(str(f1) + \",\" + str(f2) + \",\" + str(l) + \"\\n\")\n",
    "\n",
    "print(\"Dataset generation complete!\")\n",
    "print(\"Files created:\")\n",
    "print(\"- KNNTraining.txt (20 samples)\")\n",
    "print(\"- KNNTest.txt (30 samples)\")"
   ]
  },
  {
   "cell_type": "markdown",
   "metadata": {
    "id": "6Ftwt5cpI3bv"
   },
   "source": [
    "# Euclidean Distance Function\n",
    "\n",
    "Calculate the Euclidean distance between two points represented as lists. This function computes the straight-line distance between two points in n-dimensional space using the formula: distance = sqrt((x2-x1)² + (y2-y1)² + ... + (n1-n2)²).\n",
    "\n",
    "This is commonly used in machine learning algorithms like K-Nearest Neighbors (KNN) to measure similarity between data points.\n",
    "\n",
    "<img src=\"euclidean_distance_example.png\" width=\"auto\" height=\"100\" />"
   ]
  },
  {
   "cell_type": "code",
   "execution_count": 7,
   "metadata": {
    "colab": {
     "base_uri": "https://localhost:8080/"
    },
    "id": "LL5gKG_CF2hO",
    "outputId": "12546c36-7a77-42a4-d707-b40bd28d0ab3"
   },
   "outputs": [
    {
     "name": "stdout",
     "output_type": "stream",
     "text": [
      "Distance between [1, 2] and [4, 6]: 5.0\n",
      "Distance between [0, 0, 0] and [3, 4, 0]: 5.0\n"
     ]
    }
   ],
   "source": [
    "import math\n",
    "from typing import List\n",
    "\n",
    "def euclideanDistance(list1: List, list2: List):\n",
    "    \"\"\"\n",
    "    Computes euclidean distance\n",
    "    \"\"\"\n",
    "    sumList = 0 # accumulates the squared difference between \n",
    "    for x, y in zip(list1, list2):\n",
    "        sumList += (y - x) ** 2\n",
    "    return math.sqrt(sumList)\n",
    "\n",
    "# Test the function\n",
    "point1 = [1, 2]\n",
    "point2 = [4, 6]\n",
    "distance = euclideanDistance(point1, point2)\n",
    "print(f\"Distance between {point1} and {point2}: {distance}\")\n",
    "\n",
    "point3 = [0, 0, 0]\n",
    "point4 = [3, 4, 0]\n",
    "distance2 = euclideanDistance(point3, point4)\n",
    "print(f\"Distance between {point3} and {point4}: {distance2}\")"
   ]
  },
  {
   "cell_type": "markdown",
   "metadata": {
    "id": "P0BzvS3QOTsc"
   },
   "source": [
    "# KNN Classification Function\n",
    "\n",
    "This function implements the K-Nearest Neighbors classification algorithm. It takes a test sample and finds the k closest training samples based on Euclidean distance, then returns the most common label (mode) among those k neighbors.\n",
    "\n",
    "**Parameters:**\n",
    "- testList: The test sample to classify (list of features)\n",
    "- trainingLists: List of all training samples\n",
    "- trainingLabels: Corresponding labels for training samples\n",
    "- k: Number of nearest neighbors to consider\n",
    "\n",
    "**Returns:** The predicted class label based on majority vote of k nearest neighbors"
   ]
  },
  {
   "cell_type": "code",
   "execution_count": 10,
   "metadata": {
    "id": "laZCwHRuLkvG"
   },
   "outputs": [],
   "source": [
    "from operator import itemgetter # retrieves items from an iterable passing the index or the key we want to retrieve\n",
    "from statistics import mode # returns the statistic mode of a given array\n",
    "from typing import List\n",
    "\n",
    "def classify(testList, trainingLists: List[List], trainingLabels, k):\n",
    "    \"\"\"\n",
    "    This function represents the ML model\n",
    "    \"\"\"\n",
    "    distance = []  # Store distance and label pairs\n",
    "\n",
    "    for trainingList, label in zip(trainingLists, trainingLabels):  # Iterate through training data\n",
    "        dist = euclideanDistance(testList, trainingList)  # Calculate distance to test point\n",
    "        distance.append((dist, label))  # Store as tuple (distance, label)\n",
    "\n",
    "    distance.sort(key=itemgetter(0))  # Sort by distance (ascending order)\n",
    "    voteLabels = []  # Store labels of k nearest neighbors\n",
    "    for x in distance[:k]:  # Get first k closest neighbors\n",
    "        voteLabels.append(x[1])  # Extract label from tuple\n",
    "\n",
    "    return mode(voteLabels)  # Return most frequent label"
   ]
  },
  {
   "cell_type": "markdown",
   "metadata": {
    "id": "xHUXQftVTfAP"
   },
   "source": [
    "# KNN Model Implementation and Evaluation\n",
    "\n",
    "Implementation of k-nearest neighbors - prueba\n",
    "\n",
    "This section loads the previously generated training and test datasets, applies the KNN classification algorithm, and evaluates the model's accuracy by comparing predictions with actual labels.\n",
    "\n",
    "**Definition of accuracy:** number of correct predictions / total of predictions made\n",
    "\n",
    "**Process:**\n",
    "1. Load training and test data from files\n",
    "2. Apply KNN classification to each test sample\n",
    "3. Calculate and display model accuracy\n",
    "\n",
    "**Summary**\n",
    "In a few words, given several vectors with their tag in a n-dimensional space, it looks for the k closest neighbors in that space and classifies the new vector with the most common label of the k closes neighbors"
   ]
  },
  {
   "cell_type": "code",
   "execution_count": 12,
   "metadata": {
    "colab": {
     "base_uri": "https://localhost:8080/"
    },
    "id": "gJaqQx0FOql4",
    "outputId": "e46d8a75-34f6-4d74-bfc5-6937f475851e"
   },
   "outputs": [
    {
     "name": "stdout",
     "output_type": "stream",
     "text": [
      "Load training samples\n",
      "Load test samples\n",
      "Apply the KNN approach over test samples\n",
      "Test 1: Predicted = B, Actual = A\n",
      "Test 2: Predicted = B, Actual = A\n",
      "Test 3: Predicted = A, Actual = B\n",
      "Test 4: Predicted = A, Actual = A\n",
      "Test 5: Predicted = A, Actual = A\n",
      "Test 6: Predicted = A, Actual = A\n",
      "Test 7: Predicted = B, Actual = A\n",
      "Test 8: Predicted = A, Actual = B\n",
      "Test 9: Predicted = A, Actual = B\n",
      "Test 10: Predicted = B, Actual = B\n",
      "Test 11: Predicted = B, Actual = A\n",
      "Test 12: Predicted = A, Actual = B\n",
      "Test 13: Predicted = A, Actual = A\n",
      "Test 14: Predicted = B, Actual = A\n",
      "Test 15: Predicted = A, Actual = B\n",
      "Test 16: Predicted = B, Actual = B\n",
      "Test 17: Predicted = B, Actual = B\n",
      "Test 18: Predicted = B, Actual = B\n",
      "Test 19: Predicted = A, Actual = B\n",
      "Test 20: Predicted = A, Actual = A\n",
      "Test 21: Predicted = B, Actual = B\n",
      "Test 22: Predicted = B, Actual = A\n",
      "Test 23: Predicted = A, Actual = B\n",
      "Test 24: Predicted = A, Actual = A\n",
      "Test 25: Predicted = A, Actual = A\n",
      "Test 26: Predicted = A, Actual = A\n",
      "Test 27: Predicted = A, Actual = A\n",
      "Test 28: Predicted = B, Actual = A\n",
      "Test 29: Predicted = A, Actual = B\n",
      "Test 30: Predicted = B, Actual = A\n",
      "Model accuracy: 0.4666666666666667\n"
     ]
    }
   ],
   "source": [
    "import codecs\n",
    "\n",
    "training = []\n",
    "test = []\n",
    "trainingLabels = []\n",
    "testLabels = []\n",
    "k = 5\n",
    "\n",
    "print(\"Load training samples\")\n",
    "with codecs.open(\"KNNTraining.txt\", \"r\", \"UTF-8\") as file:\n",
    "    for line in file:\n",
    "        elements = line.rstrip(\"\\n\").split(\",\")  # Split by comma\n",
    "        training.append([float(elements[0]), float(elements[1])])  # Features as floats\n",
    "        trainingLabels.append(elements[2])  # Label as string\n",
    "\n",
    "print(\"Load test samples\")\n",
    "with codecs.open(\"KNNTest.txt\", \"r\", \"UTF-8\") as file:\n",
    "    for line in file:\n",
    "        elements = line.rstrip(\"\\n\").split(\",\")  # Split by comma\n",
    "        test.append([float(elements[0]), float(elements[1])])  # Features as floats\n",
    "        testLabels.append(elements[2])  # Label as string\n",
    "\n",
    "print(\"Apply the KNN approach over test samples\")\n",
    "correctPredictions = 0\n",
    "totalPredictions = len(test)\n",
    "\n",
    "for i, testSample in enumerate(test):  # Iterate through test samples\n",
    "    prediction = classify(testSample, training, trainingLabels, k)  # Get prediction\n",
    "    if prediction == testLabels[i]:  # Check if prediction matches actual label\n",
    "        correctPredictions += 1\n",
    "    print(f\"Test {i+1}: Predicted = {prediction}, Actual = {testLabels[i]}\")\n",
    "\n",
    "print(\"Model accuracy: \" + str(correctPredictions/totalPredictions))"
   ]
  },
  {
   "cell_type": "markdown",
   "metadata": {},
   "source": [
    "# 6 Implementación en Scikit-learn\n",
    "\n",
    "Con la implementación básica de Python hecha, ahora utilizaremos la librería favorita de personas\n",
    "asociadas a la ciencia o analítica de datos para comparar.\n",
    "\n",
    "## 6.1 KNN parametros basicos\n",
    "El algoritmo de KNN se encuentra disponible en scikit-learn a través de las clases\n",
    "KNeighborsClassifier para problemas de clasificación y KNeighborsRegressor para problemas\n",
    "de regresión. La implementación de kNN en esta biblioteca es intuitiva y flexible, permitiendo la\n",
    "configuración de parámetros como el número de vecinos k, la métrica de distancia (por ejemplo,\n",
    "euclidiana o Manhattan) y la forma en que se ponderan los vecinos. Esto facilita la personalización\n",
    "del modelo para adaptarse a diversos tipos de datos y necesidades específicas.\n",
    "De manera especifica, los parametros de KNN son los siguientes:\n",
    "1. n_neighbors: Especifica el número de vecinos más cercanos a considerar para la clasificación.\n",
    "Este parámetro controla el valor de k en kNN. Un valor comúnmente usado es 5, pero puede\n",
    "ajustarse según el problema específico.\n",
    "2. weights: Define el método de ponderación para los vecinos. Puede ser:\n",
    "• uniform: Todos los vecinos tienen el mismo peso.\n",
    "• distance: Los vecinos más cercanos tienen un peso mayor, inversamente proporcional a la\n",
    "distancia.\n",
    "• También se puede pasar una función que asigne pesos personalizados.\n",
    "3. algorithm: Determina el algoritmo a utilizar para calcular los vecinos. Las opciones son:\n",
    "• auto: Elige automáticamente el mejor algoritmo basado en los datos.\n",
    "• ball_tree: Usa un árbol de búsqueda Ball.\n",
    "• kd_tree: Usa un árbol de búsqueda KD.\n",
    "• brute: Realiza una búsqueda exhaustiva de todos los vecinos.\n",
    "4. p: Especifica el tipo de distancia entre vectores. Si p=1, se usa la distancia de Manhattan; si\n",
    "p=2, se usa la distancia euclidiana. Para valores distintos, se utiliza la distancia de Minkowski\n",
    "general.\n",
    "5. n_jobs: Número de procesos en paralelo para ejecutar el cálculo de vecinos. Un valor de -1\n",
    "utiliza todos los núcleos disponibles del procesador."
   ]
  },
  {
   "cell_type": "code",
   "execution_count": null,
   "metadata": {},
   "outputs": [],
   "source": []
  }
 ],
 "metadata": {
  "colab": {
   "provenance": []
  },
  "kernelspec": {
   "display_name": "Python 3 (ipykernel)",
   "language": "python",
   "name": "python3"
  },
  "language_info": {
   "codemirror_mode": {
    "name": "ipython",
    "version": 3
   },
   "file_extension": ".py",
   "mimetype": "text/x-python",
   "name": "python",
   "nbconvert_exporter": "python",
   "pygments_lexer": "ipython3",
   "version": "3.13.3"
  }
 },
 "nbformat": 4,
 "nbformat_minor": 4
}
