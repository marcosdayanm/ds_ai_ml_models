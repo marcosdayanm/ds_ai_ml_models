{
 "cells": [
  {
   "cell_type": "markdown",
   "id": "3ed37f3f-ef45-4d50-b268-75da2c574ced",
   "metadata": {},
   "source": [
    "# Activity 1 KNN\n",
    "\n",
    "<img src=\"./tec_logo.png\" width=\"auto\" height=\"200\" />\n",
    "\n",
    "**Marcos Dayan Mann**\n",
    "\n",
    "A01782876\n",
    "\n",
    "Deliver date: August 26th, 2025\n"
   ]
  },
  {
   "cell_type": "markdown",
   "id": "8aa35549-016e-47e3-b8a6-553d34d4df5e",
   "metadata": {
    "jp-MarkdownHeadingCollapsed": true
   },
   "source": [
    "## Introduction\n",
    "\n",
    "This Jupyter Notebook implements a KNN machine learning model for classifying between a person who suffers from a heart disease, depending on features such as vital signs, coelsterol and glucose levels, etc.\n",
    "\n",
    "The dataset for training the model is built up by 303 samples, each one with 13 features represented by a numerical scale, and a binary tag for marking the sample wether as \"Aucencia\" or \"Presencia\" for any heart desease.\n",
    "\n",
    "The strategy that I will perform will be:    \n",
    "1. Split the dataset into training and testing samples\n",
    "2. Create a custom KNN model with its helper methods such as for measuring similarity between vectors, running the training and tests, and measuring the outcome with graphs\n",
    "3. Create a KNN model with sklearn\n",
    "4. Create helper methods to orchestrate the training, run tests and measure the output of the model with graphs"
   ]
  },
  {
   "cell_type": "markdown",
   "id": "bbf7a015-c1f2-4833-82ea-13bd9956b747",
   "metadata": {},
   "source": [
    "## Install required dependencies"
   ]
  },
  {
   "cell_type": "code",
   "execution_count": 2,
   "id": "4d740ecd-d9fb-46f2-aa1a-732646445b25",
   "metadata": {},
   "outputs": [
    {
     "name": "stdout",
     "output_type": "stream",
     "text": [
      "Requirement already satisfied: scikit-learn in /opt/homebrew/Cellar/jupyterlab/4.4.1/libexec/lib/python3.13/site-packages (1.7.1)\n",
      "Requirement already satisfied: numpy in /opt/homebrew/lib/python3.13/site-packages (2.3.2)\n",
      "Requirement already satisfied: pandas in /opt/homebrew/Cellar/jupyterlab/4.4.1/libexec/lib/python3.13/site-packages (2.3.2)\n",
      "Requirement already satisfied: plotly in /opt/homebrew/Cellar/jupyterlab/4.4.1/libexec/lib/python3.13/site-packages (6.3.0)\n",
      "Requirement already satisfied: scipy>=1.8.0 in /opt/homebrew/Cellar/jupyterlab/4.4.1/libexec/lib/python3.13/site-packages (from scikit-learn) (1.16.1)\n",
      "Requirement already satisfied: joblib>=1.2.0 in /opt/homebrew/Cellar/jupyterlab/4.4.1/libexec/lib/python3.13/site-packages (from scikit-learn) (1.5.1)\n",
      "Requirement already satisfied: threadpoolctl>=3.1.0 in /opt/homebrew/Cellar/jupyterlab/4.4.1/libexec/lib/python3.13/site-packages (from scikit-learn) (3.6.0)\n",
      "Requirement already satisfied: python-dateutil>=2.8.2 in /opt/homebrew/Cellar/jupyterlab/4.4.1/libexec/lib/python3.13/site-packages (from pandas) (2.9.0.post0)\n",
      "Requirement already satisfied: pytz>=2020.1 in /opt/homebrew/Cellar/jupyterlab/4.4.1/libexec/lib/python3.13/site-packages (from pandas) (2025.2)\n",
      "Requirement already satisfied: tzdata>=2022.7 in /opt/homebrew/Cellar/jupyterlab/4.4.1/libexec/lib/python3.13/site-packages (from pandas) (2025.2)\n",
      "Requirement already satisfied: narwhals>=1.15.1 in /opt/homebrew/Cellar/jupyterlab/4.4.1/libexec/lib/python3.13/site-packages (from plotly) (2.1.2)\n",
      "Requirement already satisfied: packaging in /opt/homebrew/Cellar/jupyterlab/4.4.1/libexec/lib/python3.13/site-packages (from plotly) (25.0)\n",
      "Requirement already satisfied: six>=1.5 in /opt/homebrew/Cellar/jupyterlab/4.4.1/libexec/lib/python3.13/site-packages (from python-dateutil>=2.8.2->pandas) (1.17.0)\n",
      "\n",
      "\u001b[1m[\u001b[0m\u001b[34;49mnotice\u001b[0m\u001b[1;39;49m]\u001b[0m\u001b[39;49m A new release of pip is available: \u001b[0m\u001b[31;49m24.3.1\u001b[0m\u001b[39;49m -> \u001b[0m\u001b[32;49m25.2\u001b[0m\n",
      "\u001b[1m[\u001b[0m\u001b[34;49mnotice\u001b[0m\u001b[1;39;49m]\u001b[0m\u001b[39;49m To update, run: \u001b[0m\u001b[32;49m/opt/homebrew/Cellar/jupyterlab/4.4.1/libexec/bin/python -m pip install --upgrade pip\u001b[0m\n"
     ]
    }
   ],
   "source": [
    "import sys\n",
    "!{sys.executable} -m pip install scikit-learn numpy pandas plotly"
   ]
  },
  {
   "cell_type": "markdown",
   "id": "8c65264a-fba9-4d22-a841-5b0d61c6c865",
   "metadata": {},
   "source": [
    "## Prepare training and testing dataset (HW point 1)\n",
    "\n",
    "It is important to consider that this script will arrange the dataset into a different training and testing subset each time, because before splitting the data, this script shuffles it\n"
   ]
  },
  {
   "cell_type": "code",
   "execution_count": 2,
   "id": "1c32ea43-10d8-4fd4-b8fc-4c6ba6d47658",
   "metadata": {},
   "outputs": [],
   "source": [
    "import codecs\n",
    "import random\n",
    "\n",
    "lista=[]\n",
    "with codecs.open(\"dataset.txt\",\"r\",\"UTF-8\") as file:\n",
    "    for line in file:\n",
    "        elements=(line.strip('\\n')).split(\",\")\n",
    "        temp=[str(float(x)) for x in elements]\n",
    "        if temp[-1]==\"0.0\":\n",
    "            temp[-1]=\"Absence\"\n",
    "        else:    \n",
    "            temp[-1]=\"Present\"\n",
    "        lista.append(temp)\n",
    "\n",
    "random.shuffle(lista)\n",
    "\n",
    "with codecs.open(\"training.txt\",\"w\",\"UTF-8\") as file:\n",
    "    for x in lista[:242]:\n",
    "        file.write(\",\".join(x)+\"\\n\")\n",
    "\n",
    "with codecs.open(\"test.txt\",\"w\",\"UTF-8\") as file:\n",
    "    for x in lista[242:]:\n",
    "        file.write(\",\".join(x)+\"\\n\")    "
   ]
  },
  {
   "cell_type": "markdown",
   "id": "3ee5bea4-3838-4afb-8dea-15a4ad79c7d5",
   "metadata": {},
   "source": [
    "## Euclidean distance function for computing the distance between vectors"
   ]
  },
  {
   "cell_type": "code",
   "execution_count": 3,
   "id": "ee044f64-a46f-4f10-bceb-8e05186cb58d",
   "metadata": {},
   "outputs": [],
   "source": [
    "import math\n",
    "\n",
    "def euclidean_distance(v1, v2):\n",
    "    sum_squared_differences = sum((x2-x1)**2 for x1, x2 in zip(v1, v2))\n",
    "    return math.sqrt(sum_squared_differences) "
   ]
  },
  {
   "cell_type": "markdown",
   "id": "b0c72bb7-bf06-4d8a-ad1f-6fe342351161",
   "metadata": {},
   "source": [
    "## Manhattan distance function for computing the distance between vectors (HW point 2)"
   ]
  },
  {
   "cell_type": "markdown",
   "id": "cd849797-b45a-4000-a421-761e0b2e815c",
   "metadata": {},
   "source": [
    "I found out Manhattan distance gave better results than euclidean distance or cosine similarity for multidimensional vectors"
   ]
  },
  {
   "cell_type": "code",
   "execution_count": 4,
   "id": "e55d99f7-6609-4a29-86c1-a1d83e3cf679",
   "metadata": {},
   "outputs": [],
   "source": [
    "def manhattan_distance(v1, v2) -> float:\n",
    "    return sum(abs(x2 - x1) for x1, x2 in zip(v1, v2))"
   ]
  },
  {
   "cell_type": "markdown",
   "id": "e1185ab3-0c9e-4c50-b693-20d5355701de",
   "metadata": {},
   "source": [
    "## Cosine similarity distance function for computing the distance between vectors (HW point 3)"
   ]
  },
  {
   "cell_type": "code",
   "execution_count": 5,
   "id": "eb9b31d1-ab5a-4dbf-a168-d9d5ca668bf1",
   "metadata": {},
   "outputs": [],
   "source": [
    "import numpy as np\n",
    "\n",
    "def cosine_similarity(v1, v2) -> float:\n",
    "    dot_product = np.dot(v1, v2)\n",
    "    norm_v1 = np.linalg.norm(v1)\n",
    "    norm_v2 = np.linalg.norm(v2)\n",
    "\n",
    "    if norm_v1 == 0 or norm_v2 == 0:\n",
    "        return 0.0\n",
    "    \n",
    "    return dot_product / (norm_v1 * norm_v2)"
   ]
  },
  {
   "cell_type": "markdown",
   "id": "cab5e68b-2244-40da-81d4-707c25e65b82",
   "metadata": {},
   "source": [
    "## Classify function (KNN model)"
   ]
  },
  {
   "cell_type": "code",
   "execution_count": 6,
   "id": "d8af5c3e-de65-4ae1-a238-81fd222789bc",
   "metadata": {},
   "outputs": [],
   "source": [
    "from statistics import mode\n",
    "from typing import List\n",
    "\n",
    "def classify(test_vector: List, data_attributes: List[List], data_labels: List, k: int, distance_function = manhattan_distance) -> str:\n",
    "    distances=[]\n",
    "    for vector, label in zip(data_attributes,data_labels):\n",
    "        distance = distance_function(vector,test_vector)\n",
    "        distances.append((distance,label))\n",
    "        \n",
    "    distances.sort(key= lambda x: x[0])\n",
    "    votelabels=[]\n",
    "    \n",
    "    for x in distances[:k]:\n",
    "        votelabels.append(x[1])\n",
    "        \n",
    "    return mode(votelabels)"
   ]
  },
  {
   "cell_type": "markdown",
   "id": "37ad8705-aa09-4709-9be8-2068e1645b04",
   "metadata": {},
   "source": [
    "This classify function represents my custom KNN model.    \n",
    "Basically the function takes as arguments a vector to classify, a list of vectors that represents the model training data, the labels corresponding to the training data, and the function for computing the vector similarity, that defaults to the manhattan distance, which i found as the best performer for multidimensional vectors.\n",
    "\n",
    "The function iterates on the training data vectors and computes each one's distance related to the test vector, then appends the distance with its label into a list.\n",
    "\n",
    "Then, it sorts the list based on the distance, and selects the k smallest distances labels, that correspond to the k most similar vectors to the test vector, and returns the most common label of the k vectors.\n",
    "\n",
    "This algorithm has the advantage of being very easy to implement manually, and it performs almost as good as the sklearn KNN, but as long as the dataset remains small, because it is very inefficient and consumes a lot of memory, this does not allow this model to work with large datasets."
   ]
  },
  {
   "cell_type": "markdown",
   "id": "3a55396a-dde5-424e-861f-9daeeb0ff7f2",
   "metadata": {},
   "source": [
    "## Prepare samples function"
   ]
  },
  {
   "cell_type": "code",
   "execution_count": 8,
   "id": "cd7377ea-c009-442e-9b33-139364857df6",
   "metadata": {},
   "outputs": [],
   "source": [
    "from typing import Tuple\n",
    "\n",
    "def prepare_samples(fileroute: str) -> Tuple[List, List]:\n",
    "    vectors = []\n",
    "    labels = []\n",
    "    with codecs.open(fileroute,\"r\",\"UTF-8\") as file:\n",
    "        for line in file:\n",
    "            elements=(line.rstrip('\\n')).split(\",\")\n",
    "            vectors.append([float(e) for e in elements[:-1]])\n",
    "            labels.append(elements[-1])\n",
    "    \n",
    "    return vectors, labels"
   ]
  },
  {
   "cell_type": "markdown",
   "id": "f15b8bdf-0c86-4a89-a736-7747691a0ab7",
   "metadata": {},
   "source": [
    "## Test analog KNN model with different K's to determine the best for this case (HW points 4, 5, 6)"
   ]
  },
  {
   "cell_type": "code",
   "execution_count": 9,
   "id": "2eb1b1fd-efdd-43a0-b62d-62ad8f1a08b0",
   "metadata": {},
   "outputs": [
    {
     "name": "stdout",
     "output_type": "stream",
     "text": [
      "k: 3, correct_predictions: 43\n",
      "model accuracy: 70.49180327868852\n",
      "k: 4, correct_predictions: 45\n",
      "model accuracy: 73.77049180327869\n",
      "k: 5, correct_predictions: 45\n",
      "model accuracy: 73.77049180327869\n",
      "k: 6, correct_predictions: 48\n",
      "model accuracy: 78.68852459016394\n",
      "k: 7, correct_predictions: 47\n",
      "model accuracy: 77.04918032786885\n",
      "k: 8, correct_predictions: 47\n",
      "model accuracy: 77.04918032786885\n",
      "k: 9, correct_predictions: 47\n",
      "model accuracy: 77.04918032786885\n",
      "k: 10, correct_predictions: 47\n",
      "model accuracy: 77.04918032786885\n",
      "k: 11, correct_predictions: 45\n",
      "model accuracy: 73.77049180327869\n",
      "k: 12, correct_predictions: 46\n",
      "model accuracy: 75.40983606557377\n",
      "k: 13, correct_predictions: 43\n",
      "model accuracy: 70.49180327868852\n",
      "k: 14, correct_predictions: 44\n",
      "model accuracy: 72.1311475409836\n",
      "k: 15, correct_predictions: 43\n",
      "model accuracy: 70.49180327868852\n",
      "k: 16, correct_predictions: 43\n",
      "model accuracy: 70.49180327868852\n",
      "k: 17, correct_predictions: 43\n",
      "model accuracy: 70.49180327868852\n",
      "k: 18, correct_predictions: 43\n",
      "model accuracy: 70.49180327868852\n",
      "k: 19, correct_predictions: 42\n",
      "model accuracy: 68.85245901639344\n",
      "k: 20, correct_predictions: 43\n",
      "model accuracy: 70.49180327868852\n",
      "k: 21, correct_predictions: 43\n",
      "model accuracy: 70.49180327868852\n",
      "k: 22, correct_predictions: 44\n",
      "model accuracy: 72.1311475409836\n",
      "k: 23, correct_predictions: 43\n",
      "model accuracy: 70.49180327868852\n",
      "k: 24, correct_predictions: 44\n",
      "model accuracy: 72.1311475409836\n",
      "k: 25, correct_predictions: 42\n",
      "model accuracy: 68.85245901639344\n",
      "k: 26, correct_predictions: 43\n",
      "model accuracy: 70.49180327868852\n",
      "k: 27, correct_predictions: 42\n",
      "model accuracy: 68.85245901639344\n",
      "k: 28, correct_predictions: 42\n",
      "model accuracy: 68.85245901639344\n",
      "k: 29, correct_predictions: 43\n",
      "model accuracy: 70.49180327868852\n",
      "k: 30, correct_predictions: 43\n",
      "model accuracy: 70.49180327868852\n",
      "k: 31, correct_predictions: 43\n",
      "model accuracy: 70.49180327868852\n",
      "k: 32, correct_predictions: 42\n",
      "model accuracy: 68.85245901639344\n",
      "k: 33, correct_predictions: 42\n",
      "model accuracy: 68.85245901639344\n",
      "k: 34, correct_predictions: 42\n",
      "model accuracy: 68.85245901639344\n",
      "k: 35, correct_predictions: 42\n",
      "model accuracy: 68.85245901639344\n",
      "k: 36, correct_predictions: 44\n",
      "model accuracy: 72.1311475409836\n",
      "k: 37, correct_predictions: 43\n",
      "model accuracy: 70.49180327868852\n",
      "k: 38, correct_predictions: 44\n",
      "model accuracy: 72.1311475409836\n",
      "k: 39, correct_predictions: 44\n",
      "model accuracy: 72.1311475409836\n",
      "k: 40, correct_predictions: 44\n",
      "model accuracy: 72.1311475409836\n",
      "k: 41, correct_predictions: 44\n",
      "model accuracy: 72.1311475409836\n",
      "\n",
      "KNN best manual k: 6, correct predictions: 48\n"
     ]
    }
   ],
   "source": [
    "from typing import Tuple\n",
    "\n",
    "training, training_labels = prepare_samples(\"training.txt\")\n",
    "test, test_labels = prepare_samples(\"test.txt\")\n",
    "\n",
    "def test_knn(training, training_labels, test, test_labels, k) -> Tuple[int, float]:\n",
    "    correct_predictions = 0\n",
    "    for vector, label in zip(test, test_labels):\n",
    "        predicted = classify(vector, training, training_labels, k)\n",
    "        if predicted == label:\n",
    "            correct_predictions += 1\n",
    "\n",
    "    print(f\"k: {k}, correct_predictions: {correct_predictions}\")\n",
    "\n",
    "    print(f\"model accuracy: {(correct_predictions/len(test))*100}\")\n",
    "    return k, correct_predictions\n",
    "\n",
    "\n",
    "results = []\n",
    "for k in range(3, 42):\n",
    "    results.append(test_knn(training, training_labels, test, test_labels, k))\n",
    "\n",
    "best_manual_k = max(results, key= lambda x: x[1])\n",
    "\n",
    "print(f\"\\nKNN best manual k: {best_manual_k[0]}, correct predictions: {best_manual_k[1]}\")    "
   ]
  },
  {
   "cell_type": "markdown",
   "id": "414da838-8d2a-422d-beda-6dd3d7af43a7",
   "metadata": {},
   "source": [
    "This script tests the KNN model classifier with a different K number for finding the best K for this training data.\n",
    "\n",
    "I found out that this nuber changes a lot depending to the data, it the training data is selected reandomly as I do on the preparing data functions, it will vary a lot.\n",
    "\n",
    "I consider this effect can be minimized by having several more training data records"
   ]
  },
  {
   "cell_type": "markdown",
   "id": "08158794-efbe-42cd-a4f4-18c0567a0d5e",
   "metadata": {},
   "source": [
    "## Manual model insights (HW point 7)"
   ]
  },
  {
   "cell_type": "markdown",
   "id": "3c1e4a6c-b4a2-4fd4-8502-ed623da937da",
   "metadata": {},
   "source": [
    "Graph 1: Manhattan distances from training vectors to specific test vector"
   ]
  },
  {
   "cell_type": "code",
   "execution_count": 10,
   "id": "af4300c0-631a-45ba-9d05-ca737a3fbc10",
   "metadata": {},
   "outputs": [
    {
     "data": {
      "application/vnd.plotly.v1+json": {
       "config": {
        "plotlyServerURL": "https://plot.ly"
       },
       "data": [
        {
         "hovertemplate": "Tag=Absence<br>Vector indecx=%{x}<br>Manhattan distance=%{y}<extra></extra>",
         "legendgroup": "Absence",
         "marker": {
          "color": "#636efa",
          "line": {
           "color": "DarkSlateGrey",
           "width": 1
          },
          "opacity": 0.7,
          "size": 8,
          "symbol": "circle"
         },
         "mode": "markers",
         "name": "Absence",
         "orientation": "v",
         "showlegend": true,
         "type": "scatter",
         "x": {
          "bdata": "AAACAAQABgAHAAgACwANABIAEwAUABUAFgAXABkAGgAbABwAHQAfACEAIgAoACoAKwAtAC8AMAAxADMANQA3ADgAOgA9AD4APwBBAEUASABJAEsATABPAFAAUgBTAFQAVQBWAFgAWwBcAF0AXgBfAGEAZABlAGYAaABqAGsAbQBuAG8AcwB0AHYAegB9AIEAgwCJAIoAjACNAI4AjwCQAJMAlACWAJgAmgCbAJ4AoQCiAKMApAClAKYApwCoAKwAsACxALIAswC0ALcAuAC5ALoAuwC8AL4AwADDAMcAyADJAMwAzwDQANIA2ADZANsA3gDgAOMA5QDnAOkA6gDtAPAA8QA=",
          "dtype": "i2"
         },
         "xaxis": "x",
         "y": {
          "bdata": "MzMzMzODYkAzMzMzM/NcQJqZmZmZ2WZAZmZmZmZ2ZkCamZmZmdlkQM3MzMzMTEhAzczMzMxMY0AzMzMzMzNTQJqZmZmZGWhAAAAAAACgXEAzMzMzMzNcQGZmZmZmRmJAZmZmZmbmX0CamZmZmdliQM3MzMzMbGFAMzMzMzPTV0DNzMzMzOxiQDMzMzMzc1lAZmZmZmZGbkCamZmZmdlhQJqZmZmZeWJAZmZmZmbWYkCamZmZmdlhQJqZmZmZCXBAzczMzMxMX0CamZmZmRliQDMzMzMzc3dAMzMzMzPzWEAzMzMzM7NeQDMzMzMz81xAmpmZmZn5YkCamZmZmflgQM3MzMzMrGNAmpmZmZm5YEAAAAAAAABfQDMzMzMz42JAMzMzMzOzXkCamZmZmXlhQJqZmZmZGWBAzczMzMzMWkCamZmZmVllQJqZmZmZ2VpAmpmZmZmZaUAzMzMzM5NfQJqZmZmZ+WNAZmZmZmZmYkDNzMzMzGxbQM3MzMzMbF9AMzMzMzOzYkCamZmZmRlhQJqZmZmZOWRAMzMzMzPzYkCamZmZmRljQJqZmZmZWVxAZmZmZmbGYkCamZmZmRlnQDMzMzMzM1lAAAAAAACgXkCamZmZmVlmQAAAAAAAIGlAMzMzMzOTZUCamZmZmdlgQGZmZmZmRmtAzczMzMzMWkAzMzMzM3NhQDMzMzMzU2NAmpmZmZkZUkDNzMzMzAxpQDMzMzMzs19AmpmZmZkZakAAAAAAAMBfQDMzMzMzM2BAMzMzMzNzUECamZmZmdliQM3MzMzMbGhAAAAAAADgXUCamZmZmZk2QGZmZmZmpmRAmpmZmZlZZEDNzMzMzGxbQAAAAAAAQF1AZmZmZmZmZECamZmZmXlkQGZmZmZmJl1AmpmZmZmZYUAzMzMzM7NfQAAAAAAAgG5AmpmZmZk5bEAzMzMzM3NWQGZmZmZmJmVAmpmZmZlZWUAzMzMzM7NfQDMzMzMz01RAMzMzMzNzXkAzMzMzMwNoQJqZmZmZ2WtAmpmZmZkZYUAAAAAAAABZQAAAAAAA4GNAMzMzMzPzakCamZmZmfljQDMzMzMz815AAAAAAACgYkAzMzMzM7NWQJqZmZmZWWtAMzMzMzOzWkCamZmZmaliQGZmZmZmhmNAZmZmZmamY0DNzMzMzExTQGZmZmZmZltAzczMzMyMZkAzMzMzM/NdQJqZmZmZGWBAmpmZmZn5YUDNzMzMzIxSQDMzMzMzE2NAZmZmZmbmVEAzMzMzM3NaQDMzMzMz01tAzczMzMyMW0BmZmZmZgZgQDMzMzMzs1lAMzMzMzNzWUAzMzMzM7NSQDMzMzMz82NAmpmZmZl5ZkAzMzMzM3NdQJqZmZmZ2VpAmpmZmZk5YEA=",
          "dtype": "f8"
         },
         "yaxis": "y"
        },
        {
         "hovertemplate": "Tag=Present<br>Vector indecx=%{x}<br>Manhattan distance=%{y}<extra></extra>",
         "legendgroup": "Present",
         "marker": {
          "color": "#EF553B",
          "line": {
           "color": "DarkSlateGrey",
           "width": 1
          },
          "opacity": 0.7,
          "size": 8,
          "symbol": "circle"
         },
         "mode": "markers",
         "name": "Present",
         "orientation": "v",
         "showlegend": true,
         "type": "scatter",
         "x": {
          "bdata": "AQADAAUACQAKAAwADgAPABAAEQAYAB4AIAAjACQAJQAmACcAKQAsAC4AMgA0ADYAOQA7ADwAQABCAEMARABGAEcASgBNAE4AUQBXAFkAWgBgAGIAYwBnAGkAbABwAHEAcgB1AHcAeAB5AHsAfAB+AH8AgACCAIQAhQCGAIcAiACLAJEAkgCVAJcAmQCcAJ0AnwCgAKkAqgCrAK0ArgCvALUAtgC9AL8AwQDCAMQAxQDGAMoAywDNAM4A0QDTANQA1QDWANcA2gDcAN0A3wDhAOIA5ADmAOgA6wDsAO4A7wA=",
          "dtype": "i2"
         },
         "xaxis": "x",
         "y": {
          "bdata": "zczMzMzsaEAAAAAAAABWQGZmZmZmhlBAmpmZmZmZWEAAAAAAAKBiQGZmZmZmJmBAZmZmZmYGX0AAAAAAAEBZQJqZmZmZOWVAmpmZmZl5VkBmZmZmZtZgQDMzMzMzs1FAZmZmZmbmYkCamZmZmblgQAAAAAAAIFBAZmZmZmZmWkBmZmZmZuZWQJqZmZmZOWBAAAAAAABgZUAzMzMzM7NZQJqZmZmZiWNAAAAAAACAVUAAAAAAAABVQGZmZmZmhmJAZmZmZmamXkBmZmZmZiZgQDMzMzMz81lAzczMzMzMW0AAAAAAAABcQDMzMzMzE1RAZmZmZmamYkAAAAAAAABPQDMzMzMzc1ZAMzMzMzPzY0AAAAAAAIBWQDMzMzMz819AMzMzMzOzXUCamZmZmfljQJqZmZmZuWFAAAAAAADAZEAzMzMzM/NbQJqZmZmZ+WJAmpmZmZlZUkBmZmZmZmZdQGZmZmZmZjpAzczMzMysXUBmZmZmZkZgQM3MzMzMLF5AzczMzMxsW0AzMzMzMzNBQAAAAAAAQFdAMzMzMzPzXUAzMzMzM/NhQDMzMzMzE2VAmpmZmZkZaEAzMzMzMwNrQM3MzMzM3GBAMzMzMzMzWUBmZmZmZiZtQDMzMzMz81JAmpmZmZk5Z0BmZmZmZmZbQM3MzMzMDE5AmpmZmZmZNECamZmZmRlFQGZmZmZmZlFAAAAAAADAUkAzMzMzMzNeQJqZmZmZeWFAMzMzMzNzYUAzMzMzMzNYQJqZmZmZGVNAzczMzMwMV0BmZmZmZqZWQJqZmZmZmWNAAAAAAABAXECamZmZmfljQAAAAAAAwGJAmpmZmZk5YUDNzMzMzMxVQM3MzMzMTFhAmpmZmZnZXECamZmZmRlWQJqZmZmZGWNAmpmZmZkZS0DNzMzMzExMQGZmZmZm5k1AmpmZmZnZWUBmZmZmZuZJQGZmZmZmZmVAmpmZmZkZaUCamZmZmRlPQM3MzMzMbFlAmpmZmZkZY0BmZmZmZqZUQJqZmZmZWWdAZmZmZmZmOEBmZmZmZuZgQJqZmZmZGVtAAAAAAADAXUCamZmZmVlhQJqZmZmZ2V5AMzMzMzPzV0BmZmZmZuZiQDMzMzMzMz9AZmZmZmaGYUCamZmZmZliQJqZmZmZeWZAzczMzMxMU0BmZmZmZsZgQM3MzMzMzF1AMzMzMzPTW0A=",
          "dtype": "f8"
         },
         "yaxis": "y"
        }
       ],
       "layout": {
        "legend": {
         "title": {
          "text": "Tag"
         },
         "tracegroupgap": 0
        },
        "template": {
         "data": {
          "bar": [
           {
            "error_x": {
             "color": "#2a3f5f"
            },
            "error_y": {
             "color": "#2a3f5f"
            },
            "marker": {
             "line": {
              "color": "#E5ECF6",
              "width": 0.5
             },
             "pattern": {
              "fillmode": "overlay",
              "size": 10,
              "solidity": 0.2
             }
            },
            "type": "bar"
           }
          ],
          "barpolar": [
           {
            "marker": {
             "line": {
              "color": "#E5ECF6",
              "width": 0.5
             },
             "pattern": {
              "fillmode": "overlay",
              "size": 10,
              "solidity": 0.2
             }
            },
            "type": "barpolar"
           }
          ],
          "carpet": [
           {
            "aaxis": {
             "endlinecolor": "#2a3f5f",
             "gridcolor": "white",
             "linecolor": "white",
             "minorgridcolor": "white",
             "startlinecolor": "#2a3f5f"
            },
            "baxis": {
             "endlinecolor": "#2a3f5f",
             "gridcolor": "white",
             "linecolor": "white",
             "minorgridcolor": "white",
             "startlinecolor": "#2a3f5f"
            },
            "type": "carpet"
           }
          ],
          "choropleth": [
           {
            "colorbar": {
             "outlinewidth": 0,
             "ticks": ""
            },
            "type": "choropleth"
           }
          ],
          "contour": [
           {
            "colorbar": {
             "outlinewidth": 0,
             "ticks": ""
            },
            "colorscale": [
             [
              0,
              "#0d0887"
             ],
             [
              0.1111111111111111,
              "#46039f"
             ],
             [
              0.2222222222222222,
              "#7201a8"
             ],
             [
              0.3333333333333333,
              "#9c179e"
             ],
             [
              0.4444444444444444,
              "#bd3786"
             ],
             [
              0.5555555555555556,
              "#d8576b"
             ],
             [
              0.6666666666666666,
              "#ed7953"
             ],
             [
              0.7777777777777778,
              "#fb9f3a"
             ],
             [
              0.8888888888888888,
              "#fdca26"
             ],
             [
              1,
              "#f0f921"
             ]
            ],
            "type": "contour"
           }
          ],
          "contourcarpet": [
           {
            "colorbar": {
             "outlinewidth": 0,
             "ticks": ""
            },
            "type": "contourcarpet"
           }
          ],
          "heatmap": [
           {
            "colorbar": {
             "outlinewidth": 0,
             "ticks": ""
            },
            "colorscale": [
             [
              0,
              "#0d0887"
             ],
             [
              0.1111111111111111,
              "#46039f"
             ],
             [
              0.2222222222222222,
              "#7201a8"
             ],
             [
              0.3333333333333333,
              "#9c179e"
             ],
             [
              0.4444444444444444,
              "#bd3786"
             ],
             [
              0.5555555555555556,
              "#d8576b"
             ],
             [
              0.6666666666666666,
              "#ed7953"
             ],
             [
              0.7777777777777778,
              "#fb9f3a"
             ],
             [
              0.8888888888888888,
              "#fdca26"
             ],
             [
              1,
              "#f0f921"
             ]
            ],
            "type": "heatmap"
           }
          ],
          "histogram": [
           {
            "marker": {
             "pattern": {
              "fillmode": "overlay",
              "size": 10,
              "solidity": 0.2
             }
            },
            "type": "histogram"
           }
          ],
          "histogram2d": [
           {
            "colorbar": {
             "outlinewidth": 0,
             "ticks": ""
            },
            "colorscale": [
             [
              0,
              "#0d0887"
             ],
             [
              0.1111111111111111,
              "#46039f"
             ],
             [
              0.2222222222222222,
              "#7201a8"
             ],
             [
              0.3333333333333333,
              "#9c179e"
             ],
             [
              0.4444444444444444,
              "#bd3786"
             ],
             [
              0.5555555555555556,
              "#d8576b"
             ],
             [
              0.6666666666666666,
              "#ed7953"
             ],
             [
              0.7777777777777778,
              "#fb9f3a"
             ],
             [
              0.8888888888888888,
              "#fdca26"
             ],
             [
              1,
              "#f0f921"
             ]
            ],
            "type": "histogram2d"
           }
          ],
          "histogram2dcontour": [
           {
            "colorbar": {
             "outlinewidth": 0,
             "ticks": ""
            },
            "colorscale": [
             [
              0,
              "#0d0887"
             ],
             [
              0.1111111111111111,
              "#46039f"
             ],
             [
              0.2222222222222222,
              "#7201a8"
             ],
             [
              0.3333333333333333,
              "#9c179e"
             ],
             [
              0.4444444444444444,
              "#bd3786"
             ],
             [
              0.5555555555555556,
              "#d8576b"
             ],
             [
              0.6666666666666666,
              "#ed7953"
             ],
             [
              0.7777777777777778,
              "#fb9f3a"
             ],
             [
              0.8888888888888888,
              "#fdca26"
             ],
             [
              1,
              "#f0f921"
             ]
            ],
            "type": "histogram2dcontour"
           }
          ],
          "mesh3d": [
           {
            "colorbar": {
             "outlinewidth": 0,
             "ticks": ""
            },
            "type": "mesh3d"
           }
          ],
          "parcoords": [
           {
            "line": {
             "colorbar": {
              "outlinewidth": 0,
              "ticks": ""
             }
            },
            "type": "parcoords"
           }
          ],
          "pie": [
           {
            "automargin": true,
            "type": "pie"
           }
          ],
          "scatter": [
           {
            "fillpattern": {
             "fillmode": "overlay",
             "size": 10,
             "solidity": 0.2
            },
            "type": "scatter"
           }
          ],
          "scatter3d": [
           {
            "line": {
             "colorbar": {
              "outlinewidth": 0,
              "ticks": ""
             }
            },
            "marker": {
             "colorbar": {
              "outlinewidth": 0,
              "ticks": ""
             }
            },
            "type": "scatter3d"
           }
          ],
          "scattercarpet": [
           {
            "marker": {
             "colorbar": {
              "outlinewidth": 0,
              "ticks": ""
             }
            },
            "type": "scattercarpet"
           }
          ],
          "scattergeo": [
           {
            "marker": {
             "colorbar": {
              "outlinewidth": 0,
              "ticks": ""
             }
            },
            "type": "scattergeo"
           }
          ],
          "scattergl": [
           {
            "marker": {
             "colorbar": {
              "outlinewidth": 0,
              "ticks": ""
             }
            },
            "type": "scattergl"
           }
          ],
          "scattermap": [
           {
            "marker": {
             "colorbar": {
              "outlinewidth": 0,
              "ticks": ""
             }
            },
            "type": "scattermap"
           }
          ],
          "scattermapbox": [
           {
            "marker": {
             "colorbar": {
              "outlinewidth": 0,
              "ticks": ""
             }
            },
            "type": "scattermapbox"
           }
          ],
          "scatterpolar": [
           {
            "marker": {
             "colorbar": {
              "outlinewidth": 0,
              "ticks": ""
             }
            },
            "type": "scatterpolar"
           }
          ],
          "scatterpolargl": [
           {
            "marker": {
             "colorbar": {
              "outlinewidth": 0,
              "ticks": ""
             }
            },
            "type": "scatterpolargl"
           }
          ],
          "scatterternary": [
           {
            "marker": {
             "colorbar": {
              "outlinewidth": 0,
              "ticks": ""
             }
            },
            "type": "scatterternary"
           }
          ],
          "surface": [
           {
            "colorbar": {
             "outlinewidth": 0,
             "ticks": ""
            },
            "colorscale": [
             [
              0,
              "#0d0887"
             ],
             [
              0.1111111111111111,
              "#46039f"
             ],
             [
              0.2222222222222222,
              "#7201a8"
             ],
             [
              0.3333333333333333,
              "#9c179e"
             ],
             [
              0.4444444444444444,
              "#bd3786"
             ],
             [
              0.5555555555555556,
              "#d8576b"
             ],
             [
              0.6666666666666666,
              "#ed7953"
             ],
             [
              0.7777777777777778,
              "#fb9f3a"
             ],
             [
              0.8888888888888888,
              "#fdca26"
             ],
             [
              1,
              "#f0f921"
             ]
            ],
            "type": "surface"
           }
          ],
          "table": [
           {
            "cells": {
             "fill": {
              "color": "#EBF0F8"
             },
             "line": {
              "color": "white"
             }
            },
            "header": {
             "fill": {
              "color": "#C8D4E3"
             },
             "line": {
              "color": "white"
             }
            },
            "type": "table"
           }
          ]
         },
         "layout": {
          "annotationdefaults": {
           "arrowcolor": "#2a3f5f",
           "arrowhead": 0,
           "arrowwidth": 1
          },
          "autotypenumbers": "strict",
          "coloraxis": {
           "colorbar": {
            "outlinewidth": 0,
            "ticks": ""
           }
          },
          "colorscale": {
           "diverging": [
            [
             0,
             "#8e0152"
            ],
            [
             0.1,
             "#c51b7d"
            ],
            [
             0.2,
             "#de77ae"
            ],
            [
             0.3,
             "#f1b6da"
            ],
            [
             0.4,
             "#fde0ef"
            ],
            [
             0.5,
             "#f7f7f7"
            ],
            [
             0.6,
             "#e6f5d0"
            ],
            [
             0.7,
             "#b8e186"
            ],
            [
             0.8,
             "#7fbc41"
            ],
            [
             0.9,
             "#4d9221"
            ],
            [
             1,
             "#276419"
            ]
           ],
           "sequential": [
            [
             0,
             "#0d0887"
            ],
            [
             0.1111111111111111,
             "#46039f"
            ],
            [
             0.2222222222222222,
             "#7201a8"
            ],
            [
             0.3333333333333333,
             "#9c179e"
            ],
            [
             0.4444444444444444,
             "#bd3786"
            ],
            [
             0.5555555555555556,
             "#d8576b"
            ],
            [
             0.6666666666666666,
             "#ed7953"
            ],
            [
             0.7777777777777778,
             "#fb9f3a"
            ],
            [
             0.8888888888888888,
             "#fdca26"
            ],
            [
             1,
             "#f0f921"
            ]
           ],
           "sequentialminus": [
            [
             0,
             "#0d0887"
            ],
            [
             0.1111111111111111,
             "#46039f"
            ],
            [
             0.2222222222222222,
             "#7201a8"
            ],
            [
             0.3333333333333333,
             "#9c179e"
            ],
            [
             0.4444444444444444,
             "#bd3786"
            ],
            [
             0.5555555555555556,
             "#d8576b"
            ],
            [
             0.6666666666666666,
             "#ed7953"
            ],
            [
             0.7777777777777778,
             "#fb9f3a"
            ],
            [
             0.8888888888888888,
             "#fdca26"
            ],
            [
             1,
             "#f0f921"
            ]
           ]
          },
          "colorway": [
           "#636efa",
           "#EF553B",
           "#00cc96",
           "#ab63fa",
           "#FFA15A",
           "#19d3f3",
           "#FF6692",
           "#B6E880",
           "#FF97FF",
           "#FECB52"
          ],
          "font": {
           "color": "#2a3f5f"
          },
          "geo": {
           "bgcolor": "white",
           "lakecolor": "white",
           "landcolor": "#E5ECF6",
           "showlakes": true,
           "showland": true,
           "subunitcolor": "white"
          },
          "hoverlabel": {
           "align": "left"
          },
          "hovermode": "closest",
          "mapbox": {
           "style": "light"
          },
          "paper_bgcolor": "white",
          "plot_bgcolor": "#E5ECF6",
          "polar": {
           "angularaxis": {
            "gridcolor": "white",
            "linecolor": "white",
            "ticks": ""
           },
           "bgcolor": "#E5ECF6",
           "radialaxis": {
            "gridcolor": "white",
            "linecolor": "white",
            "ticks": ""
           }
          },
          "scene": {
           "xaxis": {
            "backgroundcolor": "#E5ECF6",
            "gridcolor": "white",
            "gridwidth": 2,
            "linecolor": "white",
            "showbackground": true,
            "ticks": "",
            "zerolinecolor": "white"
           },
           "yaxis": {
            "backgroundcolor": "#E5ECF6",
            "gridcolor": "white",
            "gridwidth": 2,
            "linecolor": "white",
            "showbackground": true,
            "ticks": "",
            "zerolinecolor": "white"
           },
           "zaxis": {
            "backgroundcolor": "#E5ECF6",
            "gridcolor": "white",
            "gridwidth": 2,
            "linecolor": "white",
            "showbackground": true,
            "ticks": "",
            "zerolinecolor": "white"
           }
          },
          "shapedefaults": {
           "line": {
            "color": "#2a3f5f"
           }
          },
          "ternary": {
           "aaxis": {
            "gridcolor": "white",
            "linecolor": "white",
            "ticks": ""
           },
           "baxis": {
            "gridcolor": "white",
            "linecolor": "white",
            "ticks": ""
           },
           "bgcolor": "#E5ECF6",
           "caxis": {
            "gridcolor": "white",
            "linecolor": "white",
            "ticks": ""
           }
          },
          "title": {
           "x": 0.05
          },
          "xaxis": {
           "automargin": true,
           "gridcolor": "white",
           "linecolor": "white",
           "ticks": "",
           "title": {
            "standoff": 15
           },
           "zerolinecolor": "white",
           "zerolinewidth": 2
          },
          "yaxis": {
           "automargin": true,
           "gridcolor": "white",
           "linecolor": "white",
           "ticks": "",
           "title": {
            "standoff": 15
           },
           "zerolinecolor": "white",
           "zerolinewidth": 2
          }
         }
        },
        "title": {
         "text": "Manhattan distances from training vectors to test vector: [62.0, 1.0, 4.0, 120.0, 267.0, 0.0, 0.0, 99.0, 1.0, 1.8, 2.0, 2.0, 7.0]",
         "x": 0.5
        },
        "xaxis": {
         "anchor": "y",
         "domain": [
          0,
          1
         ],
         "title": {
          "text": "Vector index"
         }
        },
        "yaxis": {
         "anchor": "x",
         "domain": [
          0,
          1
         ],
         "title": {
          "text": "Manhattan distance"
         }
        }
       }
      },
      "image/png": "[encoded data removed]"
     },
     "metadata": {},
     "output_type": "display_data"
    }
   ],
   "source": [
    "import plotly.express as px\n",
    "\n",
    "training, training_labels = prepare_samples(\"training.txt\")\n",
    "test, _ = prepare_samples(\"test.txt\")\n",
    "\n",
    "manhattan_distances = [manhattan_distance(v, test[0]) for v in training]\n",
    "\n",
    "fig = px.scatter(\n",
    "    y=manhattan_distances,\n",
    "    x=list(range(len(manhattan_distances))),\n",
    "    color=training_labels,\n",
    "    title=f\"Manhattan distances from training vectors to test vector: {test[0]}\",\n",
    "    labels={\n",
    "        'y': 'Manhattan distance',\n",
    "        'x': 'Vector indecx',\n",
    "        'color': 'Tag'\n",
    "    }\n",
    ")\n",
    "fig.update_traces(marker=dict(size=8, opacity=0.7, line=dict(width=1, color='DarkSlateGrey')))\n",
    "fig.update_layout(\n",
    "    xaxis_title=\"Vector index\",\n",
    "    yaxis_title=\"Manhattan distance\",\n",
    "    title_x=0.5,\n",
    "    legend_title_text='Tag'\n",
    ")\n",
    "\n",
    "fig.show()"
   ]
  },
  {
   "cell_type": "markdown",
   "id": "5892f0ca-a6fa-4591-966b-6cdde2e77182",
   "metadata": {},
   "source": [
    "In this figure I chose a random test vector, and computed the manhattan distance for each one of the training vectors respecting to it. With this, I found out that for this model, it will give a better accuracy score for more features we can have in the dataset, because the more features, the more difference will exist with different vectors, allowing to classify each records with better presicion"
   ]
  },
  {
   "cell_type": "markdown",
   "id": "0958f96d-b7cf-465a-9e8c-5ac14ceae79a",
   "metadata": {},
   "source": [
    "Graph 2: confusion matrix "
   ]
  },
  {
   "cell_type": "code",
   "execution_count": 11,
   "id": "a15196c1-b4f5-4510-a023-527ae8d6b648",
   "metadata": {},
   "outputs": [
    {
     "data": {
      "application/vnd.plotly.v1+json": {
       "config": {
        "plotlyServerURL": "https://plot.ly"
       },
       "data": [
        {
         "coloraxis": "coloraxis",
         "hovertemplate": "Predicted Label: %{x}<br>True Label: %{y}<br>Count: %{z}<extra></extra>",
         "name": "0",
         "texttemplate": "%{z}",
         "type": "heatmap",
         "x": [
          "Absence",
          "Present"
         ],
         "xaxis": "x",
         "y": [
          "Absence",
          "Present"
         ],
         "yaxis": "y",
         "z": {
          "bdata": "HwMKEQ==",
          "dtype": "i1",
          "shape": "2, 2"
         }
        }
       ],
       "layout": {
        "coloraxis": {
         "colorbar": {
          "title": {
           "text": "Count"
          }
         },
         "colorscale": [
          [
           0,
           "rgb(247,251,255)"
          ],
          [
           0.125,
           "rgb(222,235,247)"
          ],
          [
           0.25,
           "rgb(198,219,239)"
          ],
          [
           0.375,
           "rgb(158,202,225)"
          ],
          [
           0.5,
           "rgb(107,174,214)"
          ],
          [
           0.625,
           "rgb(66,146,198)"
          ],
          [
           0.75,
           "rgb(33,113,181)"
          ],
          [
           0.875,
           "rgb(8,81,156)"
          ],
          [
           1,
           "rgb(8,48,107)"
          ]
         ]
        },
        "template": {
         "data": {
          "bar": [
           {
            "error_x": {
             "color": "#2a3f5f"
            },
            "error_y": {
             "color": "#2a3f5f"
            },
            "marker": {
             "line": {
              "color": "#E5ECF6",
              "width": 0.5
             },
             "pattern": {
              "fillmode": "overlay",
              "size": 10,
              "solidity": 0.2
             }
            },
            "type": "bar"
           }
          ],
          "barpolar": [
           {
            "marker": {
             "line": {
              "color": "#E5ECF6",
              "width": 0.5
             },
             "pattern": {
              "fillmode": "overlay",
              "size": 10,
              "solidity": 0.2
             }
            },
            "type": "barpolar"
           }
          ],
          "carpet": [
           {
            "aaxis": {
             "endlinecolor": "#2a3f5f",
             "gridcolor": "white",
             "linecolor": "white",
             "minorgridcolor": "white",
             "startlinecolor": "#2a3f5f"
            },
            "baxis": {
             "endlinecolor": "#2a3f5f",
             "gridcolor": "white",
             "linecolor": "white",
             "minorgridcolor": "white",
             "startlinecolor": "#2a3f5f"
            },
            "type": "carpet"
           }
          ],
          "choropleth": [
           {
            "colorbar": {
             "outlinewidth": 0,
             "ticks": ""
            },
            "type": "choropleth"
           }
          ],
          "contour": [
           {
            "colorbar": {
             "outlinewidth": 0,
             "ticks": ""
            },
            "colorscale": [
             [
              0,
              "#0d0887"
             ],
             [
              0.1111111111111111,
              "#46039f"
             ],
             [
              0.2222222222222222,
              "#7201a8"
             ],
             [
              0.3333333333333333,
              "#9c179e"
             ],
             [
              0.4444444444444444,
              "#bd3786"
             ],
             [
              0.5555555555555556,
              "#d8576b"
             ],
             [
              0.6666666666666666,
              "#ed7953"
             ],
             [
              0.7777777777777778,
              "#fb9f3a"
             ],
             [
              0.8888888888888888,
              "#fdca26"
             ],
             [
              1,
              "#f0f921"
             ]
            ],
            "type": "contour"
           }
          ],
          "contourcarpet": [
           {
            "colorbar": {
             "outlinewidth": 0,
             "ticks": ""
            },
            "type": "contourcarpet"
           }
          ],
          "heatmap": [
           {
            "colorbar": {
             "outlinewidth": 0,
             "ticks": ""
            },
            "colorscale": [
             [
              0,
              "#0d0887"
             ],
             [
              0.1111111111111111,
              "#46039f"
             ],
             [
              0.2222222222222222,
              "#7201a8"
             ],
             [
              0.3333333333333333,
              "#9c179e"
             ],
             [
              0.4444444444444444,
              "#bd3786"
             ],
             [
              0.5555555555555556,
              "#d8576b"
             ],
             [
              0.6666666666666666,
              "#ed7953"
             ],
             [
              0.7777777777777778,
              "#fb9f3a"
             ],
             [
              0.8888888888888888,
              "#fdca26"
             ],
             [
              1,
              "#f0f921"
             ]
            ],
            "type": "heatmap"
           }
          ],
          "histogram": [
           {
            "marker": {
             "pattern": {
              "fillmode": "overlay",
              "size": 10,
              "solidity": 0.2
             }
            },
            "type": "histogram"
           }
          ],
          "histogram2d": [
           {
            "colorbar": {
             "outlinewidth": 0,
             "ticks": ""
            },
            "colorscale": [
             [
              0,
              "#0d0887"
             ],
             [
              0.1111111111111111,
              "#46039f"
             ],
             [
              0.2222222222222222,
              "#7201a8"
             ],
             [
              0.3333333333333333,
              "#9c179e"
             ],
             [
              0.4444444444444444,
              "#bd3786"
             ],
             [
              0.5555555555555556,
              "#d8576b"
             ],
             [
              0.6666666666666666,
              "#ed7953"
             ],
             [
              0.7777777777777778,
              "#fb9f3a"
             ],
             [
              0.8888888888888888,
              "#fdca26"
             ],
             [
              1,
              "#f0f921"
             ]
            ],
            "type": "histogram2d"
           }
          ],
          "histogram2dcontour": [
           {
            "colorbar": {
             "outlinewidth": 0,
             "ticks": ""
            },
            "colorscale": [
             [
              0,
              "#0d0887"
             ],
             [
              0.1111111111111111,
              "#46039f"
             ],
             [
              0.2222222222222222,
              "#7201a8"
             ],
             [
              0.3333333333333333,
              "#9c179e"
             ],
             [
              0.4444444444444444,
              "#bd3786"
             ],
             [
              0.5555555555555556,
              "#d8576b"
             ],
             [
              0.6666666666666666,
              "#ed7953"
             ],
             [
              0.7777777777777778,
              "#fb9f3a"
             ],
             [
              0.8888888888888888,
              "#fdca26"
             ],
             [
              1,
              "#f0f921"
             ]
            ],
            "type": "histogram2dcontour"
           }
          ],
          "mesh3d": [
           {
            "colorbar": {
             "outlinewidth": 0,
             "ticks": ""
            },
            "type": "mesh3d"
           }
          ],
          "parcoords": [
           {
            "line": {
             "colorbar": {
              "outlinewidth": 0,
              "ticks": ""
             }
            },
            "type": "parcoords"
           }
          ],
          "pie": [
           {
            "automargin": true,
            "type": "pie"
           }
          ],
          "scatter": [
           {
            "fillpattern": {
             "fillmode": "overlay",
             "size": 10,
             "solidity": 0.2
            },
            "type": "scatter"
           }
          ],
          "scatter3d": [
           {
            "line": {
             "colorbar": {
              "outlinewidth": 0,
              "ticks": ""
             }
            },
            "marker": {
             "colorbar": {
              "outlinewidth": 0,
              "ticks": ""
             }
            },
            "type": "scatter3d"
           }
          ],
          "scattercarpet": [
           {
            "marker": {
             "colorbar": {
              "outlinewidth": 0,
              "ticks": ""
             }
            },
            "type": "scattercarpet"
           }
          ],
          "scattergeo": [
           {
            "marker": {
             "colorbar": {
              "outlinewidth": 0,
              "ticks": ""
             }
            },
            "type": "scattergeo"
           }
          ],
          "scattergl": [
           {
            "marker": {
             "colorbar": {
              "outlinewidth": 0,
              "ticks": ""
             }
            },
            "type": "scattergl"
           }
          ],
          "scattermap": [
           {
            "marker": {
             "colorbar": {
              "outlinewidth": 0,
              "ticks": ""
             }
            },
            "type": "scattermap"
           }
          ],
          "scattermapbox": [
           {
            "marker": {
             "colorbar": {
              "outlinewidth": 0,
              "ticks": ""
             }
            },
            "type": "scattermapbox"
           }
          ],
          "scatterpolar": [
           {
            "marker": {
             "colorbar": {
              "outlinewidth": 0,
              "ticks": ""
             }
            },
            "type": "scatterpolar"
           }
          ],
          "scatterpolargl": [
           {
            "marker": {
             "colorbar": {
              "outlinewidth": 0,
              "ticks": ""
             }
            },
            "type": "scatterpolargl"
           }
          ],
          "scatterternary": [
           {
            "marker": {
             "colorbar": {
              "outlinewidth": 0,
              "ticks": ""
             }
            },
            "type": "scatterternary"
           }
          ],
          "surface": [
           {
            "colorbar": {
             "outlinewidth": 0,
             "ticks": ""
            },
            "colorscale": [
             [
              0,
              "#0d0887"
             ],
             [
              0.1111111111111111,
              "#46039f"
             ],
             [
              0.2222222222222222,
              "#7201a8"
             ],
             [
              0.3333333333333333,
              "#9c179e"
             ],
             [
              0.4444444444444444,
              "#bd3786"
             ],
             [
              0.5555555555555556,
              "#d8576b"
             ],
             [
              0.6666666666666666,
              "#ed7953"
             ],
             [
              0.7777777777777778,
              "#fb9f3a"
             ],
             [
              0.8888888888888888,
              "#fdca26"
             ],
             [
              1,
              "#f0f921"
             ]
            ],
            "type": "surface"
           }
          ],
          "table": [
           {
            "cells": {
             "fill": {
              "color": "#EBF0F8"
             },
             "line": {
              "color": "white"
             }
            },
            "header": {
             "fill": {
              "color": "#C8D4E3"
             },
             "line": {
              "color": "white"
             }
            },
            "type": "table"
           }
          ]
         },
         "layout": {
          "annotationdefaults": {
           "arrowcolor": "#2a3f5f",
           "arrowhead": 0,
           "arrowwidth": 1
          },
          "autotypenumbers": "strict",
          "coloraxis": {
           "colorbar": {
            "outlinewidth": 0,
            "ticks": ""
           }
          },
          "colorscale": {
           "diverging": [
            [
             0,
             "#8e0152"
            ],
            [
             0.1,
             "#c51b7d"
            ],
            [
             0.2,
             "#de77ae"
            ],
            [
             0.3,
             "#f1b6da"
            ],
            [
             0.4,
             "#fde0ef"
            ],
            [
             0.5,
             "#f7f7f7"
            ],
            [
             0.6,
             "#e6f5d0"
            ],
            [
             0.7,
             "#b8e186"
            ],
            [
             0.8,
             "#7fbc41"
            ],
            [
             0.9,
             "#4d9221"
            ],
            [
             1,
             "#276419"
            ]
           ],
           "sequential": [
            [
             0,
             "#0d0887"
            ],
            [
             0.1111111111111111,
             "#46039f"
            ],
            [
             0.2222222222222222,
             "#7201a8"
            ],
            [
             0.3333333333333333,
             "#9c179e"
            ],
            [
             0.4444444444444444,
             "#bd3786"
            ],
            [
             0.5555555555555556,
             "#d8576b"
            ],
            [
             0.6666666666666666,
             "#ed7953"
            ],
            [
             0.7777777777777778,
             "#fb9f3a"
            ],
            [
             0.8888888888888888,
             "#fdca26"
            ],
            [
             1,
             "#f0f921"
            ]
           ],
           "sequentialminus": [
            [
             0,
             "#0d0887"
            ],
            [
             0.1111111111111111,
             "#46039f"
            ],
            [
             0.2222222222222222,
             "#7201a8"
            ],
            [
             0.3333333333333333,
             "#9c179e"
            ],
            [
             0.4444444444444444,
             "#bd3786"
            ],
            [
             0.5555555555555556,
             "#d8576b"
            ],
            [
             0.6666666666666666,
             "#ed7953"
            ],
            [
             0.7777777777777778,
             "#fb9f3a"
            ],
            [
             0.8888888888888888,
             "#fdca26"
            ],
            [
             1,
             "#f0f921"
            ]
           ]
          },
          "colorway": [
           "#636efa",
           "#EF553B",
           "#00cc96",
           "#ab63fa",
           "#FFA15A",
           "#19d3f3",
           "#FF6692",
           "#B6E880",
           "#FF97FF",
           "#FECB52"
          ],
          "font": {
           "color": "#2a3f5f"
          },
          "geo": {
           "bgcolor": "white",
           "lakecolor": "white",
           "landcolor": "#E5ECF6",
           "showlakes": true,
           "showland": true,
           "subunitcolor": "white"
          },
          "hoverlabel": {
           "align": "left"
          },
          "hovermode": "closest",
          "mapbox": {
           "style": "light"
          },
          "paper_bgcolor": "white",
          "plot_bgcolor": "#E5ECF6",
          "polar": {
           "angularaxis": {
            "gridcolor": "white",
            "linecolor": "white",
            "ticks": ""
           },
           "bgcolor": "#E5ECF6",
           "radialaxis": {
            "gridcolor": "white",
            "linecolor": "white",
            "ticks": ""
           }
          },
          "scene": {
           "xaxis": {
            "backgroundcolor": "#E5ECF6",
            "gridcolor": "white",
            "gridwidth": 2,
            "linecolor": "white",
            "showbackground": true,
            "ticks": "",
            "zerolinecolor": "white"
           },
           "yaxis": {
            "backgroundcolor": "#E5ECF6",
            "gridcolor": "white",
            "gridwidth": 2,
            "linecolor": "white",
            "showbackground": true,
            "ticks": "",
            "zerolinecolor": "white"
           },
           "zaxis": {
            "backgroundcolor": "#E5ECF6",
            "gridcolor": "white",
            "gridwidth": 2,
            "linecolor": "white",
            "showbackground": true,
            "ticks": "",
            "zerolinecolor": "white"
           }
          },
          "shapedefaults": {
           "line": {
            "color": "#2a3f5f"
           }
          },
          "ternary": {
           "aaxis": {
            "gridcolor": "white",
            "linecolor": "white",
            "ticks": ""
           },
           "baxis": {
            "gridcolor": "white",
            "linecolor": "white",
            "ticks": ""
           },
           "bgcolor": "#E5ECF6",
           "caxis": {
            "gridcolor": "white",
            "linecolor": "white",
            "ticks": ""
           }
          },
          "title": {
           "x": 0.05
          },
          "xaxis": {
           "automargin": true,
           "gridcolor": "white",
           "linecolor": "white",
           "ticks": "",
           "title": {
            "standoff": 15
           },
           "zerolinecolor": "white",
           "zerolinewidth": 2
          },
          "yaxis": {
           "automargin": true,
           "gridcolor": "white",
           "linecolor": "white",
           "ticks": "",
           "title": {
            "standoff": 15
           },
           "zerolinecolor": "white",
           "zerolinewidth": 2
          }
         }
        },
        "title": {
         "text": "Confusion Matrix for Manual KNN (k=6)",
         "x": 0.5
        },
        "xaxis": {
         "anchor": "y",
         "constrain": "domain",
         "domain": [
          0,
          1
         ],
         "scaleanchor": "y",
         "title": {
          "text": "Predicted Label"
         }
        },
        "yaxis": {
         "anchor": "x",
         "autorange": "reversed",
         "constrain": "domain",
         "domain": [
          0,
          1
         ],
         "title": {
          "text": "True Label"
         }
        }
       }
      },
      "image/png": "[encoded data removed]"
     },
     "metadata": {},
     "output_type": "display_data"
    }
   ],
   "source": [
    "import plotly.express as px\n",
    "from sklearn.metrics import confusion_matrix\n",
    "import pandas as pd\n",
    "\n",
    "best_k = best_manual_k[0]\n",
    "predictions = [classify(vector, training, training_labels, best_k) for vector in test]\n",
    "\n",
    "labels = [\"Absence\", \"Present\"]\n",
    "cm = confusion_matrix(test_labels, predictions, labels=labels)\n",
    "\n",
    "fig = px.imshow(cm,\n",
    "                labels=dict(x=\"Predicted Label\", y=\"True Label\", color=\"Count\"),\n",
    "                x=labels,\n",
    "                y=labels,\n",
    "                text_auto=True,\n",
    "                color_continuous_scale='Blues',\n",
    "                title=f\"Confusion Matrix for Manual KNN (k={best_k})\")\n",
    "\n",
    "fig.update_layout(title_x=0.5)\n",
    "fig.show()"
   ]
  },
  {
   "cell_type": "markdown",
   "id": "3f605e04-bf36-48e7-92a8-d3cd8048c02b",
   "metadata": {},
   "source": [
    "This matrix is a standard plot for exaluating the performance of a classification model. In this case, this KNN model only classifies between a binary tag, but in case more tags are added, this graph will not be elegible for determining the performance of the model"
   ]
  },
  {
   "cell_type": "markdown",
   "id": "fa92977a-b154-4e8a-b8fe-8bd859ae61af",
   "metadata": {},
   "source": [
    "## KNN with scikit-learn"
   ]
  },
  {
   "cell_type": "code",
   "execution_count": 12,
   "id": "90ddd80f-952c-4bf7-b3bc-c0778ce02cf0",
   "metadata": {},
   "outputs": [],
   "source": [
    "from sklearn.neighbors import KNeighborsClassifier\n",
    "from sklearn.metrics import accuracy_score\n",
    "import numpy as np\n",
    "from typing import Tuple\n",
    "\n",
    "training, training_labels = prepare_samples(\"training.txt\")\n",
    "test, test_labels = prepare_samples(\"test.txt\")\n",
    "\n",
    "\n",
    "def knn_sklearn(training, training_labels, test, test_labels, k: int=5, p: int = 1) -> Tuple[int, str, float]:\n",
    "    distances_formulas = {\n",
    "        1: \"Manhattan\",\n",
    "        2: \"Euclidean\",\n",
    "    }\n",
    "    \n",
    "    # Create the model object\n",
    "    knn = KNeighborsClassifier(n_neighbors=k, p=p)\n",
    "    \n",
    "    # Train the model\n",
    "    knn.fit(training, training_labels)\n",
    "    \n",
    "    # Make predictions on the test data\n",
    "    predictions = knn.predict(test)\n",
    "\n",
    "    # Evaluate the model performance\n",
    "    accuracy = accuracy_score(test_labels,predictions)\n",
    "\n",
    "    return k, distances_formulas.get(p, \"Minkowski\"), accuracy"
   ]
  },
  {
   "cell_type": "markdown",
   "id": "356ceca5-888e-4c69-bbc1-c2bab6cdd810",
   "metadata": {},
   "source": [
    "This function wraps the sklearn implementation for a KNN model. It is very straighforward, and allows a lot os suctomization, determining the k number, the vector similarity criteria, among other caracteristics"
   ]
  },
  {
   "cell_type": "markdown",
   "id": "6bfdaaa1-9509-42d7-b1ed-6898a4454c4e",
   "metadata": {},
   "source": [
    "## Model accuracies with different k parameter (HW sklearn point 1)"
   ]
  },
  {
   "cell_type": "code",
   "execution_count": 13,
   "id": "03c31d13-b062-4364-8688-c41e300ddf01",
   "metadata": {},
   "outputs": [
    {
     "data": {
      "application/vnd.plotly.v1+json": {
       "config": {
        "plotlyServerURL": "https://plot.ly"
       },
       "data": [
        {
         "hovertemplate": "Number of Neighbors (k)=%{x}<br>Model Accuracy=%{text}<extra></extra>",
         "legendgroup": "",
         "marker": {
          "color": "#636efa",
          "pattern": {
           "shape": ""
          }
         },
         "name": "",
         "orientation": "v",
         "showlegend": false,
         "text": {
          "bdata": "P8UlQ7CO5j8/xSVDsI7mP+OSIVhHm+c/tHmf4pIh6D+GYB1t3qfoP4ZgHW3ep+g/hmAdbd6n6D/jkiFYR5vnP+OSIVhHm+c/tHmf4pIh6D8/xSVDsI7mPxGso837FOc/P8UlQ7CO5j8/xSVDsI7mPz/FJUOwjuY/P8UlQ7CO5j9t3qe4ZAjmPxGso837FOc/P8UlQ7CO5j8RrKPN+xTnPz/FJUOwjuY/EayjzfsU5z9t3qe4ZAjmPz/FJUOwjuY/bd6nuGQI5j8/xSVDsI7mPz/FJUOwjuY/P8UlQ7CO5j8/xSVDsI7mP23ep7hkCOY/bd6nuGQI5j9t3qe4ZAjmP23ep7hkCOY/P8UlQ7CO5j8/xSVDsI7mPxGso837FOc/EayjzfsU5z8RrKPN+xTnPxGso837FOc/",
          "dtype": "f8"
         },
         "textposition": "outside",
         "texttemplate": "%{text:.3f}",
         "type": "bar",
         "x": {
          "bdata": "AwQFBgcICQoLDA0ODxAREhMUFRYXGBkaGxwdHh8gISIjJCUmJygp",
          "dtype": "i1"
         },
         "xaxis": "x",
         "y": {
          "bdata": "P8UlQ7CO5j8/xSVDsI7mP+OSIVhHm+c/tHmf4pIh6D+GYB1t3qfoP4ZgHW3ep+g/hmAdbd6n6D/jkiFYR5vnP+OSIVhHm+c/tHmf4pIh6D8/xSVDsI7mPxGso837FOc/P8UlQ7CO5j8/xSVDsI7mPz/FJUOwjuY/P8UlQ7CO5j9t3qe4ZAjmPxGso837FOc/P8UlQ7CO5j8RrKPN+xTnPz/FJUOwjuY/EayjzfsU5z9t3qe4ZAjmPz/FJUOwjuY/bd6nuGQI5j8/xSVDsI7mPz/FJUOwjuY/P8UlQ7CO5j8/xSVDsI7mP23ep7hkCOY/bd6nuGQI5j9t3qe4ZAjmP23ep7hkCOY/P8UlQ7CO5j8/xSVDsI7mPxGso837FOc/EayjzfsU5z8RrKPN+xTnPxGso837FOc/",
          "dtype": "f8"
         },
         "yaxis": "y"
        }
       ],
       "layout": {
        "barmode": "relative",
        "legend": {
         "tracegroupgap": 0
        },
        "template": {
         "data": {
          "bar": [
           {
            "error_x": {
             "color": "#2a3f5f"
            },
            "error_y": {
             "color": "#2a3f5f"
            },
            "marker": {
             "line": {
              "color": "#E5ECF6",
              "width": 0.5
             },
             "pattern": {
              "fillmode": "overlay",
              "size": 10,
              "solidity": 0.2
             }
            },
            "type": "bar"
           }
          ],
          "barpolar": [
           {
            "marker": {
             "line": {
              "color": "#E5ECF6",
              "width": 0.5
             },
             "pattern": {
              "fillmode": "overlay",
              "size": 10,
              "solidity": 0.2
             }
            },
            "type": "barpolar"
           }
          ],
          "carpet": [
           {
            "aaxis": {
             "endlinecolor": "#2a3f5f",
             "gridcolor": "white",
             "linecolor": "white",
             "minorgridcolor": "white",
             "startlinecolor": "#2a3f5f"
            },
            "baxis": {
             "endlinecolor": "#2a3f5f",
             "gridcolor": "white",
             "linecolor": "white",
             "minorgridcolor": "white",
             "startlinecolor": "#2a3f5f"
            },
            "type": "carpet"
           }
          ],
          "choropleth": [
           {
            "colorbar": {
             "outlinewidth": 0,
             "ticks": ""
            },
            "type": "choropleth"
           }
          ],
          "contour": [
           {
            "colorbar": {
             "outlinewidth": 0,
             "ticks": ""
            },
            "colorscale": [
             [
              0,
              "#0d0887"
             ],
             [
              0.1111111111111111,
              "#46039f"
             ],
             [
              0.2222222222222222,
              "#7201a8"
             ],
             [
              0.3333333333333333,
              "#9c179e"
             ],
             [
              0.4444444444444444,
              "#bd3786"
             ],
             [
              0.5555555555555556,
              "#d8576b"
             ],
             [
              0.6666666666666666,
              "#ed7953"
             ],
             [
              0.7777777777777778,
              "#fb9f3a"
             ],
             [
              0.8888888888888888,
              "#fdca26"
             ],
             [
              1,
              "#f0f921"
             ]
            ],
            "type": "contour"
           }
          ],
          "contourcarpet": [
           {
            "colorbar": {
             "outlinewidth": 0,
             "ticks": ""
            },
            "type": "contourcarpet"
           }
          ],
          "heatmap": [
           {
            "colorbar": {
             "outlinewidth": 0,
             "ticks": ""
            },
            "colorscale": [
             [
              0,
              "#0d0887"
             ],
             [
              0.1111111111111111,
              "#46039f"
             ],
             [
              0.2222222222222222,
              "#7201a8"
             ],
             [
              0.3333333333333333,
              "#9c179e"
             ],
             [
              0.4444444444444444,
              "#bd3786"
             ],
             [
              0.5555555555555556,
              "#d8576b"
             ],
             [
              0.6666666666666666,
              "#ed7953"
             ],
             [
              0.7777777777777778,
              "#fb9f3a"
             ],
             [
              0.8888888888888888,
              "#fdca26"
             ],
             [
              1,
              "#f0f921"
             ]
            ],
            "type": "heatmap"
           }
          ],
          "histogram": [
           {
            "marker": {
             "pattern": {
              "fillmode": "overlay",
              "size": 10,
              "solidity": 0.2
             }
            },
            "type": "histogram"
           }
          ],
          "histogram2d": [
           {
            "colorbar": {
             "outlinewidth": 0,
             "ticks": ""
            },
            "colorscale": [
             [
              0,
              "#0d0887"
             ],
             [
              0.1111111111111111,
              "#46039f"
             ],
             [
              0.2222222222222222,
              "#7201a8"
             ],
             [
              0.3333333333333333,
              "#9c179e"
             ],
             [
              0.4444444444444444,
              "#bd3786"
             ],
             [
              0.5555555555555556,
              "#d8576b"
             ],
             [
              0.6666666666666666,
              "#ed7953"
             ],
             [
              0.7777777777777778,
              "#fb9f3a"
             ],
             [
              0.8888888888888888,
              "#fdca26"
             ],
             [
              1,
              "#f0f921"
             ]
            ],
            "type": "histogram2d"
           }
          ],
          "histogram2dcontour": [
           {
            "colorbar": {
             "outlinewidth": 0,
             "ticks": ""
            },
            "colorscale": [
             [
              0,
              "#0d0887"
             ],
             [
              0.1111111111111111,
              "#46039f"
             ],
             [
              0.2222222222222222,
              "#7201a8"
             ],
             [
              0.3333333333333333,
              "#9c179e"
             ],
             [
              0.4444444444444444,
              "#bd3786"
             ],
             [
              0.5555555555555556,
              "#d8576b"
             ],
             [
              0.6666666666666666,
              "#ed7953"
             ],
             [
              0.7777777777777778,
              "#fb9f3a"
             ],
             [
              0.8888888888888888,
              "#fdca26"
             ],
             [
              1,
              "#f0f921"
             ]
            ],
            "type": "histogram2dcontour"
           }
          ],
          "mesh3d": [
           {
            "colorbar": {
             "outlinewidth": 0,
             "ticks": ""
            },
            "type": "mesh3d"
           }
          ],
          "parcoords": [
           {
            "line": {
             "colorbar": {
              "outlinewidth": 0,
              "ticks": ""
             }
            },
            "type": "parcoords"
           }
          ],
          "pie": [
           {
            "automargin": true,
            "type": "pie"
           }
          ],
          "scatter": [
           {
            "fillpattern": {
             "fillmode": "overlay",
             "size": 10,
             "solidity": 0.2
            },
            "type": "scatter"
           }
          ],
          "scatter3d": [
           {
            "line": {
             "colorbar": {
              "outlinewidth": 0,
              "ticks": ""
             }
            },
            "marker": {
             "colorbar": {
              "outlinewidth": 0,
              "ticks": ""
             }
            },
            "type": "scatter3d"
           }
          ],
          "scattercarpet": [
           {
            "marker": {
             "colorbar": {
              "outlinewidth": 0,
              "ticks": ""
             }
            },
            "type": "scattercarpet"
           }
          ],
          "scattergeo": [
           {
            "marker": {
             "colorbar": {
              "outlinewidth": 0,
              "ticks": ""
             }
            },
            "type": "scattergeo"
           }
          ],
          "scattergl": [
           {
            "marker": {
             "colorbar": {
              "outlinewidth": 0,
              "ticks": ""
             }
            },
            "type": "scattergl"
           }
          ],
          "scattermap": [
           {
            "marker": {
             "colorbar": {
              "outlinewidth": 0,
              "ticks": ""
             }
            },
            "type": "scattermap"
           }
          ],
          "scattermapbox": [
           {
            "marker": {
             "colorbar": {
              "outlinewidth": 0,
              "ticks": ""
             }
            },
            "type": "scattermapbox"
           }
          ],
          "scatterpolar": [
           {
            "marker": {
             "colorbar": {
              "outlinewidth": 0,
              "ticks": ""
             }
            },
            "type": "scatterpolar"
           }
          ],
          "scatterpolargl": [
           {
            "marker": {
             "colorbar": {
              "outlinewidth": 0,
              "ticks": ""
             }
            },
            "type": "scatterpolargl"
           }
          ],
          "scatterternary": [
           {
            "marker": {
             "colorbar": {
              "outlinewidth": 0,
              "ticks": ""
             }
            },
            "type": "scatterternary"
           }
          ],
          "surface": [
           {
            "colorbar": {
             "outlinewidth": 0,
             "ticks": ""
            },
            "colorscale": [
             [
              0,
              "#0d0887"
             ],
             [
              0.1111111111111111,
              "#46039f"
             ],
             [
              0.2222222222222222,
              "#7201a8"
             ],
             [
              0.3333333333333333,
              "#9c179e"
             ],
             [
              0.4444444444444444,
              "#bd3786"
             ],
             [
              0.5555555555555556,
              "#d8576b"
             ],
             [
              0.6666666666666666,
              "#ed7953"
             ],
             [
              0.7777777777777778,
              "#fb9f3a"
             ],
             [
              0.8888888888888888,
              "#fdca26"
             ],
             [
              1,
              "#f0f921"
             ]
            ],
            "type": "surface"
           }
          ],
          "table": [
           {
            "cells": {
             "fill": {
              "color": "#EBF0F8"
             },
             "line": {
              "color": "white"
             }
            },
            "header": {
             "fill": {
              "color": "#C8D4E3"
             },
             "line": {
              "color": "white"
             }
            },
            "type": "table"
           }
          ]
         },
         "layout": {
          "annotationdefaults": {
           "arrowcolor": "#2a3f5f",
           "arrowhead": 0,
           "arrowwidth": 1
          },
          "autotypenumbers": "strict",
          "coloraxis": {
           "colorbar": {
            "outlinewidth": 0,
            "ticks": ""
           }
          },
          "colorscale": {
           "diverging": [
            [
             0,
             "#8e0152"
            ],
            [
             0.1,
             "#c51b7d"
            ],
            [
             0.2,
             "#de77ae"
            ],
            [
             0.3,
             "#f1b6da"
            ],
            [
             0.4,
             "#fde0ef"
            ],
            [
             0.5,
             "#f7f7f7"
            ],
            [
             0.6,
             "#e6f5d0"
            ],
            [
             0.7,
             "#b8e186"
            ],
            [
             0.8,
             "#7fbc41"
            ],
            [
             0.9,
             "#4d9221"
            ],
            [
             1,
             "#276419"
            ]
           ],
           "sequential": [
            [
             0,
             "#0d0887"
            ],
            [
             0.1111111111111111,
             "#46039f"
            ],
            [
             0.2222222222222222,
             "#7201a8"
            ],
            [
             0.3333333333333333,
             "#9c179e"
            ],
            [
             0.4444444444444444,
             "#bd3786"
            ],
            [
             0.5555555555555556,
             "#d8576b"
            ],
            [
             0.6666666666666666,
             "#ed7953"
            ],
            [
             0.7777777777777778,
             "#fb9f3a"
            ],
            [
             0.8888888888888888,
             "#fdca26"
            ],
            [
             1,
             "#f0f921"
            ]
           ],
           "sequentialminus": [
            [
             0,
             "#0d0887"
            ],
            [
             0.1111111111111111,
             "#46039f"
            ],
            [
             0.2222222222222222,
             "#7201a8"
            ],
            [
             0.3333333333333333,
             "#9c179e"
            ],
            [
             0.4444444444444444,
             "#bd3786"
            ],
            [
             0.5555555555555556,
             "#d8576b"
            ],
            [
             0.6666666666666666,
             "#ed7953"
            ],
            [
             0.7777777777777778,
             "#fb9f3a"
            ],
            [
             0.8888888888888888,
             "#fdca26"
            ],
            [
             1,
             "#f0f921"
            ]
           ]
          },
          "colorway": [
           "#636efa",
           "#EF553B",
           "#00cc96",
           "#ab63fa",
           "#FFA15A",
           "#19d3f3",
           "#FF6692",
           "#B6E880",
           "#FF97FF",
           "#FECB52"
          ],
          "font": {
           "color": "#2a3f5f"
          },
          "geo": {
           "bgcolor": "white",
           "lakecolor": "white",
           "landcolor": "#E5ECF6",
           "showlakes": true,
           "showland": true,
           "subunitcolor": "white"
          },
          "hoverlabel": {
           "align": "left"
          },
          "hovermode": "closest",
          "mapbox": {
           "style": "light"
          },
          "paper_bgcolor": "white",
          "plot_bgcolor": "#E5ECF6",
          "polar": {
           "angularaxis": {
            "gridcolor": "white",
            "linecolor": "white",
            "ticks": ""
           },
           "bgcolor": "#E5ECF6",
           "radialaxis": {
            "gridcolor": "white",
            "linecolor": "white",
            "ticks": ""
           }
          },
          "scene": {
           "xaxis": {
            "backgroundcolor": "#E5ECF6",
            "gridcolor": "white",
            "gridwidth": 2,
            "linecolor": "white",
            "showbackground": true,
            "ticks": "",
            "zerolinecolor": "white"
           },
           "yaxis": {
            "backgroundcolor": "#E5ECF6",
            "gridcolor": "white",
            "gridwidth": 2,
            "linecolor": "white",
            "showbackground": true,
            "ticks": "",
            "zerolinecolor": "white"
           },
           "zaxis": {
            "backgroundcolor": "#E5ECF6",
            "gridcolor": "white",
            "gridwidth": 2,
            "linecolor": "white",
            "showbackground": true,
            "ticks": "",
            "zerolinecolor": "white"
           }
          },
          "shapedefaults": {
           "line": {
            "color": "#2a3f5f"
           }
          },
          "ternary": {
           "aaxis": {
            "gridcolor": "white",
            "linecolor": "white",
            "ticks": ""
           },
           "baxis": {
            "gridcolor": "white",
            "linecolor": "white",
            "ticks": ""
           },
           "bgcolor": "#E5ECF6",
           "caxis": {
            "gridcolor": "white",
            "linecolor": "white",
            "ticks": ""
           }
          },
          "title": {
           "x": 0.05
          },
          "xaxis": {
           "automargin": true,
           "gridcolor": "white",
           "linecolor": "white",
           "ticks": "",
           "title": {
            "standoff": 15
           },
           "zerolinecolor": "white",
           "zerolinewidth": 2
          },
          "yaxis": {
           "automargin": true,
           "gridcolor": "white",
           "linecolor": "white",
           "ticks": "",
           "title": {
            "standoff": 15
           },
           "zerolinecolor": "white",
           "zerolinewidth": 2
          }
         }
        },
        "title": {
         "text": "KNN Model Accuracy for Different K Values",
         "x": 0.5
        },
        "xaxis": {
         "anchor": "y",
         "domain": [
          0,
          1
         ],
         "title": {
          "text": "Number of Neighbors (k)"
         }
        },
        "yaxis": {
         "anchor": "x",
         "domain": [
          0,
          1
         ],
         "range": [
          0,
          1
         ],
         "title": {
          "text": "Model Accuracy"
         }
        }
       }
      },
      "image/png": "[encoded data removed]"
     },
     "metadata": {},
     "output_type": "display_data"
    },
    {
     "name": "stdout",
     "output_type": "stream",
     "text": [
      "Best k value: 7\n"
     ]
    }
   ],
   "source": [
    "import plotly.express as px\n",
    "import pandas as pd\n",
    "\n",
    "different_k_results = []\n",
    "for k in range(3, 42):\n",
    "    different_k_results.append(knn_sklearn(training, training_labels, test, test_labels, k))\n",
    "\n",
    "df_results = pd.DataFrame(different_k_results, columns=['k', 'distance_formula', 'accuracy'])\n",
    "\n",
    "best_k_value = df_results.loc[df_results['accuracy'].idxmax()]['k']\n",
    "\n",
    "fig = px.bar(\n",
    "    data_frame=df_results,\n",
    "    x='k',\n",
    "    y='accuracy',\n",
    "    title='KNN Model Accuracy for Different K Values',\n",
    "    labels={\n",
    "        'k': 'Number of Neighbors (k)',\n",
    "        'accuracy': 'Model Accuracy'\n",
    "    },\n",
    "    text='accuracy'\n",
    ")\n",
    "fig.update_traces(\n",
    "    texttemplate='%{text:.3f}',\n",
    "    textposition='outside'\n",
    ")\n",
    "fig.update_layout(\n",
    "    xaxis_title=\"Number of Neighbors (k)\",\n",
    "    yaxis_title=\"Model Accuracy\",\n",
    "    title_x=0.5,\n",
    "    yaxis=dict(range=[0,1])\n",
    ")\n",
    "\n",
    "fig.show()\n",
    "\n",
    "print(f\"Best k value: {best_k_value}\")"
   ]
  },
  {
   "cell_type": "markdown",
   "id": "3476c220-d8c0-4dcd-a2ba-9d72b5abf481",
   "metadata": {},
   "source": [
    "This script computes a KNN classification with different k numbers to plot them and to visually identify the range between performances with a varying k, and how much representative is this hyperparameter for the model performance"
   ]
  },
  {
   "cell_type": "markdown",
   "id": "7e30b8fe-e931-4e55-981a-a47517ab6443",
   "metadata": {},
   "source": [
    "## Model accuracies with a different vector similarity criteria (HW sklearn point 2)"
   ]
  },
  {
   "cell_type": "code",
   "execution_count": 14,
   "id": "9a875117-55dc-4c12-94c3-455383aec7fc",
   "metadata": {},
   "outputs": [
    {
     "data": {
      "application/vnd.plotly.v1+json": {
       "config": {
        "plotlyServerURL": "https://plot.ly"
       },
       "data": [
        {
         "hovertemplate": "Distance Metric=%{x}<br>Model Accuracy=%{text}<extra></extra>",
         "legendgroup": "Manhattan",
         "marker": {
          "color": "#636efa",
          "pattern": {
           "shape": ""
          }
         },
         "name": "Manhattan",
         "orientation": "v",
         "showlegend": true,
         "text": {
          "bdata": "hmAdbd6n6D8=",
          "dtype": "f8"
         },
         "textposition": "outside",
         "texttemplate": "%{text:.4f}",
         "type": "bar",
         "x": [
          "Manhattan"
         ],
         "xaxis": "x",
         "y": {
          "bdata": "hmAdbd6n6D8=",
          "dtype": "f8"
         },
         "yaxis": "y"
        },
        {
         "hovertemplate": "Distance Metric=%{x}<br>Model Accuracy=%{text}<extra></extra>",
         "legendgroup": "Euclidean",
         "marker": {
          "color": "#EF553B",
          "pattern": {
           "shape": ""
          }
         },
         "name": "Euclidean",
         "orientation": "v",
         "showlegend": true,
         "text": {
          "bdata": "m/cpLhmC5T8=",
          "dtype": "f8"
         },
         "textposition": "outside",
         "texttemplate": "%{text:.4f}",
         "type": "bar",
         "x": [
          "Euclidean"
         ],
         "xaxis": "x",
         "y": {
          "bdata": "m/cpLhmC5T8=",
          "dtype": "f8"
         },
         "yaxis": "y"
        },
        {
         "hovertemplate": "Distance Metric=%{x}<br>Model Accuracy=%{text}<extra></extra>",
         "legendgroup": "Minkowski",
         "marker": {
          "color": "#00cc96",
          "pattern": {
           "shape": ""
          }
         },
         "name": "Minkowski",
         "orientation": "v",
         "showlegend": true,
         "text": {
          "bdata": "yRCso8375D8=",
          "dtype": "f8"
         },
         "textposition": "outside",
         "texttemplate": "%{text:.4f}",
         "type": "bar",
         "x": [
          "Minkowski"
         ],
         "xaxis": "x",
         "y": {
          "bdata": "yRCso8375D8=",
          "dtype": "f8"
         },
         "yaxis": "y"
        }
       ],
       "layout": {
        "barmode": "relative",
        "legend": {
         "title": {
          "text": "Distance Metric"
         },
         "tracegroupgap": 0
        },
        "showlegend": false,
        "template": {
         "data": {
          "bar": [
           {
            "error_x": {
             "color": "#2a3f5f"
            },
            "error_y": {
             "color": "#2a3f5f"
            },
            "marker": {
             "line": {
              "color": "#E5ECF6",
              "width": 0.5
             },
             "pattern": {
              "fillmode": "overlay",
              "size": 10,
              "solidity": 0.2
             }
            },
            "type": "bar"
           }
          ],
          "barpolar": [
           {
            "marker": {
             "line": {
              "color": "#E5ECF6",
              "width": 0.5
             },
             "pattern": {
              "fillmode": "overlay",
              "size": 10,
              "solidity": 0.2
             }
            },
            "type": "barpolar"
           }
          ],
          "carpet": [
           {
            "aaxis": {
             "endlinecolor": "#2a3f5f",
             "gridcolor": "white",
             "linecolor": "white",
             "minorgridcolor": "white",
             "startlinecolor": "#2a3f5f"
            },
            "baxis": {
             "endlinecolor": "#2a3f5f",
             "gridcolor": "white",
             "linecolor": "white",
             "minorgridcolor": "white",
             "startlinecolor": "#2a3f5f"
            },
            "type": "carpet"
           }
          ],
          "choropleth": [
           {
            "colorbar": {
             "outlinewidth": 0,
             "ticks": ""
            },
            "type": "choropleth"
           }
          ],
          "contour": [
           {
            "colorbar": {
             "outlinewidth": 0,
             "ticks": ""
            },
            "colorscale": [
             [
              0,
              "#0d0887"
             ],
             [
              0.1111111111111111,
              "#46039f"
             ],
             [
              0.2222222222222222,
              "#7201a8"
             ],
             [
              0.3333333333333333,
              "#9c179e"
             ],
             [
              0.4444444444444444,
              "#bd3786"
             ],
             [
              0.5555555555555556,
              "#d8576b"
             ],
             [
              0.6666666666666666,
              "#ed7953"
             ],
             [
              0.7777777777777778,
              "#fb9f3a"
             ],
             [
              0.8888888888888888,
              "#fdca26"
             ],
             [
              1,
              "#f0f921"
             ]
            ],
            "type": "contour"
           }
          ],
          "contourcarpet": [
           {
            "colorbar": {
             "outlinewidth": 0,
             "ticks": ""
            },
            "type": "contourcarpet"
           }
          ],
          "heatmap": [
           {
            "colorbar": {
             "outlinewidth": 0,
             "ticks": ""
            },
            "colorscale": [
             [
              0,
              "#0d0887"
             ],
             [
              0.1111111111111111,
              "#46039f"
             ],
             [
              0.2222222222222222,
              "#7201a8"
             ],
             [
              0.3333333333333333,
              "#9c179e"
             ],
             [
              0.4444444444444444,
              "#bd3786"
             ],
             [
              0.5555555555555556,
              "#d8576b"
             ],
             [
              0.6666666666666666,
              "#ed7953"
             ],
             [
              0.7777777777777778,
              "#fb9f3a"
             ],
             [
              0.8888888888888888,
              "#fdca26"
             ],
             [
              1,
              "#f0f921"
             ]
            ],
            "type": "heatmap"
           }
          ],
          "histogram": [
           {
            "marker": {
             "pattern": {
              "fillmode": "overlay",
              "size": 10,
              "solidity": 0.2
             }
            },
            "type": "histogram"
           }
          ],
          "histogram2d": [
           {
            "colorbar": {
             "outlinewidth": 0,
             "ticks": ""
            },
            "colorscale": [
             [
              0,
              "#0d0887"
             ],
             [
              0.1111111111111111,
              "#46039f"
             ],
             [
              0.2222222222222222,
              "#7201a8"
             ],
             [
              0.3333333333333333,
              "#9c179e"
             ],
             [
              0.4444444444444444,
              "#bd3786"
             ],
             [
              0.5555555555555556,
              "#d8576b"
             ],
             [
              0.6666666666666666,
              "#ed7953"
             ],
             [
              0.7777777777777778,
              "#fb9f3a"
             ],
             [
              0.8888888888888888,
              "#fdca26"
             ],
             [
              1,
              "#f0f921"
             ]
            ],
            "type": "histogram2d"
           }
          ],
          "histogram2dcontour": [
           {
            "colorbar": {
             "outlinewidth": 0,
             "ticks": ""
            },
            "colorscale": [
             [
              0,
              "#0d0887"
             ],
             [
              0.1111111111111111,
              "#46039f"
             ],
             [
              0.2222222222222222,
              "#7201a8"
             ],
             [
              0.3333333333333333,
              "#9c179e"
             ],
             [
              0.4444444444444444,
              "#bd3786"
             ],
             [
              0.5555555555555556,
              "#d8576b"
             ],
             [
              0.6666666666666666,
              "#ed7953"
             ],
             [
              0.7777777777777778,
              "#fb9f3a"
             ],
             [
              0.8888888888888888,
              "#fdca26"
             ],
             [
              1,
              "#f0f921"
             ]
            ],
            "type": "histogram2dcontour"
           }
          ],
          "mesh3d": [
           {
            "colorbar": {
             "outlinewidth": 0,
             "ticks": ""
            },
            "type": "mesh3d"
           }
          ],
          "parcoords": [
           {
            "line": {
             "colorbar": {
              "outlinewidth": 0,
              "ticks": ""
             }
            },
            "type": "parcoords"
           }
          ],
          "pie": [
           {
            "automargin": true,
            "type": "pie"
           }
          ],
          "scatter": [
           {
            "fillpattern": {
             "fillmode": "overlay",
             "size": 10,
             "solidity": 0.2
            },
            "type": "scatter"
           }
          ],
          "scatter3d": [
           {
            "line": {
             "colorbar": {
              "outlinewidth": 0,
              "ticks": ""
             }
            },
            "marker": {
             "colorbar": {
              "outlinewidth": 0,
              "ticks": ""
             }
            },
            "type": "scatter3d"
           }
          ],
          "scattercarpet": [
           {
            "marker": {
             "colorbar": {
              "outlinewidth": 0,
              "ticks": ""
             }
            },
            "type": "scattercarpet"
           }
          ],
          "scattergeo": [
           {
            "marker": {
             "colorbar": {
              "outlinewidth": 0,
              "ticks": ""
             }
            },
            "type": "scattergeo"
           }
          ],
          "scattergl": [
           {
            "marker": {
             "colorbar": {
              "outlinewidth": 0,
              "ticks": ""
             }
            },
            "type": "scattergl"
           }
          ],
          "scattermap": [
           {
            "marker": {
             "colorbar": {
              "outlinewidth": 0,
              "ticks": ""
             }
            },
            "type": "scattermap"
           }
          ],
          "scattermapbox": [
           {
            "marker": {
             "colorbar": {
              "outlinewidth": 0,
              "ticks": ""
             }
            },
            "type": "scattermapbox"
           }
          ],
          "scatterpolar": [
           {
            "marker": {
             "colorbar": {
              "outlinewidth": 0,
              "ticks": ""
             }
            },
            "type": "scatterpolar"
           }
          ],
          "scatterpolargl": [
           {
            "marker": {
             "colorbar": {
              "outlinewidth": 0,
              "ticks": ""
             }
            },
            "type": "scatterpolargl"
           }
          ],
          "scatterternary": [
           {
            "marker": {
             "colorbar": {
              "outlinewidth": 0,
              "ticks": ""
             }
            },
            "type": "scatterternary"
           }
          ],
          "surface": [
           {
            "colorbar": {
             "outlinewidth": 0,
             "ticks": ""
            },
            "colorscale": [
             [
              0,
              "#0d0887"
             ],
             [
              0.1111111111111111,
              "#46039f"
             ],
             [
              0.2222222222222222,
              "#7201a8"
             ],
             [
              0.3333333333333333,
              "#9c179e"
             ],
             [
              0.4444444444444444,
              "#bd3786"
             ],
             [
              0.5555555555555556,
              "#d8576b"
             ],
             [
              0.6666666666666666,
              "#ed7953"
             ],
             [
              0.7777777777777778,
              "#fb9f3a"
             ],
             [
              0.8888888888888888,
              "#fdca26"
             ],
             [
              1,
              "#f0f921"
             ]
            ],
            "type": "surface"
           }
          ],
          "table": [
           {
            "cells": {
             "fill": {
              "color": "#EBF0F8"
             },
             "line": {
              "color": "white"
             }
            },
            "header": {
             "fill": {
              "color": "#C8D4E3"
             },
             "line": {
              "color": "white"
             }
            },
            "type": "table"
           }
          ]
         },
         "layout": {
          "annotationdefaults": {
           "arrowcolor": "#2a3f5f",
           "arrowhead": 0,
           "arrowwidth": 1
          },
          "autotypenumbers": "strict",
          "coloraxis": {
           "colorbar": {
            "outlinewidth": 0,
            "ticks": ""
           }
          },
          "colorscale": {
           "diverging": [
            [
             0,
             "#8e0152"
            ],
            [
             0.1,
             "#c51b7d"
            ],
            [
             0.2,
             "#de77ae"
            ],
            [
             0.3,
             "#f1b6da"
            ],
            [
             0.4,
             "#fde0ef"
            ],
            [
             0.5,
             "#f7f7f7"
            ],
            [
             0.6,
             "#e6f5d0"
            ],
            [
             0.7,
             "#b8e186"
            ],
            [
             0.8,
             "#7fbc41"
            ],
            [
             0.9,
             "#4d9221"
            ],
            [
             1,
             "#276419"
            ]
           ],
           "sequential": [
            [
             0,
             "#0d0887"
            ],
            [
             0.1111111111111111,
             "#46039f"
            ],
            [
             0.2222222222222222,
             "#7201a8"
            ],
            [
             0.3333333333333333,
             "#9c179e"
            ],
            [
             0.4444444444444444,
             "#bd3786"
            ],
            [
             0.5555555555555556,
             "#d8576b"
            ],
            [
             0.6666666666666666,
             "#ed7953"
            ],
            [
             0.7777777777777778,
             "#fb9f3a"
            ],
            [
             0.8888888888888888,
             "#fdca26"
            ],
            [
             1,
             "#f0f921"
            ]
           ],
           "sequentialminus": [
            [
             0,
             "#0d0887"
            ],
            [
             0.1111111111111111,
             "#46039f"
            ],
            [
             0.2222222222222222,
             "#7201a8"
            ],
            [
             0.3333333333333333,
             "#9c179e"
            ],
            [
             0.4444444444444444,
             "#bd3786"
            ],
            [
             0.5555555555555556,
             "#d8576b"
            ],
            [
             0.6666666666666666,
             "#ed7953"
            ],
            [
             0.7777777777777778,
             "#fb9f3a"
            ],
            [
             0.8888888888888888,
             "#fdca26"
            ],
            [
             1,
             "#f0f921"
            ]
           ]
          },
          "colorway": [
           "#636efa",
           "#EF553B",
           "#00cc96",
           "#ab63fa",
           "#FFA15A",
           "#19d3f3",
           "#FF6692",
           "#B6E880",
           "#FF97FF",
           "#FECB52"
          ],
          "font": {
           "color": "#2a3f5f"
          },
          "geo": {
           "bgcolor": "white",
           "lakecolor": "white",
           "landcolor": "#E5ECF6",
           "showlakes": true,
           "showland": true,
           "subunitcolor": "white"
          },
          "hoverlabel": {
           "align": "left"
          },
          "hovermode": "closest",
          "mapbox": {
           "style": "light"
          },
          "paper_bgcolor": "white",
          "plot_bgcolor": "#E5ECF6",
          "polar": {
           "angularaxis": {
            "gridcolor": "white",
            "linecolor": "white",
            "ticks": ""
           },
           "bgcolor": "#E5ECF6",
           "radialaxis": {
            "gridcolor": "white",
            "linecolor": "white",
            "ticks": ""
           }
          },
          "scene": {
           "xaxis": {
            "backgroundcolor": "#E5ECF6",
            "gridcolor": "white",
            "gridwidth": 2,
            "linecolor": "white",
            "showbackground": true,
            "ticks": "",
            "zerolinecolor": "white"
           },
           "yaxis": {
            "backgroundcolor": "#E5ECF6",
            "gridcolor": "white",
            "gridwidth": 2,
            "linecolor": "white",
            "showbackground": true,
            "ticks": "",
            "zerolinecolor": "white"
           },
           "zaxis": {
            "backgroundcolor": "#E5ECF6",
            "gridcolor": "white",
            "gridwidth": 2,
            "linecolor": "white",
            "showbackground": true,
            "ticks": "",
            "zerolinecolor": "white"
           }
          },
          "shapedefaults": {
           "line": {
            "color": "#2a3f5f"
           }
          },
          "ternary": {
           "aaxis": {
            "gridcolor": "white",
            "linecolor": "white",
            "ticks": ""
           },
           "baxis": {
            "gridcolor": "white",
            "linecolor": "white",
            "ticks": ""
           },
           "bgcolor": "#E5ECF6",
           "caxis": {
            "gridcolor": "white",
            "linecolor": "white",
            "ticks": ""
           }
          },
          "title": {
           "x": 0.05
          },
          "xaxis": {
           "automargin": true,
           "gridcolor": "white",
           "linecolor": "white",
           "ticks": "",
           "title": {
            "standoff": 15
           },
           "zerolinecolor": "white",
           "zerolinewidth": 2
          },
          "yaxis": {
           "automargin": true,
           "gridcolor": "white",
           "linecolor": "white",
           "ticks": "",
           "title": {
            "standoff": 15
           },
           "zerolinecolor": "white",
           "zerolinewidth": 2
          }
         }
        },
        "title": {
         "text": "KNN Model Accuracy for Different Distance Metrics (k = 7)",
         "x": 0.5
        },
        "xaxis": {
         "anchor": "y",
         "categoryarray": [
          "Manhattan",
          "Euclidean",
          "Minkowski"
         ],
         "categoryorder": "array",
         "domain": [
          0,
          1
         ],
         "title": {
          "text": "Distance Metric"
         }
        },
        "yaxis": {
         "anchor": "x",
         "domain": [
          0,
          1
         ],
         "range": [
          0,
          1
         ],
         "title": {
          "text": "Model Accuracy"
         }
        }
       }
      },
      "image/png": "[encoded data removed]"
     },
     "metadata": {},
     "output_type": "display_data"
    }
   ],
   "source": [
    "import plotly.express as px\n",
    "import pandas as pd\n",
    "\n",
    "different_similarity_results = []\n",
    "for p in range(1,4):\n",
    "    different_similarity_results.append(knn_sklearn(training, training_labels, test, test_labels, k=best_k_value, p=p))\n",
    "\n",
    "\n",
    "df_similarity = pd.DataFrame(different_similarity_results, columns=['k', 'distance_formula', 'accuracy'])\n",
    "fig = px.bar(\n",
    "    data_frame=df_similarity,\n",
    "    x='distance_formula',\n",
    "    y='accuracy',\n",
    "    color='distance_formula',\n",
    "    title=f'KNN Model Accuracy for Different Distance Metrics (k = {best_k_value})',\n",
    "    labels={\n",
    "        'distance_formula': 'Distance Metric',\n",
    "        'accuracy': 'Model Accuracy'\n",
    "    },\n",
    "    text='accuracy'\n",
    ")\n",
    "\n",
    "fig.update_traces(\n",
    "    texttemplate='%{text:.4f}',\n",
    "    textposition='outside'\n",
    ")\n",
    "fig.update_layout(\n",
    "    xaxis_title=\"Distance Metric\",\n",
    "    yaxis_title=\"Model Accuracy\",\n",
    "    title_x=0.5,\n",
    "    yaxis=dict(range=[0,1]),\n",
    "    showlegend=False\n",
    ")\n",
    "\n",
    "fig.show()"
   ]
  },
  {
   "cell_type": "markdown",
   "id": "fecaecd9-84d1-479c-891c-370366f884f7",
   "metadata": {},
   "source": [
    "This script performs a KNN with different vector similarity criteria, and plot the performance for each one of the models. THis allow us to analyze visually the impact of selecting the correct criteria to compare vectors"
   ]
  },
  {
   "cell_type": "markdown",
   "id": "d8c9505b-dc6b-4890-bc64-9b00b4615828",
   "metadata": {},
   "source": [
    "## Confusion matrix for sklearn KNN for HW point 7"
   ]
  },
  {
   "cell_type": "code",
   "execution_count": 15,
   "id": "ef0b9597-ca2a-41f3-9df7-8f8243b22d5f",
   "metadata": {},
   "outputs": [
    {
     "name": "stdout",
     "output_type": "stream",
     "text": [
      "0.7704918032786885\n"
     ]
    },
    {
     "data": {
      "application/vnd.plotly.v1+json": {
       "config": {
        "plotlyServerURL": "https://plot.ly"
       },
       "data": [
        {
         "coloraxis": "coloraxis",
         "hovertemplate": "Predicted Label: %{x}<br>True Label: %{y}<br>Count: %{z}<extra></extra>",
         "name": "0",
         "texttemplate": "%{z}",
         "type": "heatmap",
         "x": [
          "Absence",
          "Present"
         ],
         "xaxis": "x",
         "y": [
          "Absence",
          "Present"
         ],
         "yaxis": "y",
         "z": {
          "bdata": "HwMLEA==",
          "dtype": "i1",
          "shape": "2, 2"
         }
        }
       ],
       "layout": {
        "coloraxis": {
         "colorbar": {
          "title": {
           "text": "Count"
          }
         },
         "colorscale": [
          [
           0,
           "rgb(247,251,255)"
          ],
          [
           0.125,
           "rgb(222,235,247)"
          ],
          [
           0.25,
           "rgb(198,219,239)"
          ],
          [
           0.375,
           "rgb(158,202,225)"
          ],
          [
           0.5,
           "rgb(107,174,214)"
          ],
          [
           0.625,
           "rgb(66,146,198)"
          ],
          [
           0.75,
           "rgb(33,113,181)"
          ],
          [
           0.875,
           "rgb(8,81,156)"
          ],
          [
           1,
           "rgb(8,48,107)"
          ]
         ]
        },
        "template": {
         "data": {
          "bar": [
           {
            "error_x": {
             "color": "#2a3f5f"
            },
            "error_y": {
             "color": "#2a3f5f"
            },
            "marker": {
             "line": {
              "color": "#E5ECF6",
              "width": 0.5
             },
             "pattern": {
              "fillmode": "overlay",
              "size": 10,
              "solidity": 0.2
             }
            },
            "type": "bar"
           }
          ],
          "barpolar": [
           {
            "marker": {
             "line": {
              "color": "#E5ECF6",
              "width": 0.5
             },
             "pattern": {
              "fillmode": "overlay",
              "size": 10,
              "solidity": 0.2
             }
            },
            "type": "barpolar"
           }
          ],
          "carpet": [
           {
            "aaxis": {
             "endlinecolor": "#2a3f5f",
             "gridcolor": "white",
             "linecolor": "white",
             "minorgridcolor": "white",
             "startlinecolor": "#2a3f5f"
            },
            "baxis": {
             "endlinecolor": "#2a3f5f",
             "gridcolor": "white",
             "linecolor": "white",
             "minorgridcolor": "white",
             "startlinecolor": "#2a3f5f"
            },
            "type": "carpet"
           }
          ],
          "choropleth": [
           {
            "colorbar": {
             "outlinewidth": 0,
             "ticks": ""
            },
            "type": "choropleth"
           }
          ],
          "contour": [
           {
            "colorbar": {
             "outlinewidth": 0,
             "ticks": ""
            },
            "colorscale": [
             [
              0,
              "#0d0887"
             ],
             [
              0.1111111111111111,
              "#46039f"
             ],
             [
              0.2222222222222222,
              "#7201a8"
             ],
             [
              0.3333333333333333,
              "#9c179e"
             ],
             [
              0.4444444444444444,
              "#bd3786"
             ],
             [
              0.5555555555555556,
              "#d8576b"
             ],
             [
              0.6666666666666666,
              "#ed7953"
             ],
             [
              0.7777777777777778,
              "#fb9f3a"
             ],
             [
              0.8888888888888888,
              "#fdca26"
             ],
             [
              1,
              "#f0f921"
             ]
            ],
            "type": "contour"
           }
          ],
          "contourcarpet": [
           {
            "colorbar": {
             "outlinewidth": 0,
             "ticks": ""
            },
            "type": "contourcarpet"
           }
          ],
          "heatmap": [
           {
            "colorbar": {
             "outlinewidth": 0,
             "ticks": ""
            },
            "colorscale": [
             [
              0,
              "#0d0887"
             ],
             [
              0.1111111111111111,
              "#46039f"
             ],
             [
              0.2222222222222222,
              "#7201a8"
             ],
             [
              0.3333333333333333,
              "#9c179e"
             ],
             [
              0.4444444444444444,
              "#bd3786"
             ],
             [
              0.5555555555555556,
              "#d8576b"
             ],
             [
              0.6666666666666666,
              "#ed7953"
             ],
             [
              0.7777777777777778,
              "#fb9f3a"
             ],
             [
              0.8888888888888888,
              "#fdca26"
             ],
             [
              1,
              "#f0f921"
             ]
            ],
            "type": "heatmap"
           }
          ],
          "histogram": [
           {
            "marker": {
             "pattern": {
              "fillmode": "overlay",
              "size": 10,
              "solidity": 0.2
             }
            },
            "type": "histogram"
           }
          ],
          "histogram2d": [
           {
            "colorbar": {
             "outlinewidth": 0,
             "ticks": ""
            },
            "colorscale": [
             [
              0,
              "#0d0887"
             ],
             [
              0.1111111111111111,
              "#46039f"
             ],
             [
              0.2222222222222222,
              "#7201a8"
             ],
             [
              0.3333333333333333,
              "#9c179e"
             ],
             [
              0.4444444444444444,
              "#bd3786"
             ],
             [
              0.5555555555555556,
              "#d8576b"
             ],
             [
              0.6666666666666666,
              "#ed7953"
             ],
             [
              0.7777777777777778,
              "#fb9f3a"
             ],
             [
              0.8888888888888888,
              "#fdca26"
             ],
             [
              1,
              "#f0f921"
             ]
            ],
            "type": "histogram2d"
           }
          ],
          "histogram2dcontour": [
           {
            "colorbar": {
             "outlinewidth": 0,
             "ticks": ""
            },
            "colorscale": [
             [
              0,
              "#0d0887"
             ],
             [
              0.1111111111111111,
              "#46039f"
             ],
             [
              0.2222222222222222,
              "#7201a8"
             ],
             [
              0.3333333333333333,
              "#9c179e"
             ],
             [
              0.4444444444444444,
              "#bd3786"
             ],
             [
              0.5555555555555556,
              "#d8576b"
             ],
             [
              0.6666666666666666,
              "#ed7953"
             ],
             [
              0.7777777777777778,
              "#fb9f3a"
             ],
             [
              0.8888888888888888,
              "#fdca26"
             ],
             [
              1,
              "#f0f921"
             ]
            ],
            "type": "histogram2dcontour"
           }
          ],
          "mesh3d": [
           {
            "colorbar": {
             "outlinewidth": 0,
             "ticks": ""
            },
            "type": "mesh3d"
           }
          ],
          "parcoords": [
           {
            "line": {
             "colorbar": {
              "outlinewidth": 0,
              "ticks": ""
             }
            },
            "type": "parcoords"
           }
          ],
          "pie": [
           {
            "automargin": true,
            "type": "pie"
           }
          ],
          "scatter": [
           {
            "fillpattern": {
             "fillmode": "overlay",
             "size": 10,
             "solidity": 0.2
            },
            "type": "scatter"
           }
          ],
          "scatter3d": [
           {
            "line": {
             "colorbar": {
              "outlinewidth": 0,
              "ticks": ""
             }
            },
            "marker": {
             "colorbar": {
              "outlinewidth": 0,
              "ticks": ""
             }
            },
            "type": "scatter3d"
           }
          ],
          "scattercarpet": [
           {
            "marker": {
             "colorbar": {
              "outlinewidth": 0,
              "ticks": ""
             }
            },
            "type": "scattercarpet"
           }
          ],
          "scattergeo": [
           {
            "marker": {
             "colorbar": {
              "outlinewidth": 0,
              "ticks": ""
             }
            },
            "type": "scattergeo"
           }
          ],
          "scattergl": [
           {
            "marker": {
             "colorbar": {
              "outlinewidth": 0,
              "ticks": ""
             }
            },
            "type": "scattergl"
           }
          ],
          "scattermap": [
           {
            "marker": {
             "colorbar": {
              "outlinewidth": 0,
              "ticks": ""
             }
            },
            "type": "scattermap"
           }
          ],
          "scattermapbox": [
           {
            "marker": {
             "colorbar": {
              "outlinewidth": 0,
              "ticks": ""
             }
            },
            "type": "scattermapbox"
           }
          ],
          "scatterpolar": [
           {
            "marker": {
             "colorbar": {
              "outlinewidth": 0,
              "ticks": ""
             }
            },
            "type": "scatterpolar"
           }
          ],
          "scatterpolargl": [
           {
            "marker": {
             "colorbar": {
              "outlinewidth": 0,
              "ticks": ""
             }
            },
            "type": "scatterpolargl"
           }
          ],
          "scatterternary": [
           {
            "marker": {
             "colorbar": {
              "outlinewidth": 0,
              "ticks": ""
             }
            },
            "type": "scatterternary"
           }
          ],
          "surface": [
           {
            "colorbar": {
             "outlinewidth": 0,
             "ticks": ""
            },
            "colorscale": [
             [
              0,
              "#0d0887"
             ],
             [
              0.1111111111111111,
              "#46039f"
             ],
             [
              0.2222222222222222,
              "#7201a8"
             ],
             [
              0.3333333333333333,
              "#9c179e"
             ],
             [
              0.4444444444444444,
              "#bd3786"
             ],
             [
              0.5555555555555556,
              "#d8576b"
             ],
             [
              0.6666666666666666,
              "#ed7953"
             ],
             [
              0.7777777777777778,
              "#fb9f3a"
             ],
             [
              0.8888888888888888,
              "#fdca26"
             ],
             [
              1,
              "#f0f921"
             ]
            ],
            "type": "surface"
           }
          ],
          "table": [
           {
            "cells": {
             "fill": {
              "color": "#EBF0F8"
             },
             "line": {
              "color": "white"
             }
            },
            "header": {
             "fill": {
              "color": "#C8D4E3"
             },
             "line": {
              "color": "white"
             }
            },
            "type": "table"
           }
          ]
         },
         "layout": {
          "annotationdefaults": {
           "arrowcolor": "#2a3f5f",
           "arrowhead": 0,
           "arrowwidth": 1
          },
          "autotypenumbers": "strict",
          "coloraxis": {
           "colorbar": {
            "outlinewidth": 0,
            "ticks": ""
           }
          },
          "colorscale": {
           "diverging": [
            [
             0,
             "#8e0152"
            ],
            [
             0.1,
             "#c51b7d"
            ],
            [
             0.2,
             "#de77ae"
            ],
            [
             0.3,
             "#f1b6da"
            ],
            [
             0.4,
             "#fde0ef"
            ],
            [
             0.5,
             "#f7f7f7"
            ],
            [
             0.6,
             "#e6f5d0"
            ],
            [
             0.7,
             "#b8e186"
            ],
            [
             0.8,
             "#7fbc41"
            ],
            [
             0.9,
             "#4d9221"
            ],
            [
             1,
             "#276419"
            ]
           ],
           "sequential": [
            [
             0,
             "#0d0887"
            ],
            [
             0.1111111111111111,
             "#46039f"
            ],
            [
             0.2222222222222222,
             "#7201a8"
            ],
            [
             0.3333333333333333,
             "#9c179e"
            ],
            [
             0.4444444444444444,
             "#bd3786"
            ],
            [
             0.5555555555555556,
             "#d8576b"
            ],
            [
             0.6666666666666666,
             "#ed7953"
            ],
            [
             0.7777777777777778,
             "#fb9f3a"
            ],
            [
             0.8888888888888888,
             "#fdca26"
            ],
            [
             1,
             "#f0f921"
            ]
           ],
           "sequentialminus": [
            [
             0,
             "#0d0887"
            ],
            [
             0.1111111111111111,
             "#46039f"
            ],
            [
             0.2222222222222222,
             "#7201a8"
            ],
            [
             0.3333333333333333,
             "#9c179e"
            ],
            [
             0.4444444444444444,
             "#bd3786"
            ],
            [
             0.5555555555555556,
             "#d8576b"
            ],
            [
             0.6666666666666666,
             "#ed7953"
            ],
            [
             0.7777777777777778,
             "#fb9f3a"
            ],
            [
             0.8888888888888888,
             "#fdca26"
            ],
            [
             1,
             "#f0f921"
            ]
           ]
          },
          "colorway": [
           "#636efa",
           "#EF553B",
           "#00cc96",
           "#ab63fa",
           "#FFA15A",
           "#19d3f3",
           "#FF6692",
           "#B6E880",
           "#FF97FF",
           "#FECB52"
          ],
          "font": {
           "color": "#2a3f5f"
          },
          "geo": {
           "bgcolor": "white",
           "lakecolor": "white",
           "landcolor": "#E5ECF6",
           "showlakes": true,
           "showland": true,
           "subunitcolor": "white"
          },
          "hoverlabel": {
           "align": "left"
          },
          "hovermode": "closest",
          "mapbox": {
           "style": "light"
          },
          "paper_bgcolor": "white",
          "plot_bgcolor": "#E5ECF6",
          "polar": {
           "angularaxis": {
            "gridcolor": "white",
            "linecolor": "white",
            "ticks": ""
           },
           "bgcolor": "#E5ECF6",
           "radialaxis": {
            "gridcolor": "white",
            "linecolor": "white",
            "ticks": ""
           }
          },
          "scene": {
           "xaxis": {
            "backgroundcolor": "#E5ECF6",
            "gridcolor": "white",
            "gridwidth": 2,
            "linecolor": "white",
            "showbackground": true,
            "ticks": "",
            "zerolinecolor": "white"
           },
           "yaxis": {
            "backgroundcolor": "#E5ECF6",
            "gridcolor": "white",
            "gridwidth": 2,
            "linecolor": "white",
            "showbackground": true,
            "ticks": "",
            "zerolinecolor": "white"
           },
           "zaxis": {
            "backgroundcolor": "#E5ECF6",
            "gridcolor": "white",
            "gridwidth": 2,
            "linecolor": "white",
            "showbackground": true,
            "ticks": "",
            "zerolinecolor": "white"
           }
          },
          "shapedefaults": {
           "line": {
            "color": "#2a3f5f"
           }
          },
          "ternary": {
           "aaxis": {
            "gridcolor": "white",
            "linecolor": "white",
            "ticks": ""
           },
           "baxis": {
            "gridcolor": "white",
            "linecolor": "white",
            "ticks": ""
           },
           "bgcolor": "#E5ECF6",
           "caxis": {
            "gridcolor": "white",
            "linecolor": "white",
            "ticks": ""
           }
          },
          "title": {
           "x": 0.05
          },
          "xaxis": {
           "automargin": true,
           "gridcolor": "white",
           "linecolor": "white",
           "ticks": "",
           "title": {
            "standoff": 15
           },
           "zerolinecolor": "white",
           "zerolinewidth": 2
          },
          "yaxis": {
           "automargin": true,
           "gridcolor": "white",
           "linecolor": "white",
           "ticks": "",
           "title": {
            "standoff": 15
           },
           "zerolinecolor": "white",
           "zerolinewidth": 2
          }
         }
        },
        "title": {
         "text": "Confusion Matrix for sklearn KNN (k=7)",
         "x": 0.5
        },
        "xaxis": {
         "anchor": "y",
         "constrain": "domain",
         "domain": [
          0,
          1
         ],
         "scaleanchor": "y",
         "title": {
          "text": "Predicted Label"
         }
        },
        "yaxis": {
         "anchor": "x",
         "autorange": "reversed",
         "constrain": "domain",
         "domain": [
          0,
          1
         ],
         "title": {
          "text": "True Label"
         }
        }
       }
      },
      "image/png": "[encoded data removed]"
     },
     "metadata": {},
     "output_type": "display_data"
    }
   ],
   "source": [
    "import plotly.express as px\n",
    "import pandas as pd\n",
    "from sklearn.metrics import confusion_matrix\n",
    "from sklearn.neighbors import KNeighborsClassifier\n",
    "\n",
    "training, training_labels = prepare_samples(\"training.txt\")\n",
    "test, test_labels = prepare_samples(\"test.txt\")\n",
    "\n",
    "knn = KNeighborsClassifier(n_neighbors=best_k_value, p=1)\n",
    "knn.fit(training, training_labels)\n",
    "predictions = knn.predict(test)\n",
    "accuracy = accuracy_score(test_labels,predictions)\n",
    "print(accuracy)\n",
    "\n",
    "labels = [\"Absence\", \"Present\"]\n",
    "cm = confusion_matrix(test_labels, predictions, labels=labels)\n",
    "\n",
    "fig = px.imshow(cm,\n",
    "                labels=dict(x=\"Predicted Label\", y=\"True Label\", color=\"Count\"),\n",
    "                x=labels,\n",
    "                y=labels,\n",
    "                text_auto=True,\n",
    "                color_continuous_scale='Blues',\n",
    "                title=f\"Confusion Matrix for sklearn KNN (k={best_k_value})\")\n",
    "\n",
    "fig.update_layout(title_x=0.5)\n",
    "fig.show()"
   ]
  },
  {
   "cell_type": "markdown",
   "id": "5c3986e1-7a1b-44d6-b1d2-0f11de003486",
   "metadata": {},
   "source": [
    "## Insights and conclussion"
   ]
  },
  {
   "cell_type": "markdown",
   "id": "05007653-74cb-4a6a-b447-6a0e0f466d53",
   "metadata": {},
   "source": [
    "With this activity I have been able to understand the core and the basics of the KNN machine learning algorithm for classification. I was able to identify how tuning and choosing the value for the hyperparameters makes different impact on the model performance. I have learned that for this model, as for others, is very important to tune and to select the correct hyperparameters for the dataset, because for every case the results will be different. It is very important to have this into consideration in order to acieve the best performance as possible.\n",
    "\n",
    "Also, it is very important to make different tests, to don't be afraid of trying different combinations, scenarios, and possibilities for the model, in this way we will be able to reach the best model quality.\n",
    "\n",
    "For example, I have learned that for this algorithm, the more features we can have in out training dataset, the easier for the similarity criteria to difference between vectors with different tags, therefore, the model performance will be better.\n",
    "\n",
    "I also learned that manually imlementing this classification model is a good choice for small datasets, but as long as the dataset grows, a manual implementation is not possible because it is very inefficioent and memory consuming.\n",
    "\n",
    "It is important to understand when it is a good desition to implement manually, and when is better to choose a production grade implementation such as the sklearn KNN model.\n",
    "\n",
    "Finally, I learned that the model will not do magic if the dataset is incoherent and it is'nt well design, for acieving a good model performance, it is very important to perform a quality caracteristics engineering and to try with a different number of featrues to acieve the best results as possible."
   ]
  }
 ],
 "metadata": {
  "kernelspec": {
   "display_name": "Python 3 (ipykernel)",
   "language": "python",
   "name": "python3"
  },
  "language_info": {
   "codemirror_mode": {
    "name": "ipython",
    "version": 3
   },
   "file_extension": ".py",
   "mimetype": "text/x-python",
   "name": "python",
   "nbconvert_exporter": "python",
   "pygments_lexer": "ipython3",
   "version": "3.13.3"
  }
 },
 "nbformat": 4,
 "nbformat_minor": 5
}
