{
 "cells": [
  {
   "cell_type": "markdown",
   "id": "1e78c86b",
   "metadata": {},
   "source": [
    "# Activity 3 Naive Bayes\n",
    "\n",
    "<img src=\"./tec_logo.png\" width=\"auto\" height=\"200\" />\n",
    "\n",
    "**Marcos Dayan Mann**\n",
    "\n",
    "A01782876\n",
    "\n",
    "Deliver date: September 9th, 2025"
   ]
  },
  {
   "cell_type": "markdown",
   "id": "20ee8a43",
   "metadata": {},
   "source": [
    "# # Introduction\n",
    "\n",
    "In this notebook, I implemented a Naive Bayes text classifier for the X dataset with three classes: positive, negative, and neutral.\n",
    "My solution will do the following:\n",
    "\n",
    "- Adapt Naive Bayes to multiple classes.\n",
    "- Use Bag of Wordsfor encoding the text into vectors\n",
    "- Train/evaluate with feature sizes: 20, 40, 60, 80, 100, 120 (top most frequent tokens).\n",
    "- Perform K‑Fold Cross‑Validation for K with values {3, 4, 5, 6}.\n",
    "- Compute macro-precision, macro-recall, macro-F1, and accuracy.\n",
    "- Provide six visualizations to understand behavior across settings.\n",
    "- Compare manual implementation vs scikit-learn.\n",
    "- Provide a brief conclusion."
   ]
  },
  {
   "cell_type": "code",
   "execution_count": 1,
   "id": "00a46236",
   "metadata": {},
   "outputs": [],
   "source": [
    "base_path = \"dataset/\"\n",
    "\n",
    "import os\n",
    "\n",
    "train_file = os.path.join(base_path, \"training.txt\")\n",
    "test_file  = os.path.join(base_path, \"test.txt\")\n",
    "\n",
    "if not (os.path.exists(train_file) and os.path.exists(test_file)):\n",
    "    print(\"WARNING: training.txt and/or test.txt not found in:\", base_path)\n"
   ]
  },
  {
   "cell_type": "markdown",
   "id": "dcf5c542",
   "metadata": {},
   "source": [
    "\n",
    "# Loading, Vocabulary, and Vectorization with bag of worda"
   ]
  },
  {
   "cell_type": "code",
   "execution_count": 2,
   "id": "3c7ffeb2",
   "metadata": {},
   "outputs": [],
   "source": [
    "\n",
    "import codecs\n",
    "import operator\n",
    "from collections import Counter, defaultdict\n",
    "\n",
    "def load_labeled_lines(path):\n",
    "    \"\"\"\n",
    "    Load lines in the 'text @@@ label' format.\n",
    "    Returns: list of (tokens_list, label)\n",
    "    \"\"\"\n",
    "    samples = []\n",
    "    with codecs.open(path, \"r\", \"UTF-8\") as f:\n",
    "        for line in f:\n",
    "            line = line.strip()\n",
    "            if not line:\n",
    "                continue\n",
    "            parts = line.split(\"@@@\")\n",
    "            if len(parts) != 2:\n",
    "                continue\n",
    "            text, label = parts[0].strip(), parts[1].strip()\n",
    "            tokens = text.split()\n",
    "            samples.append((tokens, label))\n",
    "    return samples\n",
    "\n",
    "def build_vocabulary(training_samples):\n",
    "    \"\"\"\n",
    "    Build token frequency dictionary from training samples.\n",
    "    Returns a list of tokens sorted by global frequency (desc).\n",
    "    \"\"\"\n",
    "    vocab_counter = Counter()\n",
    "    for tokens, _ in training_samples:\n",
    "        vocab_counter.update(tokens)\n",
    "    sorted_vocab = sorted(vocab_counter.items(), key=lambda kv: (-kv[1], kv[0]))\n",
    "    return [tok for tok, cnt in sorted_vocab]\n",
    "\n",
    "def vectorize_bow(samples, features):\n",
    "    \"\"\"\n",
    "    Convert samples to Bag-of-Words count vectors given a 'features' list (top-N tokens).\n",
    "    Returns X (list of lists) and y (labels).\n",
    "    \"\"\"\n",
    "    idx = {tok: i for i, tok in enumerate(features)}\n",
    "    X = []\n",
    "    y = []\n",
    "    for tokens, label in samples:\n",
    "        counts = Counter(tokens)\n",
    "        vec = [0]*len(features)\n",
    "        for t, c in counts.items():\n",
    "            if t in idx:\n",
    "                vec[idx[t]] = c  # frequency count\n",
    "        X.append(vec)\n",
    "        y.append(label)\n",
    "    return X, y\n"
   ]
  },
  {
   "cell_type": "markdown",
   "id": "d838b04d",
   "metadata": {},
   "source": [
    "## 3.1 Load Dataset"
   ]
  },
  {
   "cell_type": "code",
   "execution_count": 3,
   "id": "3b63ebc2",
   "metadata": {},
   "outputs": [
    {
     "name": "stdout",
     "output_type": "stream",
     "text": [
      "Train samples: 4187 | Test samples: 867\n",
      "Detected classes: ['c', 'negative', 'neutral', 'positive']\n"
     ]
    }
   ],
   "source": [
    "train_samples = load_labeled_lines(train_file)\n",
    "test_samples  = load_labeled_lines(test_file)\n",
    "\n",
    "print(f\"Train samples: {len(train_samples)} | Test samples: {len(test_samples)}\")\n",
    "labels_set = sorted({lab for _, lab in train_samples})\n",
    "print(\"Detected classes:\", labels_set)\n"
   ]
  },
  {
   "cell_type": "markdown",
   "id": "82b827d8",
   "metadata": {},
   "source": [
    "## 3.2 Feature Selection (Top-N) and BOW Vectors"
   ]
  },
  {
   "cell_type": "markdown",
   "id": "7b5d680f-db7c-4e23-a415-4dc8caa32624",
   "metadata": {},
   "source": [
    "## Build global vocabulary from training set"
   ]
  },
  {
   "cell_type": "code",
   "execution_count": 4,
   "id": "68b5b2de-9a7b-4488-b8cd-1fb683cf1314",
   "metadata": {},
   "outputs": [
    {
     "name": "stdout",
     "output_type": "stream",
     "text": [
      "Top 10 tokens in vocabulary: ['the', 'to', 'in', 'on', 'a', 'and', 'i', 'of', 'for', 'is']\n"
     ]
    }
   ],
   "source": [
    "vocabulary = build_vocabulary(train_samples)\n",
    "print(\"Top 10 tokens in vocabulary:\", vocabulary[:10])\n",
    "\n",
    "def make_vectors(topN):\n",
    "    features = vocabulary[:topN]\n",
    "    X_train, y_train = vectorize_bow(train_samples, features)\n",
    "    X_test,  y_test  = vectorize_bow(test_samples, features)\n",
    "    return features, X_train, y_train, X_test, y_test\n",
    "\n",
    "_ = make_vectors(40)"
   ]
  },
  {
   "cell_type": "markdown",
   "id": "9774a285",
   "metadata": {},
   "source": [
    "\n",
    "# Manual Naive Bayes wirh bag of words"
   ]
  },
  {
   "cell_type": "code",
   "execution_count": 7,
   "id": "6e7e78d1",
   "metadata": {},
   "outputs": [],
   "source": [
    "\n",
    "import math\n",
    "from collections import Counter\n",
    "import numpy as np\n",
    "\n",
    "def train_naive_bayes_multiclass(X, y, alpha=1.0):\n",
    "    \"\"\"\n",
    "    Train the model\n",
    "\n",
    "    Used ChatGPT5 in order to implement the algorithm with optimal settings\n",
    "    \"\"\"\n",
    "    n_docs = len(X)\n",
    "    n_features = len(X[0]) if X else 0\n",
    "    classes = sorted(set(y))\n",
    "\n",
    "    class_counts = Counter(y)\n",
    "    priors_log = {c: math.log(class_counts[c] / n_docs) for c in classes}\n",
    "\n",
    "    feature_counts_per_class = {c: [0]*n_features for c in classes}\n",
    "    total_counts_per_class = {c: 0 for c in classes}\n",
    "    for vec, lab in zip(X, y):\n",
    "        total_counts_per_class[lab] += sum(vec)\n",
    "        fc = feature_counts_per_class[lab]\n",
    "        for i, cnt in enumerate(vec):\n",
    "            fc[i] += cnt\n",
    "\n",
    "    cond_logprob = {c: [0]*n_features for c in classes}\n",
    "    for c in classes:\n",
    "        denom = total_counts_per_class[c] + alpha * n_features\n",
    "        for i in range(n_features):\n",
    "            num = feature_counts_per_class[c][i] + alpha\n",
    "            cond_logprob[c][i] = math.log(num / denom)\n",
    "    return {\"classes\": classes, \"priors_log\": priors_log, \"cond_logprob\": cond_logprob}\n",
    "\n",
    "def predict_naive_bayes(model, X):\n",
    "    classes = model[\"classes\"]\n",
    "    priors_log = model[\"priors_log\"]\n",
    "    cond_logprob = model[\"cond_logprob\"]\n",
    "    preds = []\n",
    "    for vec in X:\n",
    "        scores = {}\n",
    "        for c in classes:\n",
    "            s = priors_log[c]\n",
    "            clp = cond_logprob[c]\n",
    "            for i, cnt in enumerate(vec):\n",
    "                if cnt:\n",
    "                    s += cnt * clp[i]\n",
    "            scores[c] = s\n",
    "\n",
    "        pred = max(scores.items(), key=lambda kv: kv[1])[0]\n",
    "        preds.append(pred)\n",
    "    return preds\n"
   ]
  },
  {
   "cell_type": "markdown",
   "id": "314e4a03",
   "metadata": {},
   "source": [
    "\n",
    "# Evaluation: Accuracy, Macro-Precision, Macro-Recall, Macro-F1 with K-Fold"
   ]
  },
  {
   "cell_type": "code",
   "execution_count": 11,
   "id": "1ecf22ba",
   "metadata": {},
   "outputs": [],
   "source": [
    "\n",
    "from sklearn.model_selection import KFold\n",
    "from sklearn.metrics import accuracy_score, precision_score, recall_score, f1_score, confusion_matrix\n",
    "import numpy as np\n",
    "\n",
    "def evaluate_model_cv_manual(X, y, k=5, alpha=1.0, random_state=42):\n",
    "    \"\"\"\n",
    "    K-Fold evaluation for the manual model.\n",
    "    \"\"\"\n",
    "    X = np.array(X, dtype=object)\n",
    "    y = np.array(y)\n",
    "    kf = KFold(n_splits=k, shuffle=True, random_state=random_state)\n",
    "    accs, precs, recs, f1s = [], [], [], []\n",
    "    cm_sum = None\n",
    "    classes = sorted(set(y))\n",
    "\n",
    "    for train_idx, test_idx in kf.split(X):\n",
    "        X_tr = [list(map(int, x)) for x in X[train_idx]]\n",
    "        y_tr = list(y[train_idx])\n",
    "        X_te = [list(map(int, x)) for x in X[test_idx]]\n",
    "        y_te = list(y[test_idx])\n",
    "\n",
    "        model = train_naive_bayes_multiclass(X_tr, y_tr, alpha=alpha)\n",
    "        preds = predict_naive_bayes(model, X_te)\n",
    "\n",
    "        accs.append(accuracy_score(y_te, preds))\n",
    "        precs.append(precision_score(y_te, preds, average='macro', zero_division=0))\n",
    "        recs.append(recall_score(y_te, preds, average='macro', zero_division=0))\n",
    "        f1s.append(f1_score(y_te, preds, average='macro', zero_division=0))\n",
    "\n",
    "        cm = confusion_matrix(y_te, preds, labels=classes)\n",
    "        cm_sum = cm if cm_sum is None else cm_sum + cm\n",
    "\n",
    "    results = {\n",
    "        \"classes\": classes,\n",
    "        \"accuracy\": np.array(accs),\n",
    "        \"precision_macro\": np.array(precs),\n",
    "        \"recall_macro\": np.array(recs),\n",
    "        \"f1_macro\": np.array(f1s),\n",
    "        \"confusion_matrix_sum\": cm_sum\n",
    "    }\n",
    "    return results\n",
    "\n",
    "def manual_valuation(feature_grid=(20,40,60,80,100,120), k_grid=(3,4,5,6), alpha=1.0):\n",
    "    \"\"\"\n",
    "    Run the required grid over feature sizes and K folds. Returns a list of dicts per run.\n",
    "    \"\"\"\n",
    "    out = []\n",
    "    for topN in feature_grid:\n",
    "        features, X_train, y_train, _, _ = make_vectors(topN)\n",
    "        for k in k_grid:\n",
    "            res = evaluate_model_cv_manual(X_train, y_train, k=k, alpha=alpha)\n",
    "            out.append({\n",
    "                \"topN\": topN,\n",
    "                \"k\": k,\n",
    "                \"acc_mean\": float(res[\"accuracy\"].mean()),\n",
    "                \"prec_mean\": float(res[\"precision_macro\"].mean()),\n",
    "                \"rec_mean\": float(res[\"recall_macro\"].mean()),\n",
    "                \"f1_mean\": float(res[\"f1_macro\"].mean()),\n",
    "                \"acc_std\": float(res[\"accuracy\"].std()),\n",
    "                \"prec_std\": float(res[\"precision_macro\"].std()),\n",
    "                \"rec_std\": float(res[\"recall_macro\"].std()),\n",
    "                \"f1_std\": float(res[\"f1_macro\"].std()),\n",
    "            })\n",
    "    return out\n"
   ]
  },
  {
   "cell_type": "markdown",
   "id": "1bcdca1d",
   "metadata": {},
   "source": [
    "## 5.1 Run Experiments Grid (Manual NB)"
   ]
  },
  {
   "cell_type": "code",
   "execution_count": 12,
   "id": "bd8e0885",
   "metadata": {},
   "outputs": [
    {
     "data": {
      "text/html": [
       "<div>\n",
       "<style scoped>\n",
       "    .dataframe tbody tr th:only-of-type {\n",
       "        vertical-align: middle;\n",
       "    }\n",
       "\n",
       "    .dataframe tbody tr th {\n",
       "        vertical-align: top;\n",
       "    }\n",
       "\n",
       "    .dataframe thead th {\n",
       "        text-align: right;\n",
       "    }\n",
       "</style>\n",
       "<table border=\"1\" class=\"dataframe\">\n",
       "  <thead>\n",
       "    <tr style=\"text-align: right;\">\n",
       "      <th></th>\n",
       "      <th>topN</th>\n",
       "      <th>k</th>\n",
       "      <th>acc_mean</th>\n",
       "      <th>prec_mean</th>\n",
       "      <th>rec_mean</th>\n",
       "      <th>f1_mean</th>\n",
       "      <th>acc_std</th>\n",
       "      <th>prec_std</th>\n",
       "      <th>rec_std</th>\n",
       "      <th>f1_std</th>\n",
       "    </tr>\n",
       "  </thead>\n",
       "  <tbody>\n",
       "    <tr>\n",
       "      <th>0</th>\n",
       "      <td>20</td>\n",
       "      <td>3</td>\n",
       "      <td>0.529735</td>\n",
       "      <td>0.369391</td>\n",
       "      <td>0.309403</td>\n",
       "      <td>0.235185</td>\n",
       "      <td>0.001926</td>\n",
       "      <td>0.083361</td>\n",
       "      <td>0.041257</td>\n",
       "      <td>0.028705</td>\n",
       "    </tr>\n",
       "    <tr>\n",
       "      <th>1</th>\n",
       "      <td>20</td>\n",
       "      <td>4</td>\n",
       "      <td>0.528780</td>\n",
       "      <td>0.355678</td>\n",
       "      <td>0.315614</td>\n",
       "      <td>0.239758</td>\n",
       "      <td>0.004984</td>\n",
       "      <td>0.068917</td>\n",
       "      <td>0.038178</td>\n",
       "      <td>0.024958</td>\n",
       "    </tr>\n",
       "    <tr>\n",
       "      <th>2</th>\n",
       "      <td>20</td>\n",
       "      <td>5</td>\n",
       "      <td>0.527822</td>\n",
       "      <td>0.356579</td>\n",
       "      <td>0.320054</td>\n",
       "      <td>0.245051</td>\n",
       "      <td>0.010707</td>\n",
       "      <td>0.049813</td>\n",
       "      <td>0.035384</td>\n",
       "      <td>0.025240</td>\n",
       "    </tr>\n",
       "    <tr>\n",
       "      <th>3</th>\n",
       "      <td>20</td>\n",
       "      <td>6</td>\n",
       "      <td>0.526632</td>\n",
       "      <td>0.329599</td>\n",
       "      <td>0.320809</td>\n",
       "      <td>0.242675</td>\n",
       "      <td>0.009729</td>\n",
       "      <td>0.071195</td>\n",
       "      <td>0.034624</td>\n",
       "      <td>0.027635</td>\n",
       "    </tr>\n",
       "    <tr>\n",
       "      <th>4</th>\n",
       "      <td>40</td>\n",
       "      <td>3</td>\n",
       "      <td>0.529497</td>\n",
       "      <td>0.379736</td>\n",
       "      <td>0.333727</td>\n",
       "      <td>0.293638</td>\n",
       "      <td>0.002660</td>\n",
       "      <td>0.065470</td>\n",
       "      <td>0.046405</td>\n",
       "      <td>0.043801</td>\n",
       "    </tr>\n",
       "    <tr>\n",
       "      <th>5</th>\n",
       "      <td>40</td>\n",
       "      <td>4</td>\n",
       "      <td>0.529496</td>\n",
       "      <td>0.392907</td>\n",
       "      <td>0.338982</td>\n",
       "      <td>0.296533</td>\n",
       "      <td>0.006146</td>\n",
       "      <td>0.070607</td>\n",
       "      <td>0.043390</td>\n",
       "      <td>0.036839</td>\n",
       "    </tr>\n",
       "    <tr>\n",
       "      <th>6</th>\n",
       "      <td>40</td>\n",
       "      <td>5</td>\n",
       "      <td>0.526388</td>\n",
       "      <td>0.389812</td>\n",
       "      <td>0.341503</td>\n",
       "      <td>0.298981</td>\n",
       "      <td>0.013026</td>\n",
       "      <td>0.060110</td>\n",
       "      <td>0.039075</td>\n",
       "      <td>0.032588</td>\n",
       "    </tr>\n",
       "    <tr>\n",
       "      <th>7</th>\n",
       "      <td>40</td>\n",
       "      <td>6</td>\n",
       "      <td>0.527110</td>\n",
       "      <td>0.396779</td>\n",
       "      <td>0.345789</td>\n",
       "      <td>0.302884</td>\n",
       "      <td>0.007504</td>\n",
       "      <td>0.052688</td>\n",
       "      <td>0.035245</td>\n",
       "      <td>0.028796</td>\n",
       "    </tr>\n",
       "    <tr>\n",
       "      <th>8</th>\n",
       "      <td>60</td>\n",
       "      <td>3</td>\n",
       "      <td>0.539290</td>\n",
       "      <td>0.413797</td>\n",
       "      <td>0.369232</td>\n",
       "      <td>0.354981</td>\n",
       "      <td>0.006439</td>\n",
       "      <td>0.058926</td>\n",
       "      <td>0.044195</td>\n",
       "      <td>0.042839</td>\n",
       "    </tr>\n",
       "    <tr>\n",
       "      <th>9</th>\n",
       "      <td>60</td>\n",
       "      <td>4</td>\n",
       "      <td>0.537859</td>\n",
       "      <td>0.417453</td>\n",
       "      <td>0.375282</td>\n",
       "      <td>0.359463</td>\n",
       "      <td>0.009221</td>\n",
       "      <td>0.047388</td>\n",
       "      <td>0.036100</td>\n",
       "      <td>0.031311</td>\n",
       "    </tr>\n",
       "    <tr>\n",
       "      <th>10</th>\n",
       "      <td>60</td>\n",
       "      <td>5</td>\n",
       "      <td>0.535944</td>\n",
       "      <td>0.425722</td>\n",
       "      <td>0.380013</td>\n",
       "      <td>0.364393</td>\n",
       "      <td>0.013293</td>\n",
       "      <td>0.053951</td>\n",
       "      <td>0.040384</td>\n",
       "      <td>0.037268</td>\n",
       "    </tr>\n",
       "    <tr>\n",
       "      <th>11</th>\n",
       "      <td>60</td>\n",
       "      <td>6</td>\n",
       "      <td>0.535229</td>\n",
       "      <td>0.425653</td>\n",
       "      <td>0.381374</td>\n",
       "      <td>0.364005</td>\n",
       "      <td>0.011688</td>\n",
       "      <td>0.058736</td>\n",
       "      <td>0.041697</td>\n",
       "      <td>0.039397</td>\n",
       "    </tr>\n",
       "    <tr>\n",
       "      <th>12</th>\n",
       "      <td>80</td>\n",
       "      <td>3</td>\n",
       "      <td>0.545261</td>\n",
       "      <td>0.431353</td>\n",
       "      <td>0.392071</td>\n",
       "      <td>0.389025</td>\n",
       "      <td>0.009545</td>\n",
       "      <td>0.057066</td>\n",
       "      <td>0.049098</td>\n",
       "      <td>0.049539</td>\n",
       "    </tr>\n",
       "    <tr>\n",
       "      <th>13</th>\n",
       "      <td>80</td>\n",
       "      <td>4</td>\n",
       "      <td>0.547409</td>\n",
       "      <td>0.444011</td>\n",
       "      <td>0.403051</td>\n",
       "      <td>0.400168</td>\n",
       "      <td>0.004541</td>\n",
       "      <td>0.059957</td>\n",
       "      <td>0.047529</td>\n",
       "      <td>0.047328</td>\n",
       "    </tr>\n",
       "    <tr>\n",
       "      <th>14</th>\n",
       "      <td>80</td>\n",
       "      <td>5</td>\n",
       "      <td>0.543826</td>\n",
       "      <td>0.444399</td>\n",
       "      <td>0.405080</td>\n",
       "      <td>0.401202</td>\n",
       "      <td>0.011647</td>\n",
       "      <td>0.052587</td>\n",
       "      <td>0.042315</td>\n",
       "      <td>0.040629</td>\n",
       "    </tr>\n",
       "    <tr>\n",
       "      <th>15</th>\n",
       "      <td>80</td>\n",
       "      <td>6</td>\n",
       "      <td>0.544778</td>\n",
       "      <td>0.451967</td>\n",
       "      <td>0.410038</td>\n",
       "      <td>0.406096</td>\n",
       "      <td>0.010597</td>\n",
       "      <td>0.060548</td>\n",
       "      <td>0.047249</td>\n",
       "      <td>0.046681</td>\n",
       "    </tr>\n",
       "    <tr>\n",
       "      <th>16</th>\n",
       "      <td>100</td>\n",
       "      <td>3</td>\n",
       "      <td>0.545742</td>\n",
       "      <td>0.429509</td>\n",
       "      <td>0.399312</td>\n",
       "      <td>0.398516</td>\n",
       "      <td>0.016023</td>\n",
       "      <td>0.050795</td>\n",
       "      <td>0.043728</td>\n",
       "      <td>0.044653</td>\n",
       "    </tr>\n",
       "    <tr>\n",
       "      <th>17</th>\n",
       "      <td>100</td>\n",
       "      <td>4</td>\n",
       "      <td>0.551948</td>\n",
       "      <td>0.449583</td>\n",
       "      <td>0.415430</td>\n",
       "      <td>0.415675</td>\n",
       "      <td>0.006647</td>\n",
       "      <td>0.059252</td>\n",
       "      <td>0.048231</td>\n",
       "      <td>0.048693</td>\n",
       "    </tr>\n",
       "    <tr>\n",
       "      <th>18</th>\n",
       "      <td>100</td>\n",
       "      <td>5</td>\n",
       "      <td>0.550516</td>\n",
       "      <td>0.451943</td>\n",
       "      <td>0.417325</td>\n",
       "      <td>0.416293</td>\n",
       "      <td>0.013132</td>\n",
       "      <td>0.051808</td>\n",
       "      <td>0.041468</td>\n",
       "      <td>0.040604</td>\n",
       "    </tr>\n",
       "    <tr>\n",
       "      <th>19</th>\n",
       "      <td>100</td>\n",
       "      <td>6</td>\n",
       "      <td>0.545497</td>\n",
       "      <td>0.450501</td>\n",
       "      <td>0.418036</td>\n",
       "      <td>0.416526</td>\n",
       "      <td>0.014872</td>\n",
       "      <td>0.058780</td>\n",
       "      <td>0.047129</td>\n",
       "      <td>0.047151</td>\n",
       "    </tr>\n",
       "    <tr>\n",
       "      <th>20</th>\n",
       "      <td>120</td>\n",
       "      <td>3</td>\n",
       "      <td>0.548127</td>\n",
       "      <td>0.434904</td>\n",
       "      <td>0.407806</td>\n",
       "      <td>0.408993</td>\n",
       "      <td>0.010854</td>\n",
       "      <td>0.058463</td>\n",
       "      <td>0.051283</td>\n",
       "      <td>0.052874</td>\n",
       "    </tr>\n",
       "    <tr>\n",
       "      <th>21</th>\n",
       "      <td>120</td>\n",
       "      <td>4</td>\n",
       "      <td>0.551946</td>\n",
       "      <td>0.449954</td>\n",
       "      <td>0.421069</td>\n",
       "      <td>0.422731</td>\n",
       "      <td>0.013318</td>\n",
       "      <td>0.064271</td>\n",
       "      <td>0.053760</td>\n",
       "      <td>0.055260</td>\n",
       "    </tr>\n",
       "    <tr>\n",
       "      <th>22</th>\n",
       "      <td>120</td>\n",
       "      <td>5</td>\n",
       "      <td>0.551469</td>\n",
       "      <td>0.456761</td>\n",
       "      <td>0.425632</td>\n",
       "      <td>0.426795</td>\n",
       "      <td>0.011378</td>\n",
       "      <td>0.057315</td>\n",
       "      <td>0.047270</td>\n",
       "      <td>0.047499</td>\n",
       "    </tr>\n",
       "    <tr>\n",
       "      <th>23</th>\n",
       "      <td>120</td>\n",
       "      <td>6</td>\n",
       "      <td>0.546213</td>\n",
       "      <td>0.452649</td>\n",
       "      <td>0.423450</td>\n",
       "      <td>0.423710</td>\n",
       "      <td>0.010207</td>\n",
       "      <td>0.054124</td>\n",
       "      <td>0.044155</td>\n",
       "      <td>0.044415</td>\n",
       "    </tr>\n",
       "  </tbody>\n",
       "</table>\n",
       "</div>"
      ],
      "text/plain": [
       "    topN  k  acc_mean  prec_mean  rec_mean   f1_mean   acc_std  prec_std  \\\n",
       "0     20  3  0.529735   0.369391  0.309403  0.235185  0.001926  0.083361   \n",
       "1     20  4  0.528780   0.355678  0.315614  0.239758  0.004984  0.068917   \n",
       "2     20  5  0.527822   0.356579  0.320054  0.245051  0.010707  0.049813   \n",
       "3     20  6  0.526632   0.329599  0.320809  0.242675  0.009729  0.071195   \n",
       "4     40  3  0.529497   0.379736  0.333727  0.293638  0.002660  0.065470   \n",
       "5     40  4  0.529496   0.392907  0.338982  0.296533  0.006146  0.070607   \n",
       "6     40  5  0.526388   0.389812  0.341503  0.298981  0.013026  0.060110   \n",
       "7     40  6  0.527110   0.396779  0.345789  0.302884  0.007504  0.052688   \n",
       "8     60  3  0.539290   0.413797  0.369232  0.354981  0.006439  0.058926   \n",
       "9     60  4  0.537859   0.417453  0.375282  0.359463  0.009221  0.047388   \n",
       "10    60  5  0.535944   0.425722  0.380013  0.364393  0.013293  0.053951   \n",
       "11    60  6  0.535229   0.425653  0.381374  0.364005  0.011688  0.058736   \n",
       "12    80  3  0.545261   0.431353  0.392071  0.389025  0.009545  0.057066   \n",
       "13    80  4  0.547409   0.444011  0.403051  0.400168  0.004541  0.059957   \n",
       "14    80  5  0.543826   0.444399  0.405080  0.401202  0.011647  0.052587   \n",
       "15    80  6  0.544778   0.451967  0.410038  0.406096  0.010597  0.060548   \n",
       "16   100  3  0.545742   0.429509  0.399312  0.398516  0.016023  0.050795   \n",
       "17   100  4  0.551948   0.449583  0.415430  0.415675  0.006647  0.059252   \n",
       "18   100  5  0.550516   0.451943  0.417325  0.416293  0.013132  0.051808   \n",
       "19   100  6  0.545497   0.450501  0.418036  0.416526  0.014872  0.058780   \n",
       "20   120  3  0.548127   0.434904  0.407806  0.408993  0.010854  0.058463   \n",
       "21   120  4  0.551946   0.449954  0.421069  0.422731  0.013318  0.064271   \n",
       "22   120  5  0.551469   0.456761  0.425632  0.426795  0.011378  0.057315   \n",
       "23   120  6  0.546213   0.452649  0.423450  0.423710  0.010207  0.054124   \n",
       "\n",
       "     rec_std    f1_std  \n",
       "0   0.041257  0.028705  \n",
       "1   0.038178  0.024958  \n",
       "2   0.035384  0.025240  \n",
       "3   0.034624  0.027635  \n",
       "4   0.046405  0.043801  \n",
       "5   0.043390  0.036839  \n",
       "6   0.039075  0.032588  \n",
       "7   0.035245  0.028796  \n",
       "8   0.044195  0.042839  \n",
       "9   0.036100  0.031311  \n",
       "10  0.040384  0.037268  \n",
       "11  0.041697  0.039397  \n",
       "12  0.049098  0.049539  \n",
       "13  0.047529  0.047328  \n",
       "14  0.042315  0.040629  \n",
       "15  0.047249  0.046681  \n",
       "16  0.043728  0.044653  \n",
       "17  0.048231  0.048693  \n",
       "18  0.041468  0.040604  \n",
       "19  0.047129  0.047151  \n",
       "20  0.051283  0.052874  \n",
       "21  0.053760  0.055260  \n",
       "22  0.047270  0.047499  \n",
       "23  0.044155  0.044415  "
      ]
     },
     "execution_count": 12,
     "metadata": {},
     "output_type": "execute_result"
    }
   ],
   "source": [
    "\n",
    "import pandas as pd\n",
    "\n",
    "manual_results = manual_valuation()\n",
    "df_manual = pd.DataFrame(manual_results).sort_values([\"topN\",\"k\"]).reset_index(drop=True)\n",
    "df_manual\n"
   ]
  },
  {
   "cell_type": "markdown",
   "id": "d5b32d5c",
   "metadata": {},
   "source": [
    "# Scikit-learn MultinomialNB Baseline and Cross-Validation"
   ]
  },
  {
   "cell_type": "code",
   "execution_count": 16,
   "id": "449cf979",
   "metadata": {},
   "outputs": [
    {
     "name": "stderr",
     "output_type": "stream",
     "text": [
      "/opt/homebrew/Cellar/jupyterlab/4.4.1/libexec/lib/python3.13/site-packages/sklearn/model_selection/_split.py:811: UserWarning: The least populated class in y has only 1 members, which is less than n_splits=3.\n",
      "  warnings.warn(\n",
      "/opt/homebrew/Cellar/jupyterlab/4.4.1/libexec/lib/python3.13/site-packages/sklearn/metrics/_classification.py:1731: UndefinedMetricWarning: Precision is ill-defined and being set to 0.0 in labels with no predicted samples. Use `zero_division` parameter to control this behavior.\n",
      "  _warn_prf(average, modifier, f\"{metric.capitalize()} is\", result.shape[0])\n",
      "/opt/homebrew/Cellar/jupyterlab/4.4.1/libexec/lib/python3.13/site-packages/sklearn/model_selection/_split.py:811: UserWarning: The least populated class in y has only 1 members, which is less than n_splits=4.\n",
      "  warnings.warn(\n",
      "/opt/homebrew/Cellar/jupyterlab/4.4.1/libexec/lib/python3.13/site-packages/sklearn/metrics/_classification.py:1731: UndefinedMetricWarning: Precision is ill-defined and being set to 0.0 in labels with no predicted samples. Use `zero_division` parameter to control this behavior.\n",
      "  _warn_prf(average, modifier, f\"{metric.capitalize()} is\", result.shape[0])\n",
      "/opt/homebrew/Cellar/jupyterlab/4.4.1/libexec/lib/python3.13/site-packages/sklearn/model_selection/_split.py:811: UserWarning: The least populated class in y has only 1 members, which is less than n_splits=5.\n",
      "  warnings.warn(\n",
      "/opt/homebrew/Cellar/jupyterlab/4.4.1/libexec/lib/python3.13/site-packages/sklearn/metrics/_classification.py:1731: UndefinedMetricWarning: Precision is ill-defined and being set to 0.0 in labels with no predicted samples. Use `zero_division` parameter to control this behavior.\n",
      "  _warn_prf(average, modifier, f\"{metric.capitalize()} is\", result.shape[0])\n",
      "/opt/homebrew/Cellar/jupyterlab/4.4.1/libexec/lib/python3.13/site-packages/sklearn/model_selection/_split.py:811: UserWarning: The least populated class in y has only 1 members, which is less than n_splits=6.\n",
      "  warnings.warn(\n",
      "/opt/homebrew/Cellar/jupyterlab/4.4.1/libexec/lib/python3.13/site-packages/sklearn/metrics/_classification.py:1731: UndefinedMetricWarning: Precision is ill-defined and being set to 0.0 in labels with no predicted samples. Use `zero_division` parameter to control this behavior.\n",
      "  _warn_prf(average, modifier, f\"{metric.capitalize()} is\", result.shape[0])\n",
      "/opt/homebrew/Cellar/jupyterlab/4.4.1/libexec/lib/python3.13/site-packages/sklearn/model_selection/_split.py:811: UserWarning: The least populated class in y has only 1 members, which is less than n_splits=3.\n",
      "  warnings.warn(\n",
      "/opt/homebrew/Cellar/jupyterlab/4.4.1/libexec/lib/python3.13/site-packages/sklearn/metrics/_classification.py:1731: UndefinedMetricWarning: Precision is ill-defined and being set to 0.0 in labels with no predicted samples. Use `zero_division` parameter to control this behavior.\n",
      "  _warn_prf(average, modifier, f\"{metric.capitalize()} is\", result.shape[0])\n",
      "/opt/homebrew/Cellar/jupyterlab/4.4.1/libexec/lib/python3.13/site-packages/sklearn/model_selection/_split.py:811: UserWarning: The least populated class in y has only 1 members, which is less than n_splits=4.\n",
      "  warnings.warn(\n",
      "/opt/homebrew/Cellar/jupyterlab/4.4.1/libexec/lib/python3.13/site-packages/sklearn/metrics/_classification.py:1731: UndefinedMetricWarning: Precision is ill-defined and being set to 0.0 in labels with no predicted samples. Use `zero_division` parameter to control this behavior.\n",
      "  _warn_prf(average, modifier, f\"{metric.capitalize()} is\", result.shape[0])\n",
      "/opt/homebrew/Cellar/jupyterlab/4.4.1/libexec/lib/python3.13/site-packages/sklearn/model_selection/_split.py:811: UserWarning: The least populated class in y has only 1 members, which is less than n_splits=5.\n",
      "  warnings.warn(\n",
      "/opt/homebrew/Cellar/jupyterlab/4.4.1/libexec/lib/python3.13/site-packages/sklearn/metrics/_classification.py:1731: UndefinedMetricWarning: Precision is ill-defined and being set to 0.0 in labels with no predicted samples. Use `zero_division` parameter to control this behavior.\n",
      "  _warn_prf(average, modifier, f\"{metric.capitalize()} is\", result.shape[0])\n",
      "/opt/homebrew/Cellar/jupyterlab/4.4.1/libexec/lib/python3.13/site-packages/sklearn/model_selection/_split.py:811: UserWarning: The least populated class in y has only 1 members, which is less than n_splits=6.\n",
      "  warnings.warn(\n",
      "/opt/homebrew/Cellar/jupyterlab/4.4.1/libexec/lib/python3.13/site-packages/sklearn/metrics/_classification.py:1731: UndefinedMetricWarning: Precision is ill-defined and being set to 0.0 in labels with no predicted samples. Use `zero_division` parameter to control this behavior.\n",
      "  _warn_prf(average, modifier, f\"{metric.capitalize()} is\", result.shape[0])\n",
      "/opt/homebrew/Cellar/jupyterlab/4.4.1/libexec/lib/python3.13/site-packages/sklearn/model_selection/_split.py:811: UserWarning: The least populated class in y has only 1 members, which is less than n_splits=3.\n",
      "  warnings.warn(\n",
      "/opt/homebrew/Cellar/jupyterlab/4.4.1/libexec/lib/python3.13/site-packages/sklearn/metrics/_classification.py:1731: UndefinedMetricWarning: Precision is ill-defined and being set to 0.0 in labels with no predicted samples. Use `zero_division` parameter to control this behavior.\n",
      "  _warn_prf(average, modifier, f\"{metric.capitalize()} is\", result.shape[0])\n",
      "/opt/homebrew/Cellar/jupyterlab/4.4.1/libexec/lib/python3.13/site-packages/sklearn/model_selection/_split.py:811: UserWarning: The least populated class in y has only 1 members, which is less than n_splits=4.\n",
      "  warnings.warn(\n",
      "/opt/homebrew/Cellar/jupyterlab/4.4.1/libexec/lib/python3.13/site-packages/sklearn/metrics/_classification.py:1731: UndefinedMetricWarning: Precision is ill-defined and being set to 0.0 in labels with no predicted samples. Use `zero_division` parameter to control this behavior.\n",
      "  _warn_prf(average, modifier, f\"{metric.capitalize()} is\", result.shape[0])\n",
      "/opt/homebrew/Cellar/jupyterlab/4.4.1/libexec/lib/python3.13/site-packages/sklearn/model_selection/_split.py:811: UserWarning: The least populated class in y has only 1 members, which is less than n_splits=5.\n",
      "  warnings.warn(\n",
      "/opt/homebrew/Cellar/jupyterlab/4.4.1/libexec/lib/python3.13/site-packages/sklearn/metrics/_classification.py:1731: UndefinedMetricWarning: Precision is ill-defined and being set to 0.0 in labels with no predicted samples. Use `zero_division` parameter to control this behavior.\n",
      "  _warn_prf(average, modifier, f\"{metric.capitalize()} is\", result.shape[0])\n",
      "/opt/homebrew/Cellar/jupyterlab/4.4.1/libexec/lib/python3.13/site-packages/sklearn/model_selection/_split.py:811: UserWarning: The least populated class in y has only 1 members, which is less than n_splits=6.\n",
      "  warnings.warn(\n",
      "/opt/homebrew/Cellar/jupyterlab/4.4.1/libexec/lib/python3.13/site-packages/sklearn/metrics/_classification.py:1731: UndefinedMetricWarning: Precision is ill-defined and being set to 0.0 in labels with no predicted samples. Use `zero_division` parameter to control this behavior.\n",
      "  _warn_prf(average, modifier, f\"{metric.capitalize()} is\", result.shape[0])\n",
      "/opt/homebrew/Cellar/jupyterlab/4.4.1/libexec/lib/python3.13/site-packages/sklearn/model_selection/_split.py:811: UserWarning: The least populated class in y has only 1 members, which is less than n_splits=3.\n",
      "  warnings.warn(\n",
      "/opt/homebrew/Cellar/jupyterlab/4.4.1/libexec/lib/python3.13/site-packages/sklearn/metrics/_classification.py:1731: UndefinedMetricWarning: Precision is ill-defined and being set to 0.0 in labels with no predicted samples. Use `zero_division` parameter to control this behavior.\n",
      "  _warn_prf(average, modifier, f\"{metric.capitalize()} is\", result.shape[0])\n",
      "/opt/homebrew/Cellar/jupyterlab/4.4.1/libexec/lib/python3.13/site-packages/sklearn/model_selection/_split.py:811: UserWarning: The least populated class in y has only 1 members, which is less than n_splits=4.\n",
      "  warnings.warn(\n",
      "/opt/homebrew/Cellar/jupyterlab/4.4.1/libexec/lib/python3.13/site-packages/sklearn/metrics/_classification.py:1731: UndefinedMetricWarning: Precision is ill-defined and being set to 0.0 in labels with no predicted samples. Use `zero_division` parameter to control this behavior.\n",
      "  _warn_prf(average, modifier, f\"{metric.capitalize()} is\", result.shape[0])\n",
      "/opt/homebrew/Cellar/jupyterlab/4.4.1/libexec/lib/python3.13/site-packages/sklearn/model_selection/_split.py:811: UserWarning: The least populated class in y has only 1 members, which is less than n_splits=5.\n",
      "  warnings.warn(\n",
      "/opt/homebrew/Cellar/jupyterlab/4.4.1/libexec/lib/python3.13/site-packages/sklearn/metrics/_classification.py:1731: UndefinedMetricWarning: Precision is ill-defined and being set to 0.0 in labels with no predicted samples. Use `zero_division` parameter to control this behavior.\n",
      "  _warn_prf(average, modifier, f\"{metric.capitalize()} is\", result.shape[0])\n",
      "/opt/homebrew/Cellar/jupyterlab/4.4.1/libexec/lib/python3.13/site-packages/sklearn/model_selection/_split.py:811: UserWarning: The least populated class in y has only 1 members, which is less than n_splits=6.\n",
      "  warnings.warn(\n",
      "/opt/homebrew/Cellar/jupyterlab/4.4.1/libexec/lib/python3.13/site-packages/sklearn/metrics/_classification.py:1731: UndefinedMetricWarning: Precision is ill-defined and being set to 0.0 in labels with no predicted samples. Use `zero_division` parameter to control this behavior.\n",
      "  _warn_prf(average, modifier, f\"{metric.capitalize()} is\", result.shape[0])\n",
      "/opt/homebrew/Cellar/jupyterlab/4.4.1/libexec/lib/python3.13/site-packages/sklearn/model_selection/_split.py:811: UserWarning: The least populated class in y has only 1 members, which is less than n_splits=3.\n",
      "  warnings.warn(\n",
      "/opt/homebrew/Cellar/jupyterlab/4.4.1/libexec/lib/python3.13/site-packages/sklearn/metrics/_classification.py:1731: UndefinedMetricWarning: Precision is ill-defined and being set to 0.0 in labels with no predicted samples. Use `zero_division` parameter to control this behavior.\n",
      "  _warn_prf(average, modifier, f\"{metric.capitalize()} is\", result.shape[0])\n",
      "/opt/homebrew/Cellar/jupyterlab/4.4.1/libexec/lib/python3.13/site-packages/sklearn/model_selection/_split.py:811: UserWarning: The least populated class in y has only 1 members, which is less than n_splits=4.\n",
      "  warnings.warn(\n",
      "/opt/homebrew/Cellar/jupyterlab/4.4.1/libexec/lib/python3.13/site-packages/sklearn/metrics/_classification.py:1731: UndefinedMetricWarning: Precision is ill-defined and being set to 0.0 in labels with no predicted samples. Use `zero_division` parameter to control this behavior.\n",
      "  _warn_prf(average, modifier, f\"{metric.capitalize()} is\", result.shape[0])\n",
      "/opt/homebrew/Cellar/jupyterlab/4.4.1/libexec/lib/python3.13/site-packages/sklearn/model_selection/_split.py:811: UserWarning: The least populated class in y has only 1 members, which is less than n_splits=5.\n",
      "  warnings.warn(\n",
      "/opt/homebrew/Cellar/jupyterlab/4.4.1/libexec/lib/python3.13/site-packages/sklearn/metrics/_classification.py:1731: UndefinedMetricWarning: Precision is ill-defined and being set to 0.0 in labels with no predicted samples. Use `zero_division` parameter to control this behavior.\n",
      "  _warn_prf(average, modifier, f\"{metric.capitalize()} is\", result.shape[0])\n",
      "/opt/homebrew/Cellar/jupyterlab/4.4.1/libexec/lib/python3.13/site-packages/sklearn/model_selection/_split.py:811: UserWarning: The least populated class in y has only 1 members, which is less than n_splits=6.\n",
      "  warnings.warn(\n",
      "/opt/homebrew/Cellar/jupyterlab/4.4.1/libexec/lib/python3.13/site-packages/sklearn/metrics/_classification.py:1731: UndefinedMetricWarning: Precision is ill-defined and being set to 0.0 in labels with no predicted samples. Use `zero_division` parameter to control this behavior.\n",
      "  _warn_prf(average, modifier, f\"{metric.capitalize()} is\", result.shape[0])\n",
      "/opt/homebrew/Cellar/jupyterlab/4.4.1/libexec/lib/python3.13/site-packages/sklearn/model_selection/_split.py:811: UserWarning: The least populated class in y has only 1 members, which is less than n_splits=3.\n",
      "  warnings.warn(\n",
      "/opt/homebrew/Cellar/jupyterlab/4.4.1/libexec/lib/python3.13/site-packages/sklearn/metrics/_classification.py:1731: UndefinedMetricWarning: Precision is ill-defined and being set to 0.0 in labels with no predicted samples. Use `zero_division` parameter to control this behavior.\n",
      "  _warn_prf(average, modifier, f\"{metric.capitalize()} is\", result.shape[0])\n",
      "/opt/homebrew/Cellar/jupyterlab/4.4.1/libexec/lib/python3.13/site-packages/sklearn/model_selection/_split.py:811: UserWarning: The least populated class in y has only 1 members, which is less than n_splits=4.\n",
      "  warnings.warn(\n",
      "/opt/homebrew/Cellar/jupyterlab/4.4.1/libexec/lib/python3.13/site-packages/sklearn/metrics/_classification.py:1731: UndefinedMetricWarning: Precision is ill-defined and being set to 0.0 in labels with no predicted samples. Use `zero_division` parameter to control this behavior.\n",
      "  _warn_prf(average, modifier, f\"{metric.capitalize()} is\", result.shape[0])\n",
      "/opt/homebrew/Cellar/jupyterlab/4.4.1/libexec/lib/python3.13/site-packages/sklearn/model_selection/_split.py:811: UserWarning: The least populated class in y has only 1 members, which is less than n_splits=5.\n",
      "  warnings.warn(\n",
      "/opt/homebrew/Cellar/jupyterlab/4.4.1/libexec/lib/python3.13/site-packages/sklearn/metrics/_classification.py:1731: UndefinedMetricWarning: Precision is ill-defined and being set to 0.0 in labels with no predicted samples. Use `zero_division` parameter to control this behavior.\n",
      "  _warn_prf(average, modifier, f\"{metric.capitalize()} is\", result.shape[0])\n",
      "/opt/homebrew/Cellar/jupyterlab/4.4.1/libexec/lib/python3.13/site-packages/sklearn/model_selection/_split.py:811: UserWarning: The least populated class in y has only 1 members, which is less than n_splits=6.\n",
      "  warnings.warn(\n",
      "/opt/homebrew/Cellar/jupyterlab/4.4.1/libexec/lib/python3.13/site-packages/sklearn/metrics/_classification.py:1731: UndefinedMetricWarning: Precision is ill-defined and being set to 0.0 in labels with no predicted samples. Use `zero_division` parameter to control this behavior.\n",
      "  _warn_prf(average, modifier, f\"{metric.capitalize()} is\", result.shape[0])\n"
     ]
    },
    {
     "data": {
      "text/html": [
       "<div>\n",
       "<style scoped>\n",
       "    .dataframe tbody tr th:only-of-type {\n",
       "        vertical-align: middle;\n",
       "    }\n",
       "\n",
       "    .dataframe tbody tr th {\n",
       "        vertical-align: top;\n",
       "    }\n",
       "\n",
       "    .dataframe thead th {\n",
       "        text-align: right;\n",
       "    }\n",
       "</style>\n",
       "<table border=\"1\" class=\"dataframe\">\n",
       "  <thead>\n",
       "    <tr style=\"text-align: right;\">\n",
       "      <th></th>\n",
       "      <th>topN</th>\n",
       "      <th>k</th>\n",
       "      <th>acc_mean</th>\n",
       "      <th>prec_mean</th>\n",
       "      <th>rec_mean</th>\n",
       "      <th>f1_mean</th>\n",
       "      <th>acc_std</th>\n",
       "      <th>prec_std</th>\n",
       "      <th>rec_std</th>\n",
       "      <th>f1_std</th>\n",
       "    </tr>\n",
       "  </thead>\n",
       "  <tbody>\n",
       "    <tr>\n",
       "      <th>0</th>\n",
       "      <td>20</td>\n",
       "      <td>3</td>\n",
       "      <td>0.527346</td>\n",
       "      <td>0.340000</td>\n",
       "      <td>0.309376</td>\n",
       "      <td>0.238713</td>\n",
       "      <td>0.004179</td>\n",
       "      <td>0.031499</td>\n",
       "      <td>0.039214</td>\n",
       "      <td>0.025247</td>\n",
       "    </tr>\n",
       "    <tr>\n",
       "      <th>1</th>\n",
       "      <td>20</td>\n",
       "      <td>4</td>\n",
       "      <td>0.527346</td>\n",
       "      <td>0.364278</td>\n",
       "      <td>0.316948</td>\n",
       "      <td>0.245936</td>\n",
       "      <td>0.004656</td>\n",
       "      <td>0.053309</td>\n",
       "      <td>0.035690</td>\n",
       "      <td>0.022534</td>\n",
       "    </tr>\n",
       "    <tr>\n",
       "      <th>2</th>\n",
       "      <td>20</td>\n",
       "      <td>5</td>\n",
       "      <td>0.528778</td>\n",
       "      <td>0.360566</td>\n",
       "      <td>0.320030</td>\n",
       "      <td>0.244281</td>\n",
       "      <td>0.003314</td>\n",
       "      <td>0.055205</td>\n",
       "      <td>0.030247</td>\n",
       "      <td>0.018953</td>\n",
       "    </tr>\n",
       "    <tr>\n",
       "      <th>3</th>\n",
       "      <td>20</td>\n",
       "      <td>6</td>\n",
       "      <td>0.529496</td>\n",
       "      <td>0.373894</td>\n",
       "      <td>0.323891</td>\n",
       "      <td>0.248200</td>\n",
       "      <td>0.006029</td>\n",
       "      <td>0.070892</td>\n",
       "      <td>0.033240</td>\n",
       "      <td>0.026760</td>\n",
       "    </tr>\n",
       "    <tr>\n",
       "      <th>4</th>\n",
       "      <td>40</td>\n",
       "      <td>3</td>\n",
       "      <td>0.523523</td>\n",
       "      <td>0.360165</td>\n",
       "      <td>0.326751</td>\n",
       "      <td>0.285104</td>\n",
       "      <td>0.005261</td>\n",
       "      <td>0.027231</td>\n",
       "      <td>0.039760</td>\n",
       "      <td>0.032837</td>\n",
       "    </tr>\n",
       "    <tr>\n",
       "      <th>5</th>\n",
       "      <td>40</td>\n",
       "      <td>4</td>\n",
       "      <td>0.516596</td>\n",
       "      <td>0.352268</td>\n",
       "      <td>0.331360</td>\n",
       "      <td>0.291800</td>\n",
       "      <td>0.011149</td>\n",
       "      <td>0.038676</td>\n",
       "      <td>0.035230</td>\n",
       "      <td>0.029804</td>\n",
       "    </tr>\n",
       "    <tr>\n",
       "      <th>6</th>\n",
       "      <td>40</td>\n",
       "      <td>5</td>\n",
       "      <td>0.523527</td>\n",
       "      <td>0.388624</td>\n",
       "      <td>0.340254</td>\n",
       "      <td>0.297971</td>\n",
       "      <td>0.009897</td>\n",
       "      <td>0.075091</td>\n",
       "      <td>0.038537</td>\n",
       "      <td>0.031884</td>\n",
       "    </tr>\n",
       "    <tr>\n",
       "      <th>7</th>\n",
       "      <td>40</td>\n",
       "      <td>6</td>\n",
       "      <td>0.524717</td>\n",
       "      <td>0.382796</td>\n",
       "      <td>0.343719</td>\n",
       "      <td>0.301034</td>\n",
       "      <td>0.011427</td>\n",
       "      <td>0.062255</td>\n",
       "      <td>0.038388</td>\n",
       "      <td>0.037344</td>\n",
       "    </tr>\n",
       "    <tr>\n",
       "      <th>8</th>\n",
       "      <td>60</td>\n",
       "      <td>3</td>\n",
       "      <td>0.536421</td>\n",
       "      <td>0.406076</td>\n",
       "      <td>0.368229</td>\n",
       "      <td>0.355289</td>\n",
       "      <td>0.004370</td>\n",
       "      <td>0.048710</td>\n",
       "      <td>0.050895</td>\n",
       "      <td>0.051002</td>\n",
       "    </tr>\n",
       "    <tr>\n",
       "      <th>9</th>\n",
       "      <td>60</td>\n",
       "      <td>4</td>\n",
       "      <td>0.533315</td>\n",
       "      <td>0.415222</td>\n",
       "      <td>0.376639</td>\n",
       "      <td>0.365606</td>\n",
       "      <td>0.009299</td>\n",
       "      <td>0.053335</td>\n",
       "      <td>0.048196</td>\n",
       "      <td>0.049507</td>\n",
       "    </tr>\n",
       "    <tr>\n",
       "      <th>10</th>\n",
       "      <td>60</td>\n",
       "      <td>5</td>\n",
       "      <td>0.538097</td>\n",
       "      <td>0.431050</td>\n",
       "      <td>0.382103</td>\n",
       "      <td>0.367725</td>\n",
       "      <td>0.013440</td>\n",
       "      <td>0.063816</td>\n",
       "      <td>0.045665</td>\n",
       "      <td>0.043946</td>\n",
       "    </tr>\n",
       "    <tr>\n",
       "      <th>11</th>\n",
       "      <td>60</td>\n",
       "      <td>6</td>\n",
       "      <td>0.536183</td>\n",
       "      <td>0.421989</td>\n",
       "      <td>0.382632</td>\n",
       "      <td>0.366921</td>\n",
       "      <td>0.007532</td>\n",
       "      <td>0.049876</td>\n",
       "      <td>0.041035</td>\n",
       "      <td>0.044025</td>\n",
       "    </tr>\n",
       "    <tr>\n",
       "      <th>12</th>\n",
       "      <td>80</td>\n",
       "      <td>3</td>\n",
       "      <td>0.542390</td>\n",
       "      <td>0.422377</td>\n",
       "      <td>0.389434</td>\n",
       "      <td>0.386076</td>\n",
       "      <td>0.010021</td>\n",
       "      <td>0.047148</td>\n",
       "      <td>0.050621</td>\n",
       "      <td>0.050674</td>\n",
       "    </tr>\n",
       "    <tr>\n",
       "      <th>13</th>\n",
       "      <td>80</td>\n",
       "      <td>4</td>\n",
       "      <td>0.544062</td>\n",
       "      <td>0.440795</td>\n",
       "      <td>0.404836</td>\n",
       "      <td>0.405053</td>\n",
       "      <td>0.008777</td>\n",
       "      <td>0.055803</td>\n",
       "      <td>0.049957</td>\n",
       "      <td>0.051641</td>\n",
       "    </tr>\n",
       "    <tr>\n",
       "      <th>14</th>\n",
       "      <td>80</td>\n",
       "      <td>5</td>\n",
       "      <td>0.546458</td>\n",
       "      <td>0.449502</td>\n",
       "      <td>0.406809</td>\n",
       "      <td>0.403914</td>\n",
       "      <td>0.012960</td>\n",
       "      <td>0.059753</td>\n",
       "      <td>0.048429</td>\n",
       "      <td>0.048434</td>\n",
       "    </tr>\n",
       "    <tr>\n",
       "      <th>15</th>\n",
       "      <td>80</td>\n",
       "      <td>6</td>\n",
       "      <td>0.539287</td>\n",
       "      <td>0.436971</td>\n",
       "      <td>0.404116</td>\n",
       "      <td>0.399929</td>\n",
       "      <td>0.007490</td>\n",
       "      <td>0.047570</td>\n",
       "      <td>0.040023</td>\n",
       "      <td>0.042463</td>\n",
       "    </tr>\n",
       "    <tr>\n",
       "      <th>16</th>\n",
       "      <td>100</td>\n",
       "      <td>3</td>\n",
       "      <td>0.547884</td>\n",
       "      <td>0.431246</td>\n",
       "      <td>0.401667</td>\n",
       "      <td>0.400661</td>\n",
       "      <td>0.006476</td>\n",
       "      <td>0.052783</td>\n",
       "      <td>0.055283</td>\n",
       "      <td>0.054814</td>\n",
       "    </tr>\n",
       "    <tr>\n",
       "      <th>17</th>\n",
       "      <td>100</td>\n",
       "      <td>4</td>\n",
       "      <td>0.545496</td>\n",
       "      <td>0.443254</td>\n",
       "      <td>0.412739</td>\n",
       "      <td>0.414251</td>\n",
       "      <td>0.007798</td>\n",
       "      <td>0.057882</td>\n",
       "      <td>0.053981</td>\n",
       "      <td>0.055100</td>\n",
       "    </tr>\n",
       "    <tr>\n",
       "      <th>18</th>\n",
       "      <td>100</td>\n",
       "      <td>5</td>\n",
       "      <td>0.550036</td>\n",
       "      <td>0.455921</td>\n",
       "      <td>0.419609</td>\n",
       "      <td>0.419933</td>\n",
       "      <td>0.008356</td>\n",
       "      <td>0.052570</td>\n",
       "      <td>0.045813</td>\n",
       "      <td>0.045975</td>\n",
       "    </tr>\n",
       "    <tr>\n",
       "      <th>19</th>\n",
       "      <td>100</td>\n",
       "      <td>6</td>\n",
       "      <td>0.545735</td>\n",
       "      <td>0.449664</td>\n",
       "      <td>0.419630</td>\n",
       "      <td>0.418592</td>\n",
       "      <td>0.008808</td>\n",
       "      <td>0.048734</td>\n",
       "      <td>0.041450</td>\n",
       "      <td>0.043781</td>\n",
       "    </tr>\n",
       "    <tr>\n",
       "      <th>20</th>\n",
       "      <td>120</td>\n",
       "      <td>3</td>\n",
       "      <td>0.543108</td>\n",
       "      <td>0.427559</td>\n",
       "      <td>0.403845</td>\n",
       "      <td>0.403695</td>\n",
       "      <td>0.009670</td>\n",
       "      <td>0.062178</td>\n",
       "      <td>0.062320</td>\n",
       "      <td>0.062585</td>\n",
       "    </tr>\n",
       "    <tr>\n",
       "      <th>21</th>\n",
       "      <td>120</td>\n",
       "      <td>4</td>\n",
       "      <td>0.545021</td>\n",
       "      <td>0.444516</td>\n",
       "      <td>0.418456</td>\n",
       "      <td>0.421274</td>\n",
       "      <td>0.007547</td>\n",
       "      <td>0.058060</td>\n",
       "      <td>0.055247</td>\n",
       "      <td>0.055992</td>\n",
       "    </tr>\n",
       "    <tr>\n",
       "      <th>22</th>\n",
       "      <td>120</td>\n",
       "      <td>5</td>\n",
       "      <td>0.549082</td>\n",
       "      <td>0.453947</td>\n",
       "      <td>0.423172</td>\n",
       "      <td>0.424110</td>\n",
       "      <td>0.003666</td>\n",
       "      <td>0.047010</td>\n",
       "      <td>0.043157</td>\n",
       "      <td>0.042977</td>\n",
       "    </tr>\n",
       "    <tr>\n",
       "      <th>23</th>\n",
       "      <td>120</td>\n",
       "      <td>6</td>\n",
       "      <td>0.545738</td>\n",
       "      <td>0.450717</td>\n",
       "      <td>0.425202</td>\n",
       "      <td>0.425579</td>\n",
       "      <td>0.006452</td>\n",
       "      <td>0.045242</td>\n",
       "      <td>0.041472</td>\n",
       "      <td>0.043934</td>\n",
       "    </tr>\n",
       "  </tbody>\n",
       "</table>\n",
       "</div>"
      ],
      "text/plain": [
       "    topN  k  acc_mean  prec_mean  rec_mean   f1_mean   acc_std  prec_std  \\\n",
       "0     20  3  0.527346   0.340000  0.309376  0.238713  0.004179  0.031499   \n",
       "1     20  4  0.527346   0.364278  0.316948  0.245936  0.004656  0.053309   \n",
       "2     20  5  0.528778   0.360566  0.320030  0.244281  0.003314  0.055205   \n",
       "3     20  6  0.529496   0.373894  0.323891  0.248200  0.006029  0.070892   \n",
       "4     40  3  0.523523   0.360165  0.326751  0.285104  0.005261  0.027231   \n",
       "5     40  4  0.516596   0.352268  0.331360  0.291800  0.011149  0.038676   \n",
       "6     40  5  0.523527   0.388624  0.340254  0.297971  0.009897  0.075091   \n",
       "7     40  6  0.524717   0.382796  0.343719  0.301034  0.011427  0.062255   \n",
       "8     60  3  0.536421   0.406076  0.368229  0.355289  0.004370  0.048710   \n",
       "9     60  4  0.533315   0.415222  0.376639  0.365606  0.009299  0.053335   \n",
       "10    60  5  0.538097   0.431050  0.382103  0.367725  0.013440  0.063816   \n",
       "11    60  6  0.536183   0.421989  0.382632  0.366921  0.007532  0.049876   \n",
       "12    80  3  0.542390   0.422377  0.389434  0.386076  0.010021  0.047148   \n",
       "13    80  4  0.544062   0.440795  0.404836  0.405053  0.008777  0.055803   \n",
       "14    80  5  0.546458   0.449502  0.406809  0.403914  0.012960  0.059753   \n",
       "15    80  6  0.539287   0.436971  0.404116  0.399929  0.007490  0.047570   \n",
       "16   100  3  0.547884   0.431246  0.401667  0.400661  0.006476  0.052783   \n",
       "17   100  4  0.545496   0.443254  0.412739  0.414251  0.007798  0.057882   \n",
       "18   100  5  0.550036   0.455921  0.419609  0.419933  0.008356  0.052570   \n",
       "19   100  6  0.545735   0.449664  0.419630  0.418592  0.008808  0.048734   \n",
       "20   120  3  0.543108   0.427559  0.403845  0.403695  0.009670  0.062178   \n",
       "21   120  4  0.545021   0.444516  0.418456  0.421274  0.007547  0.058060   \n",
       "22   120  5  0.549082   0.453947  0.423172  0.424110  0.003666  0.047010   \n",
       "23   120  6  0.545738   0.450717  0.425202  0.425579  0.006452  0.045242   \n",
       "\n",
       "     rec_std    f1_std  \n",
       "0   0.039214  0.025247  \n",
       "1   0.035690  0.022534  \n",
       "2   0.030247  0.018953  \n",
       "3   0.033240  0.026760  \n",
       "4   0.039760  0.032837  \n",
       "5   0.035230  0.029804  \n",
       "6   0.038537  0.031884  \n",
       "7   0.038388  0.037344  \n",
       "8   0.050895  0.051002  \n",
       "9   0.048196  0.049507  \n",
       "10  0.045665  0.043946  \n",
       "11  0.041035  0.044025  \n",
       "12  0.050621  0.050674  \n",
       "13  0.049957  0.051641  \n",
       "14  0.048429  0.048434  \n",
       "15  0.040023  0.042463  \n",
       "16  0.055283  0.054814  \n",
       "17  0.053981  0.055100  \n",
       "18  0.045813  0.045975  \n",
       "19  0.041450  0.043781  \n",
       "20  0.062320  0.062585  \n",
       "21  0.055247  0.055992  \n",
       "22  0.043157  0.042977  \n",
       "23  0.041472  0.043934  "
      ]
     },
     "execution_count": 16,
     "metadata": {},
     "output_type": "execute_result"
    }
   ],
   "source": [
    "\n",
    "from sklearn.naive_bayes import MultinomialNB\n",
    "from sklearn.model_selection import cross_validate\n",
    "import numpy as np\n",
    "import pandas as pd\n",
    "\n",
    "def sklearn_cv_for_grid(feature_grid=(20,40,60,80,100,120), k_grid=(3,4,5,6), alpha=1.0):\n",
    "    rows = []\n",
    "    for topN in feature_grid:\n",
    "        features, X_train, y_train, _, _ = make_vectors(topN)\n",
    "        X_train = np.array(X_train)\n",
    "        y_train = np.array(y_train)\n",
    "        for k in k_grid:\n",
    "            model = MultinomialNB(alpha=alpha)\n",
    "            scoring = ['accuracy', 'precision_macro', 'recall_macro', 'f1_macro']\n",
    "            cvres = cross_validate(model, X_train, y_train, cv=k, scoring=scoring, return_train_score=False)\n",
    "            rows.append({\n",
    "                \"topN\": topN,\n",
    "                \"k\": k,\n",
    "                \"acc_mean\": float(cvres['test_accuracy'].mean()),\n",
    "                \"prec_mean\": float(cvres['test_precision_macro'].mean()),\n",
    "                \"rec_mean\": float(cvres['test_recall_macro'].mean()),\n",
    "                \"f1_mean\": float(cvres['test_f1_macro'].mean()),\n",
    "                \"acc_std\": float(cvres['test_accuracy'].std()),\n",
    "                \"prec_std\": float(cvres['test_precision_macro'].std()),\n",
    "                \"rec_std\": float(cvres['test_recall_macro'].std()),\n",
    "                \"f1_std\": float(cvres['test_f1_macro'].std()),\n",
    "            })\n",
    "    return pd.DataFrame(rows).sort_values([\"topN\",\"k\"]).reset_index(drop=True)\n",
    "\n",
    "df_skl = sklearn_cv_for_grid()\n",
    "df_skl\n"
   ]
  },
  {
   "cell_type": "markdown",
   "id": "28c7e40c",
   "metadata": {},
   "source": [
    "# Results Comparison — Manual vs Scikit‑learn"
   ]
  },
  {
   "cell_type": "code",
   "execution_count": 17,
   "id": "44599c56",
   "metadata": {},
   "outputs": [
    {
     "data": {
      "text/html": [
       "<div>\n",
       "<style scoped>\n",
       "    .dataframe tbody tr th:only-of-type {\n",
       "        vertical-align: middle;\n",
       "    }\n",
       "\n",
       "    .dataframe tbody tr th {\n",
       "        vertical-align: top;\n",
       "    }\n",
       "\n",
       "    .dataframe thead th {\n",
       "        text-align: right;\n",
       "    }\n",
       "</style>\n",
       "<table border=\"1\" class=\"dataframe\">\n",
       "  <thead>\n",
       "    <tr style=\"text-align: right;\">\n",
       "      <th></th>\n",
       "      <th>topN</th>\n",
       "      <th>k</th>\n",
       "      <th>acc_mean_manual</th>\n",
       "      <th>prec_mean_manual</th>\n",
       "      <th>rec_mean_manual</th>\n",
       "      <th>f1_mean_manual</th>\n",
       "      <th>acc_std_manual</th>\n",
       "      <th>prec_std_manual</th>\n",
       "      <th>rec_std_manual</th>\n",
       "      <th>f1_std_manual</th>\n",
       "      <th>acc_mean_skl</th>\n",
       "      <th>prec_mean_skl</th>\n",
       "      <th>rec_mean_skl</th>\n",
       "      <th>f1_mean_skl</th>\n",
       "      <th>acc_std_skl</th>\n",
       "      <th>prec_std_skl</th>\n",
       "      <th>rec_std_skl</th>\n",
       "      <th>f1_std_skl</th>\n",
       "    </tr>\n",
       "  </thead>\n",
       "  <tbody>\n",
       "    <tr>\n",
       "      <th>0</th>\n",
       "      <td>20</td>\n",
       "      <td>3</td>\n",
       "      <td>0.529735</td>\n",
       "      <td>0.369391</td>\n",
       "      <td>0.309403</td>\n",
       "      <td>0.235185</td>\n",
       "      <td>0.001926</td>\n",
       "      <td>0.083361</td>\n",
       "      <td>0.041257</td>\n",
       "      <td>0.028705</td>\n",
       "      <td>0.527346</td>\n",
       "      <td>0.340000</td>\n",
       "      <td>0.309376</td>\n",
       "      <td>0.238713</td>\n",
       "      <td>0.004179</td>\n",
       "      <td>0.031499</td>\n",
       "      <td>0.039214</td>\n",
       "      <td>0.025247</td>\n",
       "    </tr>\n",
       "    <tr>\n",
       "      <th>1</th>\n",
       "      <td>20</td>\n",
       "      <td>4</td>\n",
       "      <td>0.528780</td>\n",
       "      <td>0.355678</td>\n",
       "      <td>0.315614</td>\n",
       "      <td>0.239758</td>\n",
       "      <td>0.004984</td>\n",
       "      <td>0.068917</td>\n",
       "      <td>0.038178</td>\n",
       "      <td>0.024958</td>\n",
       "      <td>0.527346</td>\n",
       "      <td>0.364278</td>\n",
       "      <td>0.316948</td>\n",
       "      <td>0.245936</td>\n",
       "      <td>0.004656</td>\n",
       "      <td>0.053309</td>\n",
       "      <td>0.035690</td>\n",
       "      <td>0.022534</td>\n",
       "    </tr>\n",
       "    <tr>\n",
       "      <th>2</th>\n",
       "      <td>20</td>\n",
       "      <td>5</td>\n",
       "      <td>0.527822</td>\n",
       "      <td>0.356579</td>\n",
       "      <td>0.320054</td>\n",
       "      <td>0.245051</td>\n",
       "      <td>0.010707</td>\n",
       "      <td>0.049813</td>\n",
       "      <td>0.035384</td>\n",
       "      <td>0.025240</td>\n",
       "      <td>0.528778</td>\n",
       "      <td>0.360566</td>\n",
       "      <td>0.320030</td>\n",
       "      <td>0.244281</td>\n",
       "      <td>0.003314</td>\n",
       "      <td>0.055205</td>\n",
       "      <td>0.030247</td>\n",
       "      <td>0.018953</td>\n",
       "    </tr>\n",
       "    <tr>\n",
       "      <th>3</th>\n",
       "      <td>20</td>\n",
       "      <td>6</td>\n",
       "      <td>0.526632</td>\n",
       "      <td>0.329599</td>\n",
       "      <td>0.320809</td>\n",
       "      <td>0.242675</td>\n",
       "      <td>0.009729</td>\n",
       "      <td>0.071195</td>\n",
       "      <td>0.034624</td>\n",
       "      <td>0.027635</td>\n",
       "      <td>0.529496</td>\n",
       "      <td>0.373894</td>\n",
       "      <td>0.323891</td>\n",
       "      <td>0.248200</td>\n",
       "      <td>0.006029</td>\n",
       "      <td>0.070892</td>\n",
       "      <td>0.033240</td>\n",
       "      <td>0.026760</td>\n",
       "    </tr>\n",
       "    <tr>\n",
       "      <th>4</th>\n",
       "      <td>40</td>\n",
       "      <td>3</td>\n",
       "      <td>0.529497</td>\n",
       "      <td>0.379736</td>\n",
       "      <td>0.333727</td>\n",
       "      <td>0.293638</td>\n",
       "      <td>0.002660</td>\n",
       "      <td>0.065470</td>\n",
       "      <td>0.046405</td>\n",
       "      <td>0.043801</td>\n",
       "      <td>0.523523</td>\n",
       "      <td>0.360165</td>\n",
       "      <td>0.326751</td>\n",
       "      <td>0.285104</td>\n",
       "      <td>0.005261</td>\n",
       "      <td>0.027231</td>\n",
       "      <td>0.039760</td>\n",
       "      <td>0.032837</td>\n",
       "    </tr>\n",
       "    <tr>\n",
       "      <th>5</th>\n",
       "      <td>40</td>\n",
       "      <td>4</td>\n",
       "      <td>0.529496</td>\n",
       "      <td>0.392907</td>\n",
       "      <td>0.338982</td>\n",
       "      <td>0.296533</td>\n",
       "      <td>0.006146</td>\n",
       "      <td>0.070607</td>\n",
       "      <td>0.043390</td>\n",
       "      <td>0.036839</td>\n",
       "      <td>0.516596</td>\n",
       "      <td>0.352268</td>\n",
       "      <td>0.331360</td>\n",
       "      <td>0.291800</td>\n",
       "      <td>0.011149</td>\n",
       "      <td>0.038676</td>\n",
       "      <td>0.035230</td>\n",
       "      <td>0.029804</td>\n",
       "    </tr>\n",
       "    <tr>\n",
       "      <th>6</th>\n",
       "      <td>40</td>\n",
       "      <td>5</td>\n",
       "      <td>0.526388</td>\n",
       "      <td>0.389812</td>\n",
       "      <td>0.341503</td>\n",
       "      <td>0.298981</td>\n",
       "      <td>0.013026</td>\n",
       "      <td>0.060110</td>\n",
       "      <td>0.039075</td>\n",
       "      <td>0.032588</td>\n",
       "      <td>0.523527</td>\n",
       "      <td>0.388624</td>\n",
       "      <td>0.340254</td>\n",
       "      <td>0.297971</td>\n",
       "      <td>0.009897</td>\n",
       "      <td>0.075091</td>\n",
       "      <td>0.038537</td>\n",
       "      <td>0.031884</td>\n",
       "    </tr>\n",
       "    <tr>\n",
       "      <th>7</th>\n",
       "      <td>40</td>\n",
       "      <td>6</td>\n",
       "      <td>0.527110</td>\n",
       "      <td>0.396779</td>\n",
       "      <td>0.345789</td>\n",
       "      <td>0.302884</td>\n",
       "      <td>0.007504</td>\n",
       "      <td>0.052688</td>\n",
       "      <td>0.035245</td>\n",
       "      <td>0.028796</td>\n",
       "      <td>0.524717</td>\n",
       "      <td>0.382796</td>\n",
       "      <td>0.343719</td>\n",
       "      <td>0.301034</td>\n",
       "      <td>0.011427</td>\n",
       "      <td>0.062255</td>\n",
       "      <td>0.038388</td>\n",
       "      <td>0.037344</td>\n",
       "    </tr>\n",
       "    <tr>\n",
       "      <th>8</th>\n",
       "      <td>60</td>\n",
       "      <td>3</td>\n",
       "      <td>0.539290</td>\n",
       "      <td>0.413797</td>\n",
       "      <td>0.369232</td>\n",
       "      <td>0.354981</td>\n",
       "      <td>0.006439</td>\n",
       "      <td>0.058926</td>\n",
       "      <td>0.044195</td>\n",
       "      <td>0.042839</td>\n",
       "      <td>0.536421</td>\n",
       "      <td>0.406076</td>\n",
       "      <td>0.368229</td>\n",
       "      <td>0.355289</td>\n",
       "      <td>0.004370</td>\n",
       "      <td>0.048710</td>\n",
       "      <td>0.050895</td>\n",
       "      <td>0.051002</td>\n",
       "    </tr>\n",
       "    <tr>\n",
       "      <th>9</th>\n",
       "      <td>60</td>\n",
       "      <td>4</td>\n",
       "      <td>0.537859</td>\n",
       "      <td>0.417453</td>\n",
       "      <td>0.375282</td>\n",
       "      <td>0.359463</td>\n",
       "      <td>0.009221</td>\n",
       "      <td>0.047388</td>\n",
       "      <td>0.036100</td>\n",
       "      <td>0.031311</td>\n",
       "      <td>0.533315</td>\n",
       "      <td>0.415222</td>\n",
       "      <td>0.376639</td>\n",
       "      <td>0.365606</td>\n",
       "      <td>0.009299</td>\n",
       "      <td>0.053335</td>\n",
       "      <td>0.048196</td>\n",
       "      <td>0.049507</td>\n",
       "    </tr>\n",
       "    <tr>\n",
       "      <th>10</th>\n",
       "      <td>60</td>\n",
       "      <td>5</td>\n",
       "      <td>0.535944</td>\n",
       "      <td>0.425722</td>\n",
       "      <td>0.380013</td>\n",
       "      <td>0.364393</td>\n",
       "      <td>0.013293</td>\n",
       "      <td>0.053951</td>\n",
       "      <td>0.040384</td>\n",
       "      <td>0.037268</td>\n",
       "      <td>0.538097</td>\n",
       "      <td>0.431050</td>\n",
       "      <td>0.382103</td>\n",
       "      <td>0.367725</td>\n",
       "      <td>0.013440</td>\n",
       "      <td>0.063816</td>\n",
       "      <td>0.045665</td>\n",
       "      <td>0.043946</td>\n",
       "    </tr>\n",
       "    <tr>\n",
       "      <th>11</th>\n",
       "      <td>60</td>\n",
       "      <td>6</td>\n",
       "      <td>0.535229</td>\n",
       "      <td>0.425653</td>\n",
       "      <td>0.381374</td>\n",
       "      <td>0.364005</td>\n",
       "      <td>0.011688</td>\n",
       "      <td>0.058736</td>\n",
       "      <td>0.041697</td>\n",
       "      <td>0.039397</td>\n",
       "      <td>0.536183</td>\n",
       "      <td>0.421989</td>\n",
       "      <td>0.382632</td>\n",
       "      <td>0.366921</td>\n",
       "      <td>0.007532</td>\n",
       "      <td>0.049876</td>\n",
       "      <td>0.041035</td>\n",
       "      <td>0.044025</td>\n",
       "    </tr>\n",
       "    <tr>\n",
       "      <th>12</th>\n",
       "      <td>80</td>\n",
       "      <td>3</td>\n",
       "      <td>0.545261</td>\n",
       "      <td>0.431353</td>\n",
       "      <td>0.392071</td>\n",
       "      <td>0.389025</td>\n",
       "      <td>0.009545</td>\n",
       "      <td>0.057066</td>\n",
       "      <td>0.049098</td>\n",
       "      <td>0.049539</td>\n",
       "      <td>0.542390</td>\n",
       "      <td>0.422377</td>\n",
       "      <td>0.389434</td>\n",
       "      <td>0.386076</td>\n",
       "      <td>0.010021</td>\n",
       "      <td>0.047148</td>\n",
       "      <td>0.050621</td>\n",
       "      <td>0.050674</td>\n",
       "    </tr>\n",
       "    <tr>\n",
       "      <th>13</th>\n",
       "      <td>80</td>\n",
       "      <td>4</td>\n",
       "      <td>0.547409</td>\n",
       "      <td>0.444011</td>\n",
       "      <td>0.403051</td>\n",
       "      <td>0.400168</td>\n",
       "      <td>0.004541</td>\n",
       "      <td>0.059957</td>\n",
       "      <td>0.047529</td>\n",
       "      <td>0.047328</td>\n",
       "      <td>0.544062</td>\n",
       "      <td>0.440795</td>\n",
       "      <td>0.404836</td>\n",
       "      <td>0.405053</td>\n",
       "      <td>0.008777</td>\n",
       "      <td>0.055803</td>\n",
       "      <td>0.049957</td>\n",
       "      <td>0.051641</td>\n",
       "    </tr>\n",
       "    <tr>\n",
       "      <th>14</th>\n",
       "      <td>80</td>\n",
       "      <td>5</td>\n",
       "      <td>0.543826</td>\n",
       "      <td>0.444399</td>\n",
       "      <td>0.405080</td>\n",
       "      <td>0.401202</td>\n",
       "      <td>0.011647</td>\n",
       "      <td>0.052587</td>\n",
       "      <td>0.042315</td>\n",
       "      <td>0.040629</td>\n",
       "      <td>0.546458</td>\n",
       "      <td>0.449502</td>\n",
       "      <td>0.406809</td>\n",
       "      <td>0.403914</td>\n",
       "      <td>0.012960</td>\n",
       "      <td>0.059753</td>\n",
       "      <td>0.048429</td>\n",
       "      <td>0.048434</td>\n",
       "    </tr>\n",
       "    <tr>\n",
       "      <th>15</th>\n",
       "      <td>80</td>\n",
       "      <td>6</td>\n",
       "      <td>0.544778</td>\n",
       "      <td>0.451967</td>\n",
       "      <td>0.410038</td>\n",
       "      <td>0.406096</td>\n",
       "      <td>0.010597</td>\n",
       "      <td>0.060548</td>\n",
       "      <td>0.047249</td>\n",
       "      <td>0.046681</td>\n",
       "      <td>0.539287</td>\n",
       "      <td>0.436971</td>\n",
       "      <td>0.404116</td>\n",
       "      <td>0.399929</td>\n",
       "      <td>0.007490</td>\n",
       "      <td>0.047570</td>\n",
       "      <td>0.040023</td>\n",
       "      <td>0.042463</td>\n",
       "    </tr>\n",
       "    <tr>\n",
       "      <th>16</th>\n",
       "      <td>100</td>\n",
       "      <td>3</td>\n",
       "      <td>0.545742</td>\n",
       "      <td>0.429509</td>\n",
       "      <td>0.399312</td>\n",
       "      <td>0.398516</td>\n",
       "      <td>0.016023</td>\n",
       "      <td>0.050795</td>\n",
       "      <td>0.043728</td>\n",
       "      <td>0.044653</td>\n",
       "      <td>0.547884</td>\n",
       "      <td>0.431246</td>\n",
       "      <td>0.401667</td>\n",
       "      <td>0.400661</td>\n",
       "      <td>0.006476</td>\n",
       "      <td>0.052783</td>\n",
       "      <td>0.055283</td>\n",
       "      <td>0.054814</td>\n",
       "    </tr>\n",
       "    <tr>\n",
       "      <th>17</th>\n",
       "      <td>100</td>\n",
       "      <td>4</td>\n",
       "      <td>0.551948</td>\n",
       "      <td>0.449583</td>\n",
       "      <td>0.415430</td>\n",
       "      <td>0.415675</td>\n",
       "      <td>0.006647</td>\n",
       "      <td>0.059252</td>\n",
       "      <td>0.048231</td>\n",
       "      <td>0.048693</td>\n",
       "      <td>0.545496</td>\n",
       "      <td>0.443254</td>\n",
       "      <td>0.412739</td>\n",
       "      <td>0.414251</td>\n",
       "      <td>0.007798</td>\n",
       "      <td>0.057882</td>\n",
       "      <td>0.053981</td>\n",
       "      <td>0.055100</td>\n",
       "    </tr>\n",
       "    <tr>\n",
       "      <th>18</th>\n",
       "      <td>100</td>\n",
       "      <td>5</td>\n",
       "      <td>0.550516</td>\n",
       "      <td>0.451943</td>\n",
       "      <td>0.417325</td>\n",
       "      <td>0.416293</td>\n",
       "      <td>0.013132</td>\n",
       "      <td>0.051808</td>\n",
       "      <td>0.041468</td>\n",
       "      <td>0.040604</td>\n",
       "      <td>0.550036</td>\n",
       "      <td>0.455921</td>\n",
       "      <td>0.419609</td>\n",
       "      <td>0.419933</td>\n",
       "      <td>0.008356</td>\n",
       "      <td>0.052570</td>\n",
       "      <td>0.045813</td>\n",
       "      <td>0.045975</td>\n",
       "    </tr>\n",
       "    <tr>\n",
       "      <th>19</th>\n",
       "      <td>100</td>\n",
       "      <td>6</td>\n",
       "      <td>0.545497</td>\n",
       "      <td>0.450501</td>\n",
       "      <td>0.418036</td>\n",
       "      <td>0.416526</td>\n",
       "      <td>0.014872</td>\n",
       "      <td>0.058780</td>\n",
       "      <td>0.047129</td>\n",
       "      <td>0.047151</td>\n",
       "      <td>0.545735</td>\n",
       "      <td>0.449664</td>\n",
       "      <td>0.419630</td>\n",
       "      <td>0.418592</td>\n",
       "      <td>0.008808</td>\n",
       "      <td>0.048734</td>\n",
       "      <td>0.041450</td>\n",
       "      <td>0.043781</td>\n",
       "    </tr>\n",
       "    <tr>\n",
       "      <th>20</th>\n",
       "      <td>120</td>\n",
       "      <td>3</td>\n",
       "      <td>0.548127</td>\n",
       "      <td>0.434904</td>\n",
       "      <td>0.407806</td>\n",
       "      <td>0.408993</td>\n",
       "      <td>0.010854</td>\n",
       "      <td>0.058463</td>\n",
       "      <td>0.051283</td>\n",
       "      <td>0.052874</td>\n",
       "      <td>0.543108</td>\n",
       "      <td>0.427559</td>\n",
       "      <td>0.403845</td>\n",
       "      <td>0.403695</td>\n",
       "      <td>0.009670</td>\n",
       "      <td>0.062178</td>\n",
       "      <td>0.062320</td>\n",
       "      <td>0.062585</td>\n",
       "    </tr>\n",
       "    <tr>\n",
       "      <th>21</th>\n",
       "      <td>120</td>\n",
       "      <td>4</td>\n",
       "      <td>0.551946</td>\n",
       "      <td>0.449954</td>\n",
       "      <td>0.421069</td>\n",
       "      <td>0.422731</td>\n",
       "      <td>0.013318</td>\n",
       "      <td>0.064271</td>\n",
       "      <td>0.053760</td>\n",
       "      <td>0.055260</td>\n",
       "      <td>0.545021</td>\n",
       "      <td>0.444516</td>\n",
       "      <td>0.418456</td>\n",
       "      <td>0.421274</td>\n",
       "      <td>0.007547</td>\n",
       "      <td>0.058060</td>\n",
       "      <td>0.055247</td>\n",
       "      <td>0.055992</td>\n",
       "    </tr>\n",
       "    <tr>\n",
       "      <th>22</th>\n",
       "      <td>120</td>\n",
       "      <td>5</td>\n",
       "      <td>0.551469</td>\n",
       "      <td>0.456761</td>\n",
       "      <td>0.425632</td>\n",
       "      <td>0.426795</td>\n",
       "      <td>0.011378</td>\n",
       "      <td>0.057315</td>\n",
       "      <td>0.047270</td>\n",
       "      <td>0.047499</td>\n",
       "      <td>0.549082</td>\n",
       "      <td>0.453947</td>\n",
       "      <td>0.423172</td>\n",
       "      <td>0.424110</td>\n",
       "      <td>0.003666</td>\n",
       "      <td>0.047010</td>\n",
       "      <td>0.043157</td>\n",
       "      <td>0.042977</td>\n",
       "    </tr>\n",
       "    <tr>\n",
       "      <th>23</th>\n",
       "      <td>120</td>\n",
       "      <td>6</td>\n",
       "      <td>0.546213</td>\n",
       "      <td>0.452649</td>\n",
       "      <td>0.423450</td>\n",
       "      <td>0.423710</td>\n",
       "      <td>0.010207</td>\n",
       "      <td>0.054124</td>\n",
       "      <td>0.044155</td>\n",
       "      <td>0.044415</td>\n",
       "      <td>0.545738</td>\n",
       "      <td>0.450717</td>\n",
       "      <td>0.425202</td>\n",
       "      <td>0.425579</td>\n",
       "      <td>0.006452</td>\n",
       "      <td>0.045242</td>\n",
       "      <td>0.041472</td>\n",
       "      <td>0.043934</td>\n",
       "    </tr>\n",
       "  </tbody>\n",
       "</table>\n",
       "</div>"
      ],
      "text/plain": [
       "    topN  k  acc_mean_manual  prec_mean_manual  rec_mean_manual  \\\n",
       "0     20  3         0.529735          0.369391         0.309403   \n",
       "1     20  4         0.528780          0.355678         0.315614   \n",
       "2     20  5         0.527822          0.356579         0.320054   \n",
       "3     20  6         0.526632          0.329599         0.320809   \n",
       "4     40  3         0.529497          0.379736         0.333727   \n",
       "5     40  4         0.529496          0.392907         0.338982   \n",
       "6     40  5         0.526388          0.389812         0.341503   \n",
       "7     40  6         0.527110          0.396779         0.345789   \n",
       "8     60  3         0.539290          0.413797         0.369232   \n",
       "9     60  4         0.537859          0.417453         0.375282   \n",
       "10    60  5         0.535944          0.425722         0.380013   \n",
       "11    60  6         0.535229          0.425653         0.381374   \n",
       "12    80  3         0.545261          0.431353         0.392071   \n",
       "13    80  4         0.547409          0.444011         0.403051   \n",
       "14    80  5         0.543826          0.444399         0.405080   \n",
       "15    80  6         0.544778          0.451967         0.410038   \n",
       "16   100  3         0.545742          0.429509         0.399312   \n",
       "17   100  4         0.551948          0.449583         0.415430   \n",
       "18   100  5         0.550516          0.451943         0.417325   \n",
       "19   100  6         0.545497          0.450501         0.418036   \n",
       "20   120  3         0.548127          0.434904         0.407806   \n",
       "21   120  4         0.551946          0.449954         0.421069   \n",
       "22   120  5         0.551469          0.456761         0.425632   \n",
       "23   120  6         0.546213          0.452649         0.423450   \n",
       "\n",
       "    f1_mean_manual  acc_std_manual  prec_std_manual  rec_std_manual  \\\n",
       "0         0.235185        0.001926         0.083361        0.041257   \n",
       "1         0.239758        0.004984         0.068917        0.038178   \n",
       "2         0.245051        0.010707         0.049813        0.035384   \n",
       "3         0.242675        0.009729         0.071195        0.034624   \n",
       "4         0.293638        0.002660         0.065470        0.046405   \n",
       "5         0.296533        0.006146         0.070607        0.043390   \n",
       "6         0.298981        0.013026         0.060110        0.039075   \n",
       "7         0.302884        0.007504         0.052688        0.035245   \n",
       "8         0.354981        0.006439         0.058926        0.044195   \n",
       "9         0.359463        0.009221         0.047388        0.036100   \n",
       "10        0.364393        0.013293         0.053951        0.040384   \n",
       "11        0.364005        0.011688         0.058736        0.041697   \n",
       "12        0.389025        0.009545         0.057066        0.049098   \n",
       "13        0.400168        0.004541         0.059957        0.047529   \n",
       "14        0.401202        0.011647         0.052587        0.042315   \n",
       "15        0.406096        0.010597         0.060548        0.047249   \n",
       "16        0.398516        0.016023         0.050795        0.043728   \n",
       "17        0.415675        0.006647         0.059252        0.048231   \n",
       "18        0.416293        0.013132         0.051808        0.041468   \n",
       "19        0.416526        0.014872         0.058780        0.047129   \n",
       "20        0.408993        0.010854         0.058463        0.051283   \n",
       "21        0.422731        0.013318         0.064271        0.053760   \n",
       "22        0.426795        0.011378         0.057315        0.047270   \n",
       "23        0.423710        0.010207         0.054124        0.044155   \n",
       "\n",
       "    f1_std_manual  acc_mean_skl  prec_mean_skl  rec_mean_skl  f1_mean_skl  \\\n",
       "0        0.028705      0.527346       0.340000      0.309376     0.238713   \n",
       "1        0.024958      0.527346       0.364278      0.316948     0.245936   \n",
       "2        0.025240      0.528778       0.360566      0.320030     0.244281   \n",
       "3        0.027635      0.529496       0.373894      0.323891     0.248200   \n",
       "4        0.043801      0.523523       0.360165      0.326751     0.285104   \n",
       "5        0.036839      0.516596       0.352268      0.331360     0.291800   \n",
       "6        0.032588      0.523527       0.388624      0.340254     0.297971   \n",
       "7        0.028796      0.524717       0.382796      0.343719     0.301034   \n",
       "8        0.042839      0.536421       0.406076      0.368229     0.355289   \n",
       "9        0.031311      0.533315       0.415222      0.376639     0.365606   \n",
       "10       0.037268      0.538097       0.431050      0.382103     0.367725   \n",
       "11       0.039397      0.536183       0.421989      0.382632     0.366921   \n",
       "12       0.049539      0.542390       0.422377      0.389434     0.386076   \n",
       "13       0.047328      0.544062       0.440795      0.404836     0.405053   \n",
       "14       0.040629      0.546458       0.449502      0.406809     0.403914   \n",
       "15       0.046681      0.539287       0.436971      0.404116     0.399929   \n",
       "16       0.044653      0.547884       0.431246      0.401667     0.400661   \n",
       "17       0.048693      0.545496       0.443254      0.412739     0.414251   \n",
       "18       0.040604      0.550036       0.455921      0.419609     0.419933   \n",
       "19       0.047151      0.545735       0.449664      0.419630     0.418592   \n",
       "20       0.052874      0.543108       0.427559      0.403845     0.403695   \n",
       "21       0.055260      0.545021       0.444516      0.418456     0.421274   \n",
       "22       0.047499      0.549082       0.453947      0.423172     0.424110   \n",
       "23       0.044415      0.545738       0.450717      0.425202     0.425579   \n",
       "\n",
       "    acc_std_skl  prec_std_skl  rec_std_skl  f1_std_skl  \n",
       "0      0.004179      0.031499     0.039214    0.025247  \n",
       "1      0.004656      0.053309     0.035690    0.022534  \n",
       "2      0.003314      0.055205     0.030247    0.018953  \n",
       "3      0.006029      0.070892     0.033240    0.026760  \n",
       "4      0.005261      0.027231     0.039760    0.032837  \n",
       "5      0.011149      0.038676     0.035230    0.029804  \n",
       "6      0.009897      0.075091     0.038537    0.031884  \n",
       "7      0.011427      0.062255     0.038388    0.037344  \n",
       "8      0.004370      0.048710     0.050895    0.051002  \n",
       "9      0.009299      0.053335     0.048196    0.049507  \n",
       "10     0.013440      0.063816     0.045665    0.043946  \n",
       "11     0.007532      0.049876     0.041035    0.044025  \n",
       "12     0.010021      0.047148     0.050621    0.050674  \n",
       "13     0.008777      0.055803     0.049957    0.051641  \n",
       "14     0.012960      0.059753     0.048429    0.048434  \n",
       "15     0.007490      0.047570     0.040023    0.042463  \n",
       "16     0.006476      0.052783     0.055283    0.054814  \n",
       "17     0.007798      0.057882     0.053981    0.055100  \n",
       "18     0.008356      0.052570     0.045813    0.045975  \n",
       "19     0.008808      0.048734     0.041450    0.043781  \n",
       "20     0.009670      0.062178     0.062320    0.062585  \n",
       "21     0.007547      0.058060     0.055247    0.055992  \n",
       "22     0.003666      0.047010     0.043157    0.042977  \n",
       "23     0.006452      0.045242     0.041472    0.043934  "
      ]
     },
     "execution_count": 17,
     "metadata": {},
     "output_type": "execute_result"
    }
   ],
   "source": [
    "\n",
    "df_compare = (df_manual\n",
    "              .merge(df_skl, on=[\"topN\",\"k\"], suffixes=(\"_manual\",\"_skl\")))\n",
    "df_compare\n"
   ]
  },
  {
   "cell_type": "markdown",
   "id": "2806583f",
   "metadata": {},
   "source": [
    "\n",
    "# Visualizations"
   ]
  },
  {
   "cell_type": "code",
   "execution_count": 19,
   "id": "3097381d",
   "metadata": {},
   "outputs": [],
   "source": [
    "import plotly.express as px\n",
    "import plotly.graph_objects as go"
   ]
  },
  {
   "cell_type": "markdown",
   "id": "527a447e-f86d-4a7a-a46c-9e60dd4d9f7c",
   "metadata": {},
   "source": [
    "### a) F1 vs features for each K (manual)"
   ]
  },
  {
   "cell_type": "code",
   "execution_count": 20,
   "id": "e2b69cb5-3698-4d6c-98f2-33849c7c6500",
   "metadata": {},
   "outputs": [
    {
     "data": {
      "application/vnd.plotly.v1+json": {
       "config": {
        "plotlyServerURL": "https://plot.ly"
       },
       "data": [
        {
         "hovertemplate": "K-Fold=3<br>Top-N features=%{x}<br>Macro F1 (manual NB)=%{y}<extra></extra>",
         "legendgroup": "3",
         "line": {
          "color": "#636efa",
          "dash": "solid"
         },
         "marker": {
          "symbol": "circle"
         },
         "mode": "lines+markers",
         "name": "3",
         "orientation": "v",
         "showlegend": true,
         "type": "scatter",
         "x": {
          "bdata": "FCg8UGR4",
          "dtype": "i1"
         },
         "xaxis": "x",
         "y": {
          "bdata": "hccQV4cazj87G0sM9crSP9Nd/UIBuNY/IBSBcMrl2D8Fbrm7R4HZPw3BD+zyLNo/",
          "dtype": "f8"
         },
         "yaxis": "y"
        },
        {
         "hovertemplate": "K-Fold=4<br>Top-N features=%{x}<br>Macro F1 (manual NB)=%{y}<extra></extra>",
         "legendgroup": "4",
         "line": {
          "color": "#EF553B",
          "dash": "solid"
         },
         "marker": {
          "symbol": "circle"
         },
         "mode": "lines+markers",
         "name": "4",
         "orientation": "v",
         "showlegend": true,
         "type": "scatter",
         "x": {
          "bdata": "FCg8UGR4",
          "dtype": "i1"
         },
         "xaxis": "x",
         "y": {
          "bdata": "hKG8BmOwzj/ZR0C/ZvrSP6NsDCtyAdc/CqtIOluc2T9GSwL1a5raP1DcXOsGDts/",
          "dtype": "f8"
         },
         "yaxis": "y"
        },
        {
         "hovertemplate": "K-Fold=5<br>Top-N features=%{x}<br>Macro F1 (manual NB)=%{y}<extra></extra>",
         "legendgroup": "5",
         "line": {
          "color": "#00cc96",
          "dash": "solid"
         },
         "marker": {
          "symbol": "circle"
         },
         "mode": "lines+markers",
         "name": "5",
         "orientation": "v",
         "showlegend": true,
         "type": "scatter",
         "x": {
          "bdata": "FCg8UGR4",
          "dtype": "i1"
         },
         "xaxis": "x",
         "y": {
          "bdata": "mi6ge9Jdzz8k9isXgiLTPz5WaW84Utc/LSryFkyt2T876u09iqTaPwsbVmOcUNs/",
          "dtype": "f8"
         },
         "yaxis": "y"
        },
        {
         "hovertemplate": "K-Fold=6<br>Top-N features=%{x}<br>Macro F1 (manual NB)=%{y}<extra></extra>",
         "legendgroup": "6",
         "line": {
          "color": "#ab63fa",
          "dash": "solid"
         },
         "marker": {
          "symbol": "circle"
         },
         "mode": "lines+markers",
         "name": "6",
         "orientation": "v",
         "showlegend": true,
         "type": "scatter",
         "x": {
          "bdata": "FCg8UGR4",
          "dtype": "i1"
         },
         "xaxis": "x",
         "y": {
          "bdata": "q8ZXLvoPzz9vom54cmLTP1di0fzcS9c/m1mqrXv92T+VOr2WXqjaPwM59+EQHts/",
          "dtype": "f8"
         },
         "yaxis": "y"
        }
       ],
       "layout": {
        "legend": {
         "title": {
          "text": "K-Fold"
         },
         "tracegroupgap": 0
        },
        "template": {
         "data": {
          "bar": [
           {
            "error_x": {
             "color": "#2a3f5f"
            },
            "error_y": {
             "color": "#2a3f5f"
            },
            "marker": {
             "line": {
              "color": "#E5ECF6",
              "width": 0.5
             },
             "pattern": {
              "fillmode": "overlay",
              "size": 10,
              "solidity": 0.2
             }
            },
            "type": "bar"
           }
          ],
          "barpolar": [
           {
            "marker": {
             "line": {
              "color": "#E5ECF6",
              "width": 0.5
             },
             "pattern": {
              "fillmode": "overlay",
              "size": 10,
              "solidity": 0.2
             }
            },
            "type": "barpolar"
           }
          ],
          "carpet": [
           {
            "aaxis": {
             "endlinecolor": "#2a3f5f",
             "gridcolor": "white",
             "linecolor": "white",
             "minorgridcolor": "white",
             "startlinecolor": "#2a3f5f"
            },
            "baxis": {
             "endlinecolor": "#2a3f5f",
             "gridcolor": "white",
             "linecolor": "white",
             "minorgridcolor": "white",
             "startlinecolor": "#2a3f5f"
            },
            "type": "carpet"
           }
          ],
          "choropleth": [
           {
            "colorbar": {
             "outlinewidth": 0,
             "ticks": ""
            },
            "type": "choropleth"
           }
          ],
          "contour": [
           {
            "colorbar": {
             "outlinewidth": 0,
             "ticks": ""
            },
            "colorscale": [
             [
              0,
              "#0d0887"
             ],
             [
              0.1111111111111111,
              "#46039f"
             ],
             [
              0.2222222222222222,
              "#7201a8"
             ],
             [
              0.3333333333333333,
              "#9c179e"
             ],
             [
              0.4444444444444444,
              "#bd3786"
             ],
             [
              0.5555555555555556,
              "#d8576b"
             ],
             [
              0.6666666666666666,
              "#ed7953"
             ],
             [
              0.7777777777777778,
              "#fb9f3a"
             ],
             [
              0.8888888888888888,
              "#fdca26"
             ],
             [
              1,
              "#f0f921"
             ]
            ],
            "type": "contour"
           }
          ],
          "contourcarpet": [
           {
            "colorbar": {
             "outlinewidth": 0,
             "ticks": ""
            },
            "type": "contourcarpet"
           }
          ],
          "heatmap": [
           {
            "colorbar": {
             "outlinewidth": 0,
             "ticks": ""
            },
            "colorscale": [
             [
              0,
              "#0d0887"
             ],
             [
              0.1111111111111111,
              "#46039f"
             ],
             [
              0.2222222222222222,
              "#7201a8"
             ],
             [
              0.3333333333333333,
              "#9c179e"
             ],
             [
              0.4444444444444444,
              "#bd3786"
             ],
             [
              0.5555555555555556,
              "#d8576b"
             ],
             [
              0.6666666666666666,
              "#ed7953"
             ],
             [
              0.7777777777777778,
              "#fb9f3a"
             ],
             [
              0.8888888888888888,
              "#fdca26"
             ],
             [
              1,
              "#f0f921"
             ]
            ],
            "type": "heatmap"
           }
          ],
          "histogram": [
           {
            "marker": {
             "pattern": {
              "fillmode": "overlay",
              "size": 10,
              "solidity": 0.2
             }
            },
            "type": "histogram"
           }
          ],
          "histogram2d": [
           {
            "colorbar": {
             "outlinewidth": 0,
             "ticks": ""
            },
            "colorscale": [
             [
              0,
              "#0d0887"
             ],
             [
              0.1111111111111111,
              "#46039f"
             ],
             [
              0.2222222222222222,
              "#7201a8"
             ],
             [
              0.3333333333333333,
              "#9c179e"
             ],
             [
              0.4444444444444444,
              "#bd3786"
             ],
             [
              0.5555555555555556,
              "#d8576b"
             ],
             [
              0.6666666666666666,
              "#ed7953"
             ],
             [
              0.7777777777777778,
              "#fb9f3a"
             ],
             [
              0.8888888888888888,
              "#fdca26"
             ],
             [
              1,
              "#f0f921"
             ]
            ],
            "type": "histogram2d"
           }
          ],
          "histogram2dcontour": [
           {
            "colorbar": {
             "outlinewidth": 0,
             "ticks": ""
            },
            "colorscale": [
             [
              0,
              "#0d0887"
             ],
             [
              0.1111111111111111,
              "#46039f"
             ],
             [
              0.2222222222222222,
              "#7201a8"
             ],
             [
              0.3333333333333333,
              "#9c179e"
             ],
             [
              0.4444444444444444,
              "#bd3786"
             ],
             [
              0.5555555555555556,
              "#d8576b"
             ],
             [
              0.6666666666666666,
              "#ed7953"
             ],
             [
              0.7777777777777778,
              "#fb9f3a"
             ],
             [
              0.8888888888888888,
              "#fdca26"
             ],
             [
              1,
              "#f0f921"
             ]
            ],
            "type": "histogram2dcontour"
           }
          ],
          "mesh3d": [
           {
            "colorbar": {
             "outlinewidth": 0,
             "ticks": ""
            },
            "type": "mesh3d"
           }
          ],
          "parcoords": [
           {
            "line": {
             "colorbar": {
              "outlinewidth": 0,
              "ticks": ""
             }
            },
            "type": "parcoords"
           }
          ],
          "pie": [
           {
            "automargin": true,
            "type": "pie"
           }
          ],
          "scatter": [
           {
            "fillpattern": {
             "fillmode": "overlay",
             "size": 10,
             "solidity": 0.2
            },
            "type": "scatter"
           }
          ],
          "scatter3d": [
           {
            "line": {
             "colorbar": {
              "outlinewidth": 0,
              "ticks": ""
             }
            },
            "marker": {
             "colorbar": {
              "outlinewidth": 0,
              "ticks": ""
             }
            },
            "type": "scatter3d"
           }
          ],
          "scattercarpet": [
           {
            "marker": {
             "colorbar": {
              "outlinewidth": 0,
              "ticks": ""
             }
            },
            "type": "scattercarpet"
           }
          ],
          "scattergeo": [
           {
            "marker": {
             "colorbar": {
              "outlinewidth": 0,
              "ticks": ""
             }
            },
            "type": "scattergeo"
           }
          ],
          "scattergl": [
           {
            "marker": {
             "colorbar": {
              "outlinewidth": 0,
              "ticks": ""
             }
            },
            "type": "scattergl"
           }
          ],
          "scattermap": [
           {
            "marker": {
             "colorbar": {
              "outlinewidth": 0,
              "ticks": ""
             }
            },
            "type": "scattermap"
           }
          ],
          "scattermapbox": [
           {
            "marker": {
             "colorbar": {
              "outlinewidth": 0,
              "ticks": ""
             }
            },
            "type": "scattermapbox"
           }
          ],
          "scatterpolar": [
           {
            "marker": {
             "colorbar": {
              "outlinewidth": 0,
              "ticks": ""
             }
            },
            "type": "scatterpolar"
           }
          ],
          "scatterpolargl": [
           {
            "marker": {
             "colorbar": {
              "outlinewidth": 0,
              "ticks": ""
             }
            },
            "type": "scatterpolargl"
           }
          ],
          "scatterternary": [
           {
            "marker": {
             "colorbar": {
              "outlinewidth": 0,
              "ticks": ""
             }
            },
            "type": "scatterternary"
           }
          ],
          "surface": [
           {
            "colorbar": {
             "outlinewidth": 0,
             "ticks": ""
            },
            "colorscale": [
             [
              0,
              "#0d0887"
             ],
             [
              0.1111111111111111,
              "#46039f"
             ],
             [
              0.2222222222222222,
              "#7201a8"
             ],
             [
              0.3333333333333333,
              "#9c179e"
             ],
             [
              0.4444444444444444,
              "#bd3786"
             ],
             [
              0.5555555555555556,
              "#d8576b"
             ],
             [
              0.6666666666666666,
              "#ed7953"
             ],
             [
              0.7777777777777778,
              "#fb9f3a"
             ],
             [
              0.8888888888888888,
              "#fdca26"
             ],
             [
              1,
              "#f0f921"
             ]
            ],
            "type": "surface"
           }
          ],
          "table": [
           {
            "cells": {
             "fill": {
              "color": "#EBF0F8"
             },
             "line": {
              "color": "white"
             }
            },
            "header": {
             "fill": {
              "color": "#C8D4E3"
             },
             "line": {
              "color": "white"
             }
            },
            "type": "table"
           }
          ]
         },
         "layout": {
          "annotationdefaults": {
           "arrowcolor": "#2a3f5f",
           "arrowhead": 0,
           "arrowwidth": 1
          },
          "autotypenumbers": "strict",
          "coloraxis": {
           "colorbar": {
            "outlinewidth": 0,
            "ticks": ""
           }
          },
          "colorscale": {
           "diverging": [
            [
             0,
             "#8e0152"
            ],
            [
             0.1,
             "#c51b7d"
            ],
            [
             0.2,
             "#de77ae"
            ],
            [
             0.3,
             "#f1b6da"
            ],
            [
             0.4,
             "#fde0ef"
            ],
            [
             0.5,
             "#f7f7f7"
            ],
            [
             0.6,
             "#e6f5d0"
            ],
            [
             0.7,
             "#b8e186"
            ],
            [
             0.8,
             "#7fbc41"
            ],
            [
             0.9,
             "#4d9221"
            ],
            [
             1,
             "#276419"
            ]
           ],
           "sequential": [
            [
             0,
             "#0d0887"
            ],
            [
             0.1111111111111111,
             "#46039f"
            ],
            [
             0.2222222222222222,
             "#7201a8"
            ],
            [
             0.3333333333333333,
             "#9c179e"
            ],
            [
             0.4444444444444444,
             "#bd3786"
            ],
            [
             0.5555555555555556,
             "#d8576b"
            ],
            [
             0.6666666666666666,
             "#ed7953"
            ],
            [
             0.7777777777777778,
             "#fb9f3a"
            ],
            [
             0.8888888888888888,
             "#fdca26"
            ],
            [
             1,
             "#f0f921"
            ]
           ],
           "sequentialminus": [
            [
             0,
             "#0d0887"
            ],
            [
             0.1111111111111111,
             "#46039f"
            ],
            [
             0.2222222222222222,
             "#7201a8"
            ],
            [
             0.3333333333333333,
             "#9c179e"
            ],
            [
             0.4444444444444444,
             "#bd3786"
            ],
            [
             0.5555555555555556,
             "#d8576b"
            ],
            [
             0.6666666666666666,
             "#ed7953"
            ],
            [
             0.7777777777777778,
             "#fb9f3a"
            ],
            [
             0.8888888888888888,
             "#fdca26"
            ],
            [
             1,
             "#f0f921"
            ]
           ]
          },
          "colorway": [
           "#636efa",
           "#EF553B",
           "#00cc96",
           "#ab63fa",
           "#FFA15A",
           "#19d3f3",
           "#FF6692",
           "#B6E880",
           "#FF97FF",
           "#FECB52"
          ],
          "font": {
           "color": "#2a3f5f"
          },
          "geo": {
           "bgcolor": "white",
           "lakecolor": "white",
           "landcolor": "#E5ECF6",
           "showlakes": true,
           "showland": true,
           "subunitcolor": "white"
          },
          "hoverlabel": {
           "align": "left"
          },
          "hovermode": "closest",
          "mapbox": {
           "style": "light"
          },
          "paper_bgcolor": "white",
          "plot_bgcolor": "#E5ECF6",
          "polar": {
           "angularaxis": {
            "gridcolor": "white",
            "linecolor": "white",
            "ticks": ""
           },
           "bgcolor": "#E5ECF6",
           "radialaxis": {
            "gridcolor": "white",
            "linecolor": "white",
            "ticks": ""
           }
          },
          "scene": {
           "xaxis": {
            "backgroundcolor": "#E5ECF6",
            "gridcolor": "white",
            "gridwidth": 2,
            "linecolor": "white",
            "showbackground": true,
            "ticks": "",
            "zerolinecolor": "white"
           },
           "yaxis": {
            "backgroundcolor": "#E5ECF6",
            "gridcolor": "white",
            "gridwidth": 2,
            "linecolor": "white",
            "showbackground": true,
            "ticks": "",
            "zerolinecolor": "white"
           },
           "zaxis": {
            "backgroundcolor": "#E5ECF6",
            "gridcolor": "white",
            "gridwidth": 2,
            "linecolor": "white",
            "showbackground": true,
            "ticks": "",
            "zerolinecolor": "white"
           }
          },
          "shapedefaults": {
           "line": {
            "color": "#2a3f5f"
           }
          },
          "ternary": {
           "aaxis": {
            "gridcolor": "white",
            "linecolor": "white",
            "ticks": ""
           },
           "baxis": {
            "gridcolor": "white",
            "linecolor": "white",
            "ticks": ""
           },
           "bgcolor": "#E5ECF6",
           "caxis": {
            "gridcolor": "white",
            "linecolor": "white",
            "ticks": ""
           }
          },
          "title": {
           "x": 0.05
          },
          "xaxis": {
           "automargin": true,
           "gridcolor": "white",
           "linecolor": "white",
           "ticks": "",
           "title": {
            "standoff": 15
           },
           "zerolinecolor": "white",
           "zerolinewidth": 2
          },
          "yaxis": {
           "automargin": true,
           "gridcolor": "white",
           "linecolor": "white",
           "ticks": "",
           "title": {
            "standoff": 15
           },
           "zerolinecolor": "white",
           "zerolinewidth": 2
          }
         }
        },
        "title": {
         "text": "Manual NB: Macro F1 vs Features per K"
        },
        "xaxis": {
         "anchor": "y",
         "domain": [
          0,
          1
         ],
         "title": {
          "text": "Top-N features"
         }
        },
        "yaxis": {
         "anchor": "x",
         "domain": [
          0,
          1
         ],
         "title": {
          "text": "Macro F1 (manual NB)"
         }
        }
       }
      },
      "image/png": "[encoded data removed]"
     },
     "metadata": {},
     "output_type": "display_data"
    }
   ],
   "source": [
    "fig1 = px.line(df_manual, x=\"topN\", y=\"f1_mean\", color=\"k\", markers=True,\n",
    "               title=\"Manual NB: Macro F1 vs Features per K\",\n",
    "               labels={\"topN\": \"Top-N features\", \"f1_mean\": \"Macro F1 (manual NB)\", \"k\": \"K-Fold\"})\n",
    "fig1.show()"
   ]
  },
  {
   "cell_type": "markdown",
   "id": "ada8086c-54cd-4ae8-8a1a-0615f0bbaa8d",
   "metadata": {},
   "source": [
    "### b) Accuracy vs features (sklearn)"
   ]
  },
  {
   "cell_type": "code",
   "execution_count": 21,
   "id": "664ccc20-da5f-4886-a6eb-310d5224414b",
   "metadata": {},
   "outputs": [
    {
     "data": {
      "application/vnd.plotly.v1+json": {
       "config": {
        "plotlyServerURL": "https://plot.ly"
       },
       "data": [
        {
         "hovertemplate": "K-Fold=3<br>Top-N features=%{x}<br>Accuracy (sklearn NB)=%{y}<extra></extra>",
         "legendgroup": "3",
         "line": {
          "color": "#636efa",
          "dash": "solid"
         },
         "marker": {
          "symbol": "circle"
         },
         "mode": "lines+markers",
         "name": "3",
         "orientation": "v",
         "showlegend": true,
         "type": "scatter",
         "x": {
          "bdata": "FCg8UGR4",
          "dtype": "i1"
         },
         "xaxis": "x",
         "y": {
          "bdata": "wXoiRwXg4D+92do1tMDgP4dXDQhcKuE/T8stxUFb4T+bUg93RIjhP1Gvtw0lYeE/",
          "dtype": "f8"
         },
         "yaxis": "y"
        },
        {
         "hovertemplate": "K-Fold=4<br>Top-N features=%{x}<br>Accuracy (sklearn NB)=%{y}<extra></extra>",
         "legendgroup": "4",
         "line": {
          "color": "#EF553B",
          "dash": "solid"
         },
         "marker": {
          "symbol": "circle"
         },
         "mode": "lines+markers",
         "name": "4",
         "orientation": "v",
         "showlegend": true,
         "type": "scatter",
         "x": {
          "bdata": "FCg8UGR4",
          "dtype": "i1"
         },
         "xaxis": "x",
         "y": {
          "bdata": "6EtsnwTg4D96+w8u9YfgP+JoH3vqEOE/gFjSLfRo4T+BLtoAtXThP9q3ZNnOcOE/",
          "dtype": "f8"
         },
         "yaxis": "y"
        },
        {
         "hovertemplate": "K-Fold=5<br>Top-N features=%{x}<br>Accuracy (sklearn NB)=%{y}<extra></extra>",
         "legendgroup": "5",
         "line": {
          "color": "#00cc96",
          "dash": "solid"
         },
         "marker": {
          "symbol": "circle"
         },
         "mode": "lines+markers",
         "name": "5",
         "orientation": "v",
         "showlegend": true,
         "type": "scatter",
         "x": {
          "bdata": "FCg8UGR4",
          "dtype": "i1"
         },
         "xaxis": "x",
         "y": {
          "bdata": "/Dvr2cDr4D9urwzCu8DgP/MGBjQYOOE/tUzvh5R84T/8KtbX5ZnhPyoC6MkTkuE/",
          "dtype": "f8"
         },
         "yaxis": "y"
        },
        {
         "hovertemplate": "K-Fold=6<br>Top-N features=%{x}<br>Accuracy (sklearn NB)=%{y}<extra></extra>",
         "legendgroup": "6",
         "line": {
          "color": "#ab63fa",
          "dash": "solid"
         },
         "marker": {
          "symbol": "circle"
         },
         "mode": "lines+markers",
         "name": "6",
         "orientation": "v",
         "showlegend": true,
         "type": "scatter",
         "x": {
          "bdata": "FCg8UGR4",
          "dtype": "i1"
         },
         "xaxis": "x",
         "y": {
          "bdata": "vptVZaLx4D+Td8Jwe8rgP4tj7J9pKOE/jCCqaNdB4T9XGKkqqXbhPxvi3VmwduE/",
          "dtype": "f8"
         },
         "yaxis": "y"
        }
       ],
       "layout": {
        "legend": {
         "title": {
          "text": "K-Fold"
         },
         "tracegroupgap": 0
        },
        "template": {
         "data": {
          "bar": [
           {
            "error_x": {
             "color": "#2a3f5f"
            },
            "error_y": {
             "color": "#2a3f5f"
            },
            "marker": {
             "line": {
              "color": "#E5ECF6",
              "width": 0.5
             },
             "pattern": {
              "fillmode": "overlay",
              "size": 10,
              "solidity": 0.2
             }
            },
            "type": "bar"
           }
          ],
          "barpolar": [
           {
            "marker": {
             "line": {
              "color": "#E5ECF6",
              "width": 0.5
             },
             "pattern": {
              "fillmode": "overlay",
              "size": 10,
              "solidity": 0.2
             }
            },
            "type": "barpolar"
           }
          ],
          "carpet": [
           {
            "aaxis": {
             "endlinecolor": "#2a3f5f",
             "gridcolor": "white",
             "linecolor": "white",
             "minorgridcolor": "white",
             "startlinecolor": "#2a3f5f"
            },
            "baxis": {
             "endlinecolor": "#2a3f5f",
             "gridcolor": "white",
             "linecolor": "white",
             "minorgridcolor": "white",
             "startlinecolor": "#2a3f5f"
            },
            "type": "carpet"
           }
          ],
          "choropleth": [
           {
            "colorbar": {
             "outlinewidth": 0,
             "ticks": ""
            },
            "type": "choropleth"
           }
          ],
          "contour": [
           {
            "colorbar": {
             "outlinewidth": 0,
             "ticks": ""
            },
            "colorscale": [
             [
              0,
              "#0d0887"
             ],
             [
              0.1111111111111111,
              "#46039f"
             ],
             [
              0.2222222222222222,
              "#7201a8"
             ],
             [
              0.3333333333333333,
              "#9c179e"
             ],
             [
              0.4444444444444444,
              "#bd3786"
             ],
             [
              0.5555555555555556,
              "#d8576b"
             ],
             [
              0.6666666666666666,
              "#ed7953"
             ],
             [
              0.7777777777777778,
              "#fb9f3a"
             ],
             [
              0.8888888888888888,
              "#fdca26"
             ],
             [
              1,
              "#f0f921"
             ]
            ],
            "type": "contour"
           }
          ],
          "contourcarpet": [
           {
            "colorbar": {
             "outlinewidth": 0,
             "ticks": ""
            },
            "type": "contourcarpet"
           }
          ],
          "heatmap": [
           {
            "colorbar": {
             "outlinewidth": 0,
             "ticks": ""
            },
            "colorscale": [
             [
              0,
              "#0d0887"
             ],
             [
              0.1111111111111111,
              "#46039f"
             ],
             [
              0.2222222222222222,
              "#7201a8"
             ],
             [
              0.3333333333333333,
              "#9c179e"
             ],
             [
              0.4444444444444444,
              "#bd3786"
             ],
             [
              0.5555555555555556,
              "#d8576b"
             ],
             [
              0.6666666666666666,
              "#ed7953"
             ],
             [
              0.7777777777777778,
              "#fb9f3a"
             ],
             [
              0.8888888888888888,
              "#fdca26"
             ],
             [
              1,
              "#f0f921"
             ]
            ],
            "type": "heatmap"
           }
          ],
          "histogram": [
           {
            "marker": {
             "pattern": {
              "fillmode": "overlay",
              "size": 10,
              "solidity": 0.2
             }
            },
            "type": "histogram"
           }
          ],
          "histogram2d": [
           {
            "colorbar": {
             "outlinewidth": 0,
             "ticks": ""
            },
            "colorscale": [
             [
              0,
              "#0d0887"
             ],
             [
              0.1111111111111111,
              "#46039f"
             ],
             [
              0.2222222222222222,
              "#7201a8"
             ],
             [
              0.3333333333333333,
              "#9c179e"
             ],
             [
              0.4444444444444444,
              "#bd3786"
             ],
             [
              0.5555555555555556,
              "#d8576b"
             ],
             [
              0.6666666666666666,
              "#ed7953"
             ],
             [
              0.7777777777777778,
              "#fb9f3a"
             ],
             [
              0.8888888888888888,
              "#fdca26"
             ],
             [
              1,
              "#f0f921"
             ]
            ],
            "type": "histogram2d"
           }
          ],
          "histogram2dcontour": [
           {
            "colorbar": {
             "outlinewidth": 0,
             "ticks": ""
            },
            "colorscale": [
             [
              0,
              "#0d0887"
             ],
             [
              0.1111111111111111,
              "#46039f"
             ],
             [
              0.2222222222222222,
              "#7201a8"
             ],
             [
              0.3333333333333333,
              "#9c179e"
             ],
             [
              0.4444444444444444,
              "#bd3786"
             ],
             [
              0.5555555555555556,
              "#d8576b"
             ],
             [
              0.6666666666666666,
              "#ed7953"
             ],
             [
              0.7777777777777778,
              "#fb9f3a"
             ],
             [
              0.8888888888888888,
              "#fdca26"
             ],
             [
              1,
              "#f0f921"
             ]
            ],
            "type": "histogram2dcontour"
           }
          ],
          "mesh3d": [
           {
            "colorbar": {
             "outlinewidth": 0,
             "ticks": ""
            },
            "type": "mesh3d"
           }
          ],
          "parcoords": [
           {
            "line": {
             "colorbar": {
              "outlinewidth": 0,
              "ticks": ""
             }
            },
            "type": "parcoords"
           }
          ],
          "pie": [
           {
            "automargin": true,
            "type": "pie"
           }
          ],
          "scatter": [
           {
            "fillpattern": {
             "fillmode": "overlay",
             "size": 10,
             "solidity": 0.2
            },
            "type": "scatter"
           }
          ],
          "scatter3d": [
           {
            "line": {
             "colorbar": {
              "outlinewidth": 0,
              "ticks": ""
             }
            },
            "marker": {
             "colorbar": {
              "outlinewidth": 0,
              "ticks": ""
             }
            },
            "type": "scatter3d"
           }
          ],
          "scattercarpet": [
           {
            "marker": {
             "colorbar": {
              "outlinewidth": 0,
              "ticks": ""
             }
            },
            "type": "scattercarpet"
           }
          ],
          "scattergeo": [
           {
            "marker": {
             "colorbar": {
              "outlinewidth": 0,
              "ticks": ""
             }
            },
            "type": "scattergeo"
           }
          ],
          "scattergl": [
           {
            "marker": {
             "colorbar": {
              "outlinewidth": 0,
              "ticks": ""
             }
            },
            "type": "scattergl"
           }
          ],
          "scattermap": [
           {
            "marker": {
             "colorbar": {
              "outlinewidth": 0,
              "ticks": ""
             }
            },
            "type": "scattermap"
           }
          ],
          "scattermapbox": [
           {
            "marker": {
             "colorbar": {
              "outlinewidth": 0,
              "ticks": ""
             }
            },
            "type": "scattermapbox"
           }
          ],
          "scatterpolar": [
           {
            "marker": {
             "colorbar": {
              "outlinewidth": 0,
              "ticks": ""
             }
            },
            "type": "scatterpolar"
           }
          ],
          "scatterpolargl": [
           {
            "marker": {
             "colorbar": {
              "outlinewidth": 0,
              "ticks": ""
             }
            },
            "type": "scatterpolargl"
           }
          ],
          "scatterternary": [
           {
            "marker": {
             "colorbar": {
              "outlinewidth": 0,
              "ticks": ""
             }
            },
            "type": "scatterternary"
           }
          ],
          "surface": [
           {
            "colorbar": {
             "outlinewidth": 0,
             "ticks": ""
            },
            "colorscale": [
             [
              0,
              "#0d0887"
             ],
             [
              0.1111111111111111,
              "#46039f"
             ],
             [
              0.2222222222222222,
              "#7201a8"
             ],
             [
              0.3333333333333333,
              "#9c179e"
             ],
             [
              0.4444444444444444,
              "#bd3786"
             ],
             [
              0.5555555555555556,
              "#d8576b"
             ],
             [
              0.6666666666666666,
              "#ed7953"
             ],
             [
              0.7777777777777778,
              "#fb9f3a"
             ],
             [
              0.8888888888888888,
              "#fdca26"
             ],
             [
              1,
              "#f0f921"
             ]
            ],
            "type": "surface"
           }
          ],
          "table": [
           {
            "cells": {
             "fill": {
              "color": "#EBF0F8"
             },
             "line": {
              "color": "white"
             }
            },
            "header": {
             "fill": {
              "color": "#C8D4E3"
             },
             "line": {
              "color": "white"
             }
            },
            "type": "table"
           }
          ]
         },
         "layout": {
          "annotationdefaults": {
           "arrowcolor": "#2a3f5f",
           "arrowhead": 0,
           "arrowwidth": 1
          },
          "autotypenumbers": "strict",
          "coloraxis": {
           "colorbar": {
            "outlinewidth": 0,
            "ticks": ""
           }
          },
          "colorscale": {
           "diverging": [
            [
             0,
             "#8e0152"
            ],
            [
             0.1,
             "#c51b7d"
            ],
            [
             0.2,
             "#de77ae"
            ],
            [
             0.3,
             "#f1b6da"
            ],
            [
             0.4,
             "#fde0ef"
            ],
            [
             0.5,
             "#f7f7f7"
            ],
            [
             0.6,
             "#e6f5d0"
            ],
            [
             0.7,
             "#b8e186"
            ],
            [
             0.8,
             "#7fbc41"
            ],
            [
             0.9,
             "#4d9221"
            ],
            [
             1,
             "#276419"
            ]
           ],
           "sequential": [
            [
             0,
             "#0d0887"
            ],
            [
             0.1111111111111111,
             "#46039f"
            ],
            [
             0.2222222222222222,
             "#7201a8"
            ],
            [
             0.3333333333333333,
             "#9c179e"
            ],
            [
             0.4444444444444444,
             "#bd3786"
            ],
            [
             0.5555555555555556,
             "#d8576b"
            ],
            [
             0.6666666666666666,
             "#ed7953"
            ],
            [
             0.7777777777777778,
             "#fb9f3a"
            ],
            [
             0.8888888888888888,
             "#fdca26"
            ],
            [
             1,
             "#f0f921"
            ]
           ],
           "sequentialminus": [
            [
             0,
             "#0d0887"
            ],
            [
             0.1111111111111111,
             "#46039f"
            ],
            [
             0.2222222222222222,
             "#7201a8"
            ],
            [
             0.3333333333333333,
             "#9c179e"
            ],
            [
             0.4444444444444444,
             "#bd3786"
            ],
            [
             0.5555555555555556,
             "#d8576b"
            ],
            [
             0.6666666666666666,
             "#ed7953"
            ],
            [
             0.7777777777777778,
             "#fb9f3a"
            ],
            [
             0.8888888888888888,
             "#fdca26"
            ],
            [
             1,
             "#f0f921"
            ]
           ]
          },
          "colorway": [
           "#636efa",
           "#EF553B",
           "#00cc96",
           "#ab63fa",
           "#FFA15A",
           "#19d3f3",
           "#FF6692",
           "#B6E880",
           "#FF97FF",
           "#FECB52"
          ],
          "font": {
           "color": "#2a3f5f"
          },
          "geo": {
           "bgcolor": "white",
           "lakecolor": "white",
           "landcolor": "#E5ECF6",
           "showlakes": true,
           "showland": true,
           "subunitcolor": "white"
          },
          "hoverlabel": {
           "align": "left"
          },
          "hovermode": "closest",
          "mapbox": {
           "style": "light"
          },
          "paper_bgcolor": "white",
          "plot_bgcolor": "#E5ECF6",
          "polar": {
           "angularaxis": {
            "gridcolor": "white",
            "linecolor": "white",
            "ticks": ""
           },
           "bgcolor": "#E5ECF6",
           "radialaxis": {
            "gridcolor": "white",
            "linecolor": "white",
            "ticks": ""
           }
          },
          "scene": {
           "xaxis": {
            "backgroundcolor": "#E5ECF6",
            "gridcolor": "white",
            "gridwidth": 2,
            "linecolor": "white",
            "showbackground": true,
            "ticks": "",
            "zerolinecolor": "white"
           },
           "yaxis": {
            "backgroundcolor": "#E5ECF6",
            "gridcolor": "white",
            "gridwidth": 2,
            "linecolor": "white",
            "showbackground": true,
            "ticks": "",
            "zerolinecolor": "white"
           },
           "zaxis": {
            "backgroundcolor": "#E5ECF6",
            "gridcolor": "white",
            "gridwidth": 2,
            "linecolor": "white",
            "showbackground": true,
            "ticks": "",
            "zerolinecolor": "white"
           }
          },
          "shapedefaults": {
           "line": {
            "color": "#2a3f5f"
           }
          },
          "ternary": {
           "aaxis": {
            "gridcolor": "white",
            "linecolor": "white",
            "ticks": ""
           },
           "baxis": {
            "gridcolor": "white",
            "linecolor": "white",
            "ticks": ""
           },
           "bgcolor": "#E5ECF6",
           "caxis": {
            "gridcolor": "white",
            "linecolor": "white",
            "ticks": ""
           }
          },
          "title": {
           "x": 0.05
          },
          "xaxis": {
           "automargin": true,
           "gridcolor": "white",
           "linecolor": "white",
           "ticks": "",
           "title": {
            "standoff": 15
           },
           "zerolinecolor": "white",
           "zerolinewidth": 2
          },
          "yaxis": {
           "automargin": true,
           "gridcolor": "white",
           "linecolor": "white",
           "ticks": "",
           "title": {
            "standoff": 15
           },
           "zerolinecolor": "white",
           "zerolinewidth": 2
          }
         }
        },
        "title": {
         "text": "Scikit-learn NB: Accuracy vs Features per K"
        },
        "xaxis": {
         "anchor": "y",
         "domain": [
          0,
          1
         ],
         "title": {
          "text": "Top-N features"
         }
        },
        "yaxis": {
         "anchor": "x",
         "domain": [
          0,
          1
         ],
         "title": {
          "text": "Accuracy (sklearn NB)"
         }
        }
       }
      },
      "image/png": "[encoded data removed]"
     },
     "metadata": {},
     "output_type": "display_data"
    }
   ],
   "source": [
    "fig2 = px.line(df_skl, x=\"topN\", y=\"acc_mean\", color=\"k\", markers=True,\n",
    "               title=\"Scikit-learn NB: Accuracy vs Features per K\",\n",
    "               labels={\"topN\": \"Top-N features\", \"acc_mean\": \"Accuracy (sklearn NB)\", \"k\": \"K-Fold\"})\n",
    "fig2.show()"
   ]
  },
  {
   "cell_type": "markdown",
   "id": "552960d4-7427-43f5-8641-e7944c513b60",
   "metadata": {},
   "source": [
    "### c) Manual vs sklearn F1 (grouped by features) for a fixed K=5"
   ]
  },
  {
   "cell_type": "code",
   "execution_count": 22,
   "id": "e82a2567-60e2-4865-b052-fce21436100f",
   "metadata": {},
   "outputs": [
    {
     "data": {
      "application/vnd.plotly.v1+json": {
       "config": {
        "plotlyServerURL": "https://plot.ly"
       },
       "data": [
        {
         "mode": "lines+markers",
         "name": "Manual",
         "type": "scatter",
         "x": {
          "bdata": "FCg8UGR4",
          "dtype": "i1"
         },
         "y": {
          "bdata": "mi6ge9Jdzz8k9isXgiLTPz5WaW84Utc/LSryFkyt2T876u09iqTaPwsbVmOcUNs/",
          "dtype": "f8"
         }
        },
        {
         "mode": "lines+markers",
         "name": "Sklearn",
         "type": "scatter",
         "x": {
          "bdata": "FCg8UGR4",
          "dtype": "i1"
         },
         "y": {
          "bdata": "S8aMgp1Ezz8ISzl+9RHTP1x/AzzOiNc/FuxpvLnZ2T/YLYEELuDaP61YtI6eJNs/",
          "dtype": "f8"
         }
        }
       ],
       "layout": {
        "template": {
         "data": {
          "bar": [
           {
            "error_x": {
             "color": "#2a3f5f"
            },
            "error_y": {
             "color": "#2a3f5f"
            },
            "marker": {
             "line": {
              "color": "#E5ECF6",
              "width": 0.5
             },
             "pattern": {
              "fillmode": "overlay",
              "size": 10,
              "solidity": 0.2
             }
            },
            "type": "bar"
           }
          ],
          "barpolar": [
           {
            "marker": {
             "line": {
              "color": "#E5ECF6",
              "width": 0.5
             },
             "pattern": {
              "fillmode": "overlay",
              "size": 10,
              "solidity": 0.2
             }
            },
            "type": "barpolar"
           }
          ],
          "carpet": [
           {
            "aaxis": {
             "endlinecolor": "#2a3f5f",
             "gridcolor": "white",
             "linecolor": "white",
             "minorgridcolor": "white",
             "startlinecolor": "#2a3f5f"
            },
            "baxis": {
             "endlinecolor": "#2a3f5f",
             "gridcolor": "white",
             "linecolor": "white",
             "minorgridcolor": "white",
             "startlinecolor": "#2a3f5f"
            },
            "type": "carpet"
           }
          ],
          "choropleth": [
           {
            "colorbar": {
             "outlinewidth": 0,
             "ticks": ""
            },
            "type": "choropleth"
           }
          ],
          "contour": [
           {
            "colorbar": {
             "outlinewidth": 0,
             "ticks": ""
            },
            "colorscale": [
             [
              0,
              "#0d0887"
             ],
             [
              0.1111111111111111,
              "#46039f"
             ],
             [
              0.2222222222222222,
              "#7201a8"
             ],
             [
              0.3333333333333333,
              "#9c179e"
             ],
             [
              0.4444444444444444,
              "#bd3786"
             ],
             [
              0.5555555555555556,
              "#d8576b"
             ],
             [
              0.6666666666666666,
              "#ed7953"
             ],
             [
              0.7777777777777778,
              "#fb9f3a"
             ],
             [
              0.8888888888888888,
              "#fdca26"
             ],
             [
              1,
              "#f0f921"
             ]
            ],
            "type": "contour"
           }
          ],
          "contourcarpet": [
           {
            "colorbar": {
             "outlinewidth": 0,
             "ticks": ""
            },
            "type": "contourcarpet"
           }
          ],
          "heatmap": [
           {
            "colorbar": {
             "outlinewidth": 0,
             "ticks": ""
            },
            "colorscale": [
             [
              0,
              "#0d0887"
             ],
             [
              0.1111111111111111,
              "#46039f"
             ],
             [
              0.2222222222222222,
              "#7201a8"
             ],
             [
              0.3333333333333333,
              "#9c179e"
             ],
             [
              0.4444444444444444,
              "#bd3786"
             ],
             [
              0.5555555555555556,
              "#d8576b"
             ],
             [
              0.6666666666666666,
              "#ed7953"
             ],
             [
              0.7777777777777778,
              "#fb9f3a"
             ],
             [
              0.8888888888888888,
              "#fdca26"
             ],
             [
              1,
              "#f0f921"
             ]
            ],
            "type": "heatmap"
           }
          ],
          "histogram": [
           {
            "marker": {
             "pattern": {
              "fillmode": "overlay",
              "size": 10,
              "solidity": 0.2
             }
            },
            "type": "histogram"
           }
          ],
          "histogram2d": [
           {
            "colorbar": {
             "outlinewidth": 0,
             "ticks": ""
            },
            "colorscale": [
             [
              0,
              "#0d0887"
             ],
             [
              0.1111111111111111,
              "#46039f"
             ],
             [
              0.2222222222222222,
              "#7201a8"
             ],
             [
              0.3333333333333333,
              "#9c179e"
             ],
             [
              0.4444444444444444,
              "#bd3786"
             ],
             [
              0.5555555555555556,
              "#d8576b"
             ],
             [
              0.6666666666666666,
              "#ed7953"
             ],
             [
              0.7777777777777778,
              "#fb9f3a"
             ],
             [
              0.8888888888888888,
              "#fdca26"
             ],
             [
              1,
              "#f0f921"
             ]
            ],
            "type": "histogram2d"
           }
          ],
          "histogram2dcontour": [
           {
            "colorbar": {
             "outlinewidth": 0,
             "ticks": ""
            },
            "colorscale": [
             [
              0,
              "#0d0887"
             ],
             [
              0.1111111111111111,
              "#46039f"
             ],
             [
              0.2222222222222222,
              "#7201a8"
             ],
             [
              0.3333333333333333,
              "#9c179e"
             ],
             [
              0.4444444444444444,
              "#bd3786"
             ],
             [
              0.5555555555555556,
              "#d8576b"
             ],
             [
              0.6666666666666666,
              "#ed7953"
             ],
             [
              0.7777777777777778,
              "#fb9f3a"
             ],
             [
              0.8888888888888888,
              "#fdca26"
             ],
             [
              1,
              "#f0f921"
             ]
            ],
            "type": "histogram2dcontour"
           }
          ],
          "mesh3d": [
           {
            "colorbar": {
             "outlinewidth": 0,
             "ticks": ""
            },
            "type": "mesh3d"
           }
          ],
          "parcoords": [
           {
            "line": {
             "colorbar": {
              "outlinewidth": 0,
              "ticks": ""
             }
            },
            "type": "parcoords"
           }
          ],
          "pie": [
           {
            "automargin": true,
            "type": "pie"
           }
          ],
          "scatter": [
           {
            "fillpattern": {
             "fillmode": "overlay",
             "size": 10,
             "solidity": 0.2
            },
            "type": "scatter"
           }
          ],
          "scatter3d": [
           {
            "line": {
             "colorbar": {
              "outlinewidth": 0,
              "ticks": ""
             }
            },
            "marker": {
             "colorbar": {
              "outlinewidth": 0,
              "ticks": ""
             }
            },
            "type": "scatter3d"
           }
          ],
          "scattercarpet": [
           {
            "marker": {
             "colorbar": {
              "outlinewidth": 0,
              "ticks": ""
             }
            },
            "type": "scattercarpet"
           }
          ],
          "scattergeo": [
           {
            "marker": {
             "colorbar": {
              "outlinewidth": 0,
              "ticks": ""
             }
            },
            "type": "scattergeo"
           }
          ],
          "scattergl": [
           {
            "marker": {
             "colorbar": {
              "outlinewidth": 0,
              "ticks": ""
             }
            },
            "type": "scattergl"
           }
          ],
          "scattermap": [
           {
            "marker": {
             "colorbar": {
              "outlinewidth": 0,
              "ticks": ""
             }
            },
            "type": "scattermap"
           }
          ],
          "scattermapbox": [
           {
            "marker": {
             "colorbar": {
              "outlinewidth": 0,
              "ticks": ""
             }
            },
            "type": "scattermapbox"
           }
          ],
          "scatterpolar": [
           {
            "marker": {
             "colorbar": {
              "outlinewidth": 0,
              "ticks": ""
             }
            },
            "type": "scatterpolar"
           }
          ],
          "scatterpolargl": [
           {
            "marker": {
             "colorbar": {
              "outlinewidth": 0,
              "ticks": ""
             }
            },
            "type": "scatterpolargl"
           }
          ],
          "scatterternary": [
           {
            "marker": {
             "colorbar": {
              "outlinewidth": 0,
              "ticks": ""
             }
            },
            "type": "scatterternary"
           }
          ],
          "surface": [
           {
            "colorbar": {
             "outlinewidth": 0,
             "ticks": ""
            },
            "colorscale": [
             [
              0,
              "#0d0887"
             ],
             [
              0.1111111111111111,
              "#46039f"
             ],
             [
              0.2222222222222222,
              "#7201a8"
             ],
             [
              0.3333333333333333,
              "#9c179e"
             ],
             [
              0.4444444444444444,
              "#bd3786"
             ],
             [
              0.5555555555555556,
              "#d8576b"
             ],
             [
              0.6666666666666666,
              "#ed7953"
             ],
             [
              0.7777777777777778,
              "#fb9f3a"
             ],
             [
              0.8888888888888888,
              "#fdca26"
             ],
             [
              1,
              "#f0f921"
             ]
            ],
            "type": "surface"
           }
          ],
          "table": [
           {
            "cells": {
             "fill": {
              "color": "#EBF0F8"
             },
             "line": {
              "color": "white"
             }
            },
            "header": {
             "fill": {
              "color": "#C8D4E3"
             },
             "line": {
              "color": "white"
             }
            },
            "type": "table"
           }
          ]
         },
         "layout": {
          "annotationdefaults": {
           "arrowcolor": "#2a3f5f",
           "arrowhead": 0,
           "arrowwidth": 1
          },
          "autotypenumbers": "strict",
          "coloraxis": {
           "colorbar": {
            "outlinewidth": 0,
            "ticks": ""
           }
          },
          "colorscale": {
           "diverging": [
            [
             0,
             "#8e0152"
            ],
            [
             0.1,
             "#c51b7d"
            ],
            [
             0.2,
             "#de77ae"
            ],
            [
             0.3,
             "#f1b6da"
            ],
            [
             0.4,
             "#fde0ef"
            ],
            [
             0.5,
             "#f7f7f7"
            ],
            [
             0.6,
             "#e6f5d0"
            ],
            [
             0.7,
             "#b8e186"
            ],
            [
             0.8,
             "#7fbc41"
            ],
            [
             0.9,
             "#4d9221"
            ],
            [
             1,
             "#276419"
            ]
           ],
           "sequential": [
            [
             0,
             "#0d0887"
            ],
            [
             0.1111111111111111,
             "#46039f"
            ],
            [
             0.2222222222222222,
             "#7201a8"
            ],
            [
             0.3333333333333333,
             "#9c179e"
            ],
            [
             0.4444444444444444,
             "#bd3786"
            ],
            [
             0.5555555555555556,
             "#d8576b"
            ],
            [
             0.6666666666666666,
             "#ed7953"
            ],
            [
             0.7777777777777778,
             "#fb9f3a"
            ],
            [
             0.8888888888888888,
             "#fdca26"
            ],
            [
             1,
             "#f0f921"
            ]
           ],
           "sequentialminus": [
            [
             0,
             "#0d0887"
            ],
            [
             0.1111111111111111,
             "#46039f"
            ],
            [
             0.2222222222222222,
             "#7201a8"
            ],
            [
             0.3333333333333333,
             "#9c179e"
            ],
            [
             0.4444444444444444,
             "#bd3786"
            ],
            [
             0.5555555555555556,
             "#d8576b"
            ],
            [
             0.6666666666666666,
             "#ed7953"
            ],
            [
             0.7777777777777778,
             "#fb9f3a"
            ],
            [
             0.8888888888888888,
             "#fdca26"
            ],
            [
             1,
             "#f0f921"
            ]
           ]
          },
          "colorway": [
           "#636efa",
           "#EF553B",
           "#00cc96",
           "#ab63fa",
           "#FFA15A",
           "#19d3f3",
           "#FF6692",
           "#B6E880",
           "#FF97FF",
           "#FECB52"
          ],
          "font": {
           "color": "#2a3f5f"
          },
          "geo": {
           "bgcolor": "white",
           "lakecolor": "white",
           "landcolor": "#E5ECF6",
           "showlakes": true,
           "showland": true,
           "subunitcolor": "white"
          },
          "hoverlabel": {
           "align": "left"
          },
          "hovermode": "closest",
          "mapbox": {
           "style": "light"
          },
          "paper_bgcolor": "white",
          "plot_bgcolor": "#E5ECF6",
          "polar": {
           "angularaxis": {
            "gridcolor": "white",
            "linecolor": "white",
            "ticks": ""
           },
           "bgcolor": "#E5ECF6",
           "radialaxis": {
            "gridcolor": "white",
            "linecolor": "white",
            "ticks": ""
           }
          },
          "scene": {
           "xaxis": {
            "backgroundcolor": "#E5ECF6",
            "gridcolor": "white",
            "gridwidth": 2,
            "linecolor": "white",
            "showbackground": true,
            "ticks": "",
            "zerolinecolor": "white"
           },
           "yaxis": {
            "backgroundcolor": "#E5ECF6",
            "gridcolor": "white",
            "gridwidth": 2,
            "linecolor": "white",
            "showbackground": true,
            "ticks": "",
            "zerolinecolor": "white"
           },
           "zaxis": {
            "backgroundcolor": "#E5ECF6",
            "gridcolor": "white",
            "gridwidth": 2,
            "linecolor": "white",
            "showbackground": true,
            "ticks": "",
            "zerolinecolor": "white"
           }
          },
          "shapedefaults": {
           "line": {
            "color": "#2a3f5f"
           }
          },
          "ternary": {
           "aaxis": {
            "gridcolor": "white",
            "linecolor": "white",
            "ticks": ""
           },
           "baxis": {
            "gridcolor": "white",
            "linecolor": "white",
            "ticks": ""
           },
           "bgcolor": "#E5ECF6",
           "caxis": {
            "gridcolor": "white",
            "linecolor": "white",
            "ticks": ""
           }
          },
          "title": {
           "x": 0.05
          },
          "xaxis": {
           "automargin": true,
           "gridcolor": "white",
           "linecolor": "white",
           "ticks": "",
           "title": {
            "standoff": 15
           },
           "zerolinecolor": "white",
           "zerolinewidth": 2
          },
          "yaxis": {
           "automargin": true,
           "gridcolor": "white",
           "linecolor": "white",
           "ticks": "",
           "title": {
            "standoff": 15
           },
           "zerolinecolor": "white",
           "zerolinewidth": 2
          }
         }
        },
        "title": {
         "text": "Manual vs Sklearn — Macro F1 by Features (K=5)"
        },
        "xaxis": {
         "title": {
          "text": "Top-N features"
         }
        },
        "yaxis": {
         "title": {
          "text": "Macro F1"
         }
        }
       }
      },
      "image/png": "[encoded data removed]"
     },
     "metadata": {},
     "output_type": "display_data"
    }
   ],
   "source": [
    "k_fixed = 5 if 5 in set(df_manual['k']) else sorted(df_manual['k'].unique())[0]\n",
    "m_fixed = df_manual[df_manual['k']==k_fixed]\n",
    "s_fixed = df_skl[df_skl['k']==k_fixed]\n",
    "\n",
    "fig3 = go.Figure()\n",
    "fig3.add_trace(go.Scatter(x=m_fixed[\"topN\"], y=m_fixed[\"f1_mean\"], mode=\"lines+markers\", name=\"Manual\"))\n",
    "fig3.add_trace(go.Scatter(x=s_fixed[\"topN\"], y=s_fixed[\"f1_mean\"], mode=\"lines+markers\", name=\"Sklearn\"))\n",
    "fig3.update_layout(title=f\"Manual vs Sklearn — Macro F1 by Features (K={k_fixed})\",\n",
    "                   xaxis_title=\"Top-N features\", yaxis_title=\"Macro F1\")\n",
    "fig3.show()"
   ]
  },
  {
   "cell_type": "markdown",
   "id": "f1ece3d5-f853-4cda-9fd8-73d7392591b5",
   "metadata": {},
   "source": [
    "### d) Macro Precision/Recall/F1 (manual) vs features (averaged over K)"
   ]
  },
  {
   "cell_type": "code",
   "execution_count": 23,
   "id": "75383ab0-0944-46df-a7c2-1329069ba582",
   "metadata": {},
   "outputs": [
    {
     "data": {
      "application/vnd.plotly.v1+json": {
       "config": {
        "plotlyServerURL": "https://plot.ly"
       },
       "data": [
        {
         "mode": "lines+markers",
         "name": "Precision (macro)",
         "type": "scatter",
         "x": {
          "bdata": "FCg8UGR4",
          "dtype": "i1"
         },
         "y": {
          "bdata": "QJqdVHeU1j+Ugs/Qn/LYP3tO2WQJ7No/mIWx+ABZ3D8p+jDGLIHcP03j/gdTtdw/",
          "dtype": "f8"
         }
        },
        {
         "mode": "lines+markers",
         "name": "Recall (macro)",
         "type": "scatter",
         "x": {
          "bdata": "FCg8UGR4",
          "dtype": "i1"
         },
         "y": {
          "bdata": "0h+hXAxB1D913978j8LVP1iiI5UrGNg/YEkd3IrD2T8WUjYh02baP0i7mDPp2No/",
          "dtype": "f8"
         }
        },
        {
         "mode": "lines+markers",
         "name": "F1 (macro)",
         "type": "scatter",
         "x": {
          "bdata": "FCg8UGR4",
          "dtype": "i1"
         },
         "y": {
          "bdata": "lFfxwS3Ozj/qfskWlBLTP8MgkTbiFdc/vJDZWzuL2T+Ht1khJ1raP1t8Lsdp6to/",
          "dtype": "f8"
         }
        }
       ],
       "layout": {
        "template": {
         "data": {
          "bar": [
           {
            "error_x": {
             "color": "#2a3f5f"
            },
            "error_y": {
             "color": "#2a3f5f"
            },
            "marker": {
             "line": {
              "color": "#E5ECF6",
              "width": 0.5
             },
             "pattern": {
              "fillmode": "overlay",
              "size": 10,
              "solidity": 0.2
             }
            },
            "type": "bar"
           }
          ],
          "barpolar": [
           {
            "marker": {
             "line": {
              "color": "#E5ECF6",
              "width": 0.5
             },
             "pattern": {
              "fillmode": "overlay",
              "size": 10,
              "solidity": 0.2
             }
            },
            "type": "barpolar"
           }
          ],
          "carpet": [
           {
            "aaxis": {
             "endlinecolor": "#2a3f5f",
             "gridcolor": "white",
             "linecolor": "white",
             "minorgridcolor": "white",
             "startlinecolor": "#2a3f5f"
            },
            "baxis": {
             "endlinecolor": "#2a3f5f",
             "gridcolor": "white",
             "linecolor": "white",
             "minorgridcolor": "white",
             "startlinecolor": "#2a3f5f"
            },
            "type": "carpet"
           }
          ],
          "choropleth": [
           {
            "colorbar": {
             "outlinewidth": 0,
             "ticks": ""
            },
            "type": "choropleth"
           }
          ],
          "contour": [
           {
            "colorbar": {
             "outlinewidth": 0,
             "ticks": ""
            },
            "colorscale": [
             [
              0,
              "#0d0887"
             ],
             [
              0.1111111111111111,
              "#46039f"
             ],
             [
              0.2222222222222222,
              "#7201a8"
             ],
             [
              0.3333333333333333,
              "#9c179e"
             ],
             [
              0.4444444444444444,
              "#bd3786"
             ],
             [
              0.5555555555555556,
              "#d8576b"
             ],
             [
              0.6666666666666666,
              "#ed7953"
             ],
             [
              0.7777777777777778,
              "#fb9f3a"
             ],
             [
              0.8888888888888888,
              "#fdca26"
             ],
             [
              1,
              "#f0f921"
             ]
            ],
            "type": "contour"
           }
          ],
          "contourcarpet": [
           {
            "colorbar": {
             "outlinewidth": 0,
             "ticks": ""
            },
            "type": "contourcarpet"
           }
          ],
          "heatmap": [
           {
            "colorbar": {
             "outlinewidth": 0,
             "ticks": ""
            },
            "colorscale": [
             [
              0,
              "#0d0887"
             ],
             [
              0.1111111111111111,
              "#46039f"
             ],
             [
              0.2222222222222222,
              "#7201a8"
             ],
             [
              0.3333333333333333,
              "#9c179e"
             ],
             [
              0.4444444444444444,
              "#bd3786"
             ],
             [
              0.5555555555555556,
              "#d8576b"
             ],
             [
              0.6666666666666666,
              "#ed7953"
             ],
             [
              0.7777777777777778,
              "#fb9f3a"
             ],
             [
              0.8888888888888888,
              "#fdca26"
             ],
             [
              1,
              "#f0f921"
             ]
            ],
            "type": "heatmap"
           }
          ],
          "histogram": [
           {
            "marker": {
             "pattern": {
              "fillmode": "overlay",
              "size": 10,
              "solidity": 0.2
             }
            },
            "type": "histogram"
           }
          ],
          "histogram2d": [
           {
            "colorbar": {
             "outlinewidth": 0,
             "ticks": ""
            },
            "colorscale": [
             [
              0,
              "#0d0887"
             ],
             [
              0.1111111111111111,
              "#46039f"
             ],
             [
              0.2222222222222222,
              "#7201a8"
             ],
             [
              0.3333333333333333,
              "#9c179e"
             ],
             [
              0.4444444444444444,
              "#bd3786"
             ],
             [
              0.5555555555555556,
              "#d8576b"
             ],
             [
              0.6666666666666666,
              "#ed7953"
             ],
             [
              0.7777777777777778,
              "#fb9f3a"
             ],
             [
              0.8888888888888888,
              "#fdca26"
             ],
             [
              1,
              "#f0f921"
             ]
            ],
            "type": "histogram2d"
           }
          ],
          "histogram2dcontour": [
           {
            "colorbar": {
             "outlinewidth": 0,
             "ticks": ""
            },
            "colorscale": [
             [
              0,
              "#0d0887"
             ],
             [
              0.1111111111111111,
              "#46039f"
             ],
             [
              0.2222222222222222,
              "#7201a8"
             ],
             [
              0.3333333333333333,
              "#9c179e"
             ],
             [
              0.4444444444444444,
              "#bd3786"
             ],
             [
              0.5555555555555556,
              "#d8576b"
             ],
             [
              0.6666666666666666,
              "#ed7953"
             ],
             [
              0.7777777777777778,
              "#fb9f3a"
             ],
             [
              0.8888888888888888,
              "#fdca26"
             ],
             [
              1,
              "#f0f921"
             ]
            ],
            "type": "histogram2dcontour"
           }
          ],
          "mesh3d": [
           {
            "colorbar": {
             "outlinewidth": 0,
             "ticks": ""
            },
            "type": "mesh3d"
           }
          ],
          "parcoords": [
           {
            "line": {
             "colorbar": {
              "outlinewidth": 0,
              "ticks": ""
             }
            },
            "type": "parcoords"
           }
          ],
          "pie": [
           {
            "automargin": true,
            "type": "pie"
           }
          ],
          "scatter": [
           {
            "fillpattern": {
             "fillmode": "overlay",
             "size": 10,
             "solidity": 0.2
            },
            "type": "scatter"
           }
          ],
          "scatter3d": [
           {
            "line": {
             "colorbar": {
              "outlinewidth": 0,
              "ticks": ""
             }
            },
            "marker": {
             "colorbar": {
              "outlinewidth": 0,
              "ticks": ""
             }
            },
            "type": "scatter3d"
           }
          ],
          "scattercarpet": [
           {
            "marker": {
             "colorbar": {
              "outlinewidth": 0,
              "ticks": ""
             }
            },
            "type": "scattercarpet"
           }
          ],
          "scattergeo": [
           {
            "marker": {
             "colorbar": {
              "outlinewidth": 0,
              "ticks": ""
             }
            },
            "type": "scattergeo"
           }
          ],
          "scattergl": [
           {
            "marker": {
             "colorbar": {
              "outlinewidth": 0,
              "ticks": ""
             }
            },
            "type": "scattergl"
           }
          ],
          "scattermap": [
           {
            "marker": {
             "colorbar": {
              "outlinewidth": 0,
              "ticks": ""
             }
            },
            "type": "scattermap"
           }
          ],
          "scattermapbox": [
           {
            "marker": {
             "colorbar": {
              "outlinewidth": 0,
              "ticks": ""
             }
            },
            "type": "scattermapbox"
           }
          ],
          "scatterpolar": [
           {
            "marker": {
             "colorbar": {
              "outlinewidth": 0,
              "ticks": ""
             }
            },
            "type": "scatterpolar"
           }
          ],
          "scatterpolargl": [
           {
            "marker": {
             "colorbar": {
              "outlinewidth": 0,
              "ticks": ""
             }
            },
            "type": "scatterpolargl"
           }
          ],
          "scatterternary": [
           {
            "marker": {
             "colorbar": {
              "outlinewidth": 0,
              "ticks": ""
             }
            },
            "type": "scatterternary"
           }
          ],
          "surface": [
           {
            "colorbar": {
             "outlinewidth": 0,
             "ticks": ""
            },
            "colorscale": [
             [
              0,
              "#0d0887"
             ],
             [
              0.1111111111111111,
              "#46039f"
             ],
             [
              0.2222222222222222,
              "#7201a8"
             ],
             [
              0.3333333333333333,
              "#9c179e"
             ],
             [
              0.4444444444444444,
              "#bd3786"
             ],
             [
              0.5555555555555556,
              "#d8576b"
             ],
             [
              0.6666666666666666,
              "#ed7953"
             ],
             [
              0.7777777777777778,
              "#fb9f3a"
             ],
             [
              0.8888888888888888,
              "#fdca26"
             ],
             [
              1,
              "#f0f921"
             ]
            ],
            "type": "surface"
           }
          ],
          "table": [
           {
            "cells": {
             "fill": {
              "color": "#EBF0F8"
             },
             "line": {
              "color": "white"
             }
            },
            "header": {
             "fill": {
              "color": "#C8D4E3"
             },
             "line": {
              "color": "white"
             }
            },
            "type": "table"
           }
          ]
         },
         "layout": {
          "annotationdefaults": {
           "arrowcolor": "#2a3f5f",
           "arrowhead": 0,
           "arrowwidth": 1
          },
          "autotypenumbers": "strict",
          "coloraxis": {
           "colorbar": {
            "outlinewidth": 0,
            "ticks": ""
           }
          },
          "colorscale": {
           "diverging": [
            [
             0,
             "#8e0152"
            ],
            [
             0.1,
             "#c51b7d"
            ],
            [
             0.2,
             "#de77ae"
            ],
            [
             0.3,
             "#f1b6da"
            ],
            [
             0.4,
             "#fde0ef"
            ],
            [
             0.5,
             "#f7f7f7"
            ],
            [
             0.6,
             "#e6f5d0"
            ],
            [
             0.7,
             "#b8e186"
            ],
            [
             0.8,
             "#7fbc41"
            ],
            [
             0.9,
             "#4d9221"
            ],
            [
             1,
             "#276419"
            ]
           ],
           "sequential": [
            [
             0,
             "#0d0887"
            ],
            [
             0.1111111111111111,
             "#46039f"
            ],
            [
             0.2222222222222222,
             "#7201a8"
            ],
            [
             0.3333333333333333,
             "#9c179e"
            ],
            [
             0.4444444444444444,
             "#bd3786"
            ],
            [
             0.5555555555555556,
             "#d8576b"
            ],
            [
             0.6666666666666666,
             "#ed7953"
            ],
            [
             0.7777777777777778,
             "#fb9f3a"
            ],
            [
             0.8888888888888888,
             "#fdca26"
            ],
            [
             1,
             "#f0f921"
            ]
           ],
           "sequentialminus": [
            [
             0,
             "#0d0887"
            ],
            [
             0.1111111111111111,
             "#46039f"
            ],
            [
             0.2222222222222222,
             "#7201a8"
            ],
            [
             0.3333333333333333,
             "#9c179e"
            ],
            [
             0.4444444444444444,
             "#bd3786"
            ],
            [
             0.5555555555555556,
             "#d8576b"
            ],
            [
             0.6666666666666666,
             "#ed7953"
            ],
            [
             0.7777777777777778,
             "#fb9f3a"
            ],
            [
             0.8888888888888888,
             "#fdca26"
            ],
            [
             1,
             "#f0f921"
            ]
           ]
          },
          "colorway": [
           "#636efa",
           "#EF553B",
           "#00cc96",
           "#ab63fa",
           "#FFA15A",
           "#19d3f3",
           "#FF6692",
           "#B6E880",
           "#FF97FF",
           "#FECB52"
          ],
          "font": {
           "color": "#2a3f5f"
          },
          "geo": {
           "bgcolor": "white",
           "lakecolor": "white",
           "landcolor": "#E5ECF6",
           "showlakes": true,
           "showland": true,
           "subunitcolor": "white"
          },
          "hoverlabel": {
           "align": "left"
          },
          "hovermode": "closest",
          "mapbox": {
           "style": "light"
          },
          "paper_bgcolor": "white",
          "plot_bgcolor": "#E5ECF6",
          "polar": {
           "angularaxis": {
            "gridcolor": "white",
            "linecolor": "white",
            "ticks": ""
           },
           "bgcolor": "#E5ECF6",
           "radialaxis": {
            "gridcolor": "white",
            "linecolor": "white",
            "ticks": ""
           }
          },
          "scene": {
           "xaxis": {
            "backgroundcolor": "#E5ECF6",
            "gridcolor": "white",
            "gridwidth": 2,
            "linecolor": "white",
            "showbackground": true,
            "ticks": "",
            "zerolinecolor": "white"
           },
           "yaxis": {
            "backgroundcolor": "#E5ECF6",
            "gridcolor": "white",
            "gridwidth": 2,
            "linecolor": "white",
            "showbackground": true,
            "ticks": "",
            "zerolinecolor": "white"
           },
           "zaxis": {
            "backgroundcolor": "#E5ECF6",
            "gridcolor": "white",
            "gridwidth": 2,
            "linecolor": "white",
            "showbackground": true,
            "ticks": "",
            "zerolinecolor": "white"
           }
          },
          "shapedefaults": {
           "line": {
            "color": "#2a3f5f"
           }
          },
          "ternary": {
           "aaxis": {
            "gridcolor": "white",
            "linecolor": "white",
            "ticks": ""
           },
           "baxis": {
            "gridcolor": "white",
            "linecolor": "white",
            "ticks": ""
           },
           "bgcolor": "#E5ECF6",
           "caxis": {
            "gridcolor": "white",
            "linecolor": "white",
            "ticks": ""
           }
          },
          "title": {
           "x": 0.05
          },
          "xaxis": {
           "automargin": true,
           "gridcolor": "white",
           "linecolor": "white",
           "ticks": "",
           "title": {
            "standoff": 15
           },
           "zerolinecolor": "white",
           "zerolinewidth": 2
          },
          "yaxis": {
           "automargin": true,
           "gridcolor": "white",
           "linecolor": "white",
           "ticks": "",
           "title": {
            "standoff": 15
           },
           "zerolinecolor": "white",
           "zerolinewidth": 2
          }
         }
        },
        "title": {
         "text": "Manual NB (avg over K) — Macro Metrics vs Features"
        },
        "xaxis": {
         "title": {
          "text": "Top-N features"
         }
        },
        "yaxis": {
         "title": {
          "text": "Score (macro)"
         }
        }
       }
      },
      "image/png": "[encoded data removed]"
     },
     "metadata": {},
     "output_type": "display_data"
    }
   ],
   "source": [
    "agg = df_manual.groupby('topN')[['prec_mean','rec_mean','f1_mean']].mean().reset_index()\n",
    "fig4 = go.Figure()\n",
    "fig4.add_trace(go.Scatter(x=agg[\"topN\"], y=agg[\"prec_mean\"], mode=\"lines+markers\", name=\"Precision (macro)\"))\n",
    "fig4.add_trace(go.Scatter(x=agg[\"topN\"], y=agg[\"rec_mean\"], mode=\"lines+markers\", name=\"Recall (macro)\"))\n",
    "fig4.add_trace(go.Scatter(x=agg[\"topN\"], y=agg[\"f1_mean\"], mode=\"lines+markers\", name=\"F1 (macro)\"))\n",
    "fig4.update_layout(title=\"Manual NB (avg over K) — Macro Metrics vs Features\",\n",
    "                   xaxis_title=\"Top-N features\", yaxis_title=\"Score (macro)\")\n",
    "fig4.show()"
   ]
  },
  {
   "cell_type": "markdown",
   "id": "41597ca3-46e7-4e9b-bed5-f40062b97684",
   "metadata": {},
   "source": [
    "### e) Best setting confusion matrix (manual)"
   ]
  },
  {
   "cell_type": "code",
   "execution_count": 24,
   "id": "1acb1309-81ec-4156-bb64-4eb711bc9d1d",
   "metadata": {},
   "outputs": [
    {
     "data": {
      "application/vnd.plotly.v1+json": {
       "config": {
        "plotlyServerURL": "https://plot.ly"
       },
       "data": [
        {
         "coloraxis": "coloraxis",
         "hovertemplate": "Predicted label: %{x}<br>True label: %{y}<br>Count: %{z}<extra></extra>",
         "name": "0",
         "texttemplate": "%{z}",
         "type": "heatmap",
         "x": [
          "c",
          "negative",
          "neutral",
          "positive"
         ],
         "xaxis": "x",
         "y": [
          "c",
          "negative",
          "neutral",
          "positive"
         ],
         "yaxis": "y",
         "z": {
          "bdata": "AAABAAAAAAAAAAUBhgDQAQAAmQAJAZQCAADbAPcA9wY=",
          "dtype": "i2",
          "shape": "4, 4"
         }
        }
       ],
       "layout": {
        "coloraxis": {
         "colorbar": {
          "title": {
           "text": "Count"
          }
         },
         "colorscale": [
          [
           0,
           "rgb(247,251,255)"
          ],
          [
           0.125,
           "rgb(222,235,247)"
          ],
          [
           0.25,
           "rgb(198,219,239)"
          ],
          [
           0.375,
           "rgb(158,202,225)"
          ],
          [
           0.5,
           "rgb(107,174,214)"
          ],
          [
           0.625,
           "rgb(66,146,198)"
          ],
          [
           0.75,
           "rgb(33,113,181)"
          ],
          [
           0.875,
           "rgb(8,81,156)"
          ],
          [
           1,
           "rgb(8,48,107)"
          ]
         ]
        },
        "template": {
         "data": {
          "bar": [
           {
            "error_x": {
             "color": "#2a3f5f"
            },
            "error_y": {
             "color": "#2a3f5f"
            },
            "marker": {
             "line": {
              "color": "#E5ECF6",
              "width": 0.5
             },
             "pattern": {
              "fillmode": "overlay",
              "size": 10,
              "solidity": 0.2
             }
            },
            "type": "bar"
           }
          ],
          "barpolar": [
           {
            "marker": {
             "line": {
              "color": "#E5ECF6",
              "width": 0.5
             },
             "pattern": {
              "fillmode": "overlay",
              "size": 10,
              "solidity": 0.2
             }
            },
            "type": "barpolar"
           }
          ],
          "carpet": [
           {
            "aaxis": {
             "endlinecolor": "#2a3f5f",
             "gridcolor": "white",
             "linecolor": "white",
             "minorgridcolor": "white",
             "startlinecolor": "#2a3f5f"
            },
            "baxis": {
             "endlinecolor": "#2a3f5f",
             "gridcolor": "white",
             "linecolor": "white",
             "minorgridcolor": "white",
             "startlinecolor": "#2a3f5f"
            },
            "type": "carpet"
           }
          ],
          "choropleth": [
           {
            "colorbar": {
             "outlinewidth": 0,
             "ticks": ""
            },
            "type": "choropleth"
           }
          ],
          "contour": [
           {
            "colorbar": {
             "outlinewidth": 0,
             "ticks": ""
            },
            "colorscale": [
             [
              0,
              "#0d0887"
             ],
             [
              0.1111111111111111,
              "#46039f"
             ],
             [
              0.2222222222222222,
              "#7201a8"
             ],
             [
              0.3333333333333333,
              "#9c179e"
             ],
             [
              0.4444444444444444,
              "#bd3786"
             ],
             [
              0.5555555555555556,
              "#d8576b"
             ],
             [
              0.6666666666666666,
              "#ed7953"
             ],
             [
              0.7777777777777778,
              "#fb9f3a"
             ],
             [
              0.8888888888888888,
              "#fdca26"
             ],
             [
              1,
              "#f0f921"
             ]
            ],
            "type": "contour"
           }
          ],
          "contourcarpet": [
           {
            "colorbar": {
             "outlinewidth": 0,
             "ticks": ""
            },
            "type": "contourcarpet"
           }
          ],
          "heatmap": [
           {
            "colorbar": {
             "outlinewidth": 0,
             "ticks": ""
            },
            "colorscale": [
             [
              0,
              "#0d0887"
             ],
             [
              0.1111111111111111,
              "#46039f"
             ],
             [
              0.2222222222222222,
              "#7201a8"
             ],
             [
              0.3333333333333333,
              "#9c179e"
             ],
             [
              0.4444444444444444,
              "#bd3786"
             ],
             [
              0.5555555555555556,
              "#d8576b"
             ],
             [
              0.6666666666666666,
              "#ed7953"
             ],
             [
              0.7777777777777778,
              "#fb9f3a"
             ],
             [
              0.8888888888888888,
              "#fdca26"
             ],
             [
              1,
              "#f0f921"
             ]
            ],
            "type": "heatmap"
           }
          ],
          "histogram": [
           {
            "marker": {
             "pattern": {
              "fillmode": "overlay",
              "size": 10,
              "solidity": 0.2
             }
            },
            "type": "histogram"
           }
          ],
          "histogram2d": [
           {
            "colorbar": {
             "outlinewidth": 0,
             "ticks": ""
            },
            "colorscale": [
             [
              0,
              "#0d0887"
             ],
             [
              0.1111111111111111,
              "#46039f"
             ],
             [
              0.2222222222222222,
              "#7201a8"
             ],
             [
              0.3333333333333333,
              "#9c179e"
             ],
             [
              0.4444444444444444,
              "#bd3786"
             ],
             [
              0.5555555555555556,
              "#d8576b"
             ],
             [
              0.6666666666666666,
              "#ed7953"
             ],
             [
              0.7777777777777778,
              "#fb9f3a"
             ],
             [
              0.8888888888888888,
              "#fdca26"
             ],
             [
              1,
              "#f0f921"
             ]
            ],
            "type": "histogram2d"
           }
          ],
          "histogram2dcontour": [
           {
            "colorbar": {
             "outlinewidth": 0,
             "ticks": ""
            },
            "colorscale": [
             [
              0,
              "#0d0887"
             ],
             [
              0.1111111111111111,
              "#46039f"
             ],
             [
              0.2222222222222222,
              "#7201a8"
             ],
             [
              0.3333333333333333,
              "#9c179e"
             ],
             [
              0.4444444444444444,
              "#bd3786"
             ],
             [
              0.5555555555555556,
              "#d8576b"
             ],
             [
              0.6666666666666666,
              "#ed7953"
             ],
             [
              0.7777777777777778,
              "#fb9f3a"
             ],
             [
              0.8888888888888888,
              "#fdca26"
             ],
             [
              1,
              "#f0f921"
             ]
            ],
            "type": "histogram2dcontour"
           }
          ],
          "mesh3d": [
           {
            "colorbar": {
             "outlinewidth": 0,
             "ticks": ""
            },
            "type": "mesh3d"
           }
          ],
          "parcoords": [
           {
            "line": {
             "colorbar": {
              "outlinewidth": 0,
              "ticks": ""
             }
            },
            "type": "parcoords"
           }
          ],
          "pie": [
           {
            "automargin": true,
            "type": "pie"
           }
          ],
          "scatter": [
           {
            "fillpattern": {
             "fillmode": "overlay",
             "size": 10,
             "solidity": 0.2
            },
            "type": "scatter"
           }
          ],
          "scatter3d": [
           {
            "line": {
             "colorbar": {
              "outlinewidth": 0,
              "ticks": ""
             }
            },
            "marker": {
             "colorbar": {
              "outlinewidth": 0,
              "ticks": ""
             }
            },
            "type": "scatter3d"
           }
          ],
          "scattercarpet": [
           {
            "marker": {
             "colorbar": {
              "outlinewidth": 0,
              "ticks": ""
             }
            },
            "type": "scattercarpet"
           }
          ],
          "scattergeo": [
           {
            "marker": {
             "colorbar": {
              "outlinewidth": 0,
              "ticks": ""
             }
            },
            "type": "scattergeo"
           }
          ],
          "scattergl": [
           {
            "marker": {
             "colorbar": {
              "outlinewidth": 0,
              "ticks": ""
             }
            },
            "type": "scattergl"
           }
          ],
          "scattermap": [
           {
            "marker": {
             "colorbar": {
              "outlinewidth": 0,
              "ticks": ""
             }
            },
            "type": "scattermap"
           }
          ],
          "scattermapbox": [
           {
            "marker": {
             "colorbar": {
              "outlinewidth": 0,
              "ticks": ""
             }
            },
            "type": "scattermapbox"
           }
          ],
          "scatterpolar": [
           {
            "marker": {
             "colorbar": {
              "outlinewidth": 0,
              "ticks": ""
             }
            },
            "type": "scatterpolar"
           }
          ],
          "scatterpolargl": [
           {
            "marker": {
             "colorbar": {
              "outlinewidth": 0,
              "ticks": ""
             }
            },
            "type": "scatterpolargl"
           }
          ],
          "scatterternary": [
           {
            "marker": {
             "colorbar": {
              "outlinewidth": 0,
              "ticks": ""
             }
            },
            "type": "scatterternary"
           }
          ],
          "surface": [
           {
            "colorbar": {
             "outlinewidth": 0,
             "ticks": ""
            },
            "colorscale": [
             [
              0,
              "#0d0887"
             ],
             [
              0.1111111111111111,
              "#46039f"
             ],
             [
              0.2222222222222222,
              "#7201a8"
             ],
             [
              0.3333333333333333,
              "#9c179e"
             ],
             [
              0.4444444444444444,
              "#bd3786"
             ],
             [
              0.5555555555555556,
              "#d8576b"
             ],
             [
              0.6666666666666666,
              "#ed7953"
             ],
             [
              0.7777777777777778,
              "#fb9f3a"
             ],
             [
              0.8888888888888888,
              "#fdca26"
             ],
             [
              1,
              "#f0f921"
             ]
            ],
            "type": "surface"
           }
          ],
          "table": [
           {
            "cells": {
             "fill": {
              "color": "#EBF0F8"
             },
             "line": {
              "color": "white"
             }
            },
            "header": {
             "fill": {
              "color": "#C8D4E3"
             },
             "line": {
              "color": "white"
             }
            },
            "type": "table"
           }
          ]
         },
         "layout": {
          "annotationdefaults": {
           "arrowcolor": "#2a3f5f",
           "arrowhead": 0,
           "arrowwidth": 1
          },
          "autotypenumbers": "strict",
          "coloraxis": {
           "colorbar": {
            "outlinewidth": 0,
            "ticks": ""
           }
          },
          "colorscale": {
           "diverging": [
            [
             0,
             "#8e0152"
            ],
            [
             0.1,
             "#c51b7d"
            ],
            [
             0.2,
             "#de77ae"
            ],
            [
             0.3,
             "#f1b6da"
            ],
            [
             0.4,
             "#fde0ef"
            ],
            [
             0.5,
             "#f7f7f7"
            ],
            [
             0.6,
             "#e6f5d0"
            ],
            [
             0.7,
             "#b8e186"
            ],
            [
             0.8,
             "#7fbc41"
            ],
            [
             0.9,
             "#4d9221"
            ],
            [
             1,
             "#276419"
            ]
           ],
           "sequential": [
            [
             0,
             "#0d0887"
            ],
            [
             0.1111111111111111,
             "#46039f"
            ],
            [
             0.2222222222222222,
             "#7201a8"
            ],
            [
             0.3333333333333333,
             "#9c179e"
            ],
            [
             0.4444444444444444,
             "#bd3786"
            ],
            [
             0.5555555555555556,
             "#d8576b"
            ],
            [
             0.6666666666666666,
             "#ed7953"
            ],
            [
             0.7777777777777778,
             "#fb9f3a"
            ],
            [
             0.8888888888888888,
             "#fdca26"
            ],
            [
             1,
             "#f0f921"
            ]
           ],
           "sequentialminus": [
            [
             0,
             "#0d0887"
            ],
            [
             0.1111111111111111,
             "#46039f"
            ],
            [
             0.2222222222222222,
             "#7201a8"
            ],
            [
             0.3333333333333333,
             "#9c179e"
            ],
            [
             0.4444444444444444,
             "#bd3786"
            ],
            [
             0.5555555555555556,
             "#d8576b"
            ],
            [
             0.6666666666666666,
             "#ed7953"
            ],
            [
             0.7777777777777778,
             "#fb9f3a"
            ],
            [
             0.8888888888888888,
             "#fdca26"
            ],
            [
             1,
             "#f0f921"
            ]
           ]
          },
          "colorway": [
           "#636efa",
           "#EF553B",
           "#00cc96",
           "#ab63fa",
           "#FFA15A",
           "#19d3f3",
           "#FF6692",
           "#B6E880",
           "#FF97FF",
           "#FECB52"
          ],
          "font": {
           "color": "#2a3f5f"
          },
          "geo": {
           "bgcolor": "white",
           "lakecolor": "white",
           "landcolor": "#E5ECF6",
           "showlakes": true,
           "showland": true,
           "subunitcolor": "white"
          },
          "hoverlabel": {
           "align": "left"
          },
          "hovermode": "closest",
          "mapbox": {
           "style": "light"
          },
          "paper_bgcolor": "white",
          "plot_bgcolor": "#E5ECF6",
          "polar": {
           "angularaxis": {
            "gridcolor": "white",
            "linecolor": "white",
            "ticks": ""
           },
           "bgcolor": "#E5ECF6",
           "radialaxis": {
            "gridcolor": "white",
            "linecolor": "white",
            "ticks": ""
           }
          },
          "scene": {
           "xaxis": {
            "backgroundcolor": "#E5ECF6",
            "gridcolor": "white",
            "gridwidth": 2,
            "linecolor": "white",
            "showbackground": true,
            "ticks": "",
            "zerolinecolor": "white"
           },
           "yaxis": {
            "backgroundcolor": "#E5ECF6",
            "gridcolor": "white",
            "gridwidth": 2,
            "linecolor": "white",
            "showbackground": true,
            "ticks": "",
            "zerolinecolor": "white"
           },
           "zaxis": {
            "backgroundcolor": "#E5ECF6",
            "gridcolor": "white",
            "gridwidth": 2,
            "linecolor": "white",
            "showbackground": true,
            "ticks": "",
            "zerolinecolor": "white"
           }
          },
          "shapedefaults": {
           "line": {
            "color": "#2a3f5f"
           }
          },
          "ternary": {
           "aaxis": {
            "gridcolor": "white",
            "linecolor": "white",
            "ticks": ""
           },
           "baxis": {
            "gridcolor": "white",
            "linecolor": "white",
            "ticks": ""
           },
           "bgcolor": "#E5ECF6",
           "caxis": {
            "gridcolor": "white",
            "linecolor": "white",
            "ticks": ""
           }
          },
          "title": {
           "x": 0.05
          },
          "xaxis": {
           "automargin": true,
           "gridcolor": "white",
           "linecolor": "white",
           "ticks": "",
           "title": {
            "standoff": 15
           },
           "zerolinecolor": "white",
           "zerolinewidth": 2
          },
          "yaxis": {
           "automargin": true,
           "gridcolor": "white",
           "linecolor": "white",
           "ticks": "",
           "title": {
            "standoff": 15
           },
           "zerolinecolor": "white",
           "zerolinewidth": 2
          }
         }
        },
        "title": {
         "text": "Manual NB — Confusion Matrix (sum over 5 folds)"
        },
        "xaxis": {
         "anchor": "y",
         "constrain": "domain",
         "domain": [
          0,
          1
         ],
         "scaleanchor": "y",
         "side": "top",
         "title": {
          "text": "Predicted label"
         }
        },
        "yaxis": {
         "anchor": "x",
         "autorange": "reversed",
         "constrain": "domain",
         "domain": [
          0,
          1
         ],
         "title": {
          "text": "True label"
         }
        }
       }
      },
      "image/png": "[encoded data removed]"
     },
     "metadata": {},
     "output_type": "display_data"
    }
   ],
   "source": [
    "best_row = df_manual.iloc[df_manual['f1_mean'].idxmax()]\n",
    "best_topN = int(best_row['topN']); best_k = int(best_row['k'])\n",
    "features, X_train_full, y_train_full, _, _ = make_vectors(best_topN)\n",
    "res_best = evaluate_model_cv_manual(X_train_full, y_train_full, k=best_k)\n",
    "cm = res_best['confusion_matrix_sum']\n",
    "classes = res_best['classes']\n",
    "\n",
    "fig5 = px.imshow(cm, text_auto=True, color_continuous_scale=\"Blues\",\n",
    "                 x=classes, y=classes,\n",
    "                 labels=dict(x=\"Predicted label\", y=\"True label\", color=\"Count\"),\n",
    "                 title=f\"Manual NB — Confusion Matrix (sum over {best_k} folds)\")\n",
    "fig5.update_xaxes(side=\"top\")\n",
    "fig5.show()"
   ]
  },
  {
   "cell_type": "markdown",
   "id": "f3adeaef-a29d-4732-85ae-926015b2edc7",
   "metadata": {},
   "source": [
    "### f) Stability (std) plot: F1 std vs features (manual)"
   ]
  },
  {
   "cell_type": "code",
   "execution_count": 25,
   "id": "9b52f775-98e3-4170-bc89-529f655e9a8e",
   "metadata": {},
   "outputs": [
    {
     "data": {
      "application/vnd.plotly.v1+json": {
       "config": {
        "plotlyServerURL": "https://plot.ly"
       },
       "data": [
        {
         "hovertemplate": "Top-N features=%{x}<br>F1 std (avg over K)=%{y}<extra></extra>",
         "legendgroup": "",
         "line": {
          "color": "#636efa",
          "dash": "solid"
         },
         "marker": {
          "symbol": "circle"
         },
         "mode": "lines+markers",
         "name": "",
         "orientation": "v",
         "showlegend": false,
         "type": "scatter",
         "x": {
          "bdata": "FCg8UGR4",
          "dtype": "i1"
         },
         "xaxis": "x",
         "y": {
          "bdata": "C5NaFAhGmz/pnz5a2i2iP+vKRbfpTaM/IcVjsxmTpz9nhGhJVS6nPzZcdK8qm6k/",
          "dtype": "f8"
         },
         "yaxis": "y"
        }
       ],
       "layout": {
        "legend": {
         "tracegroupgap": 0
        },
        "template": {
         "data": {
          "bar": [
           {
            "error_x": {
             "color": "#2a3f5f"
            },
            "error_y": {
             "color": "#2a3f5f"
            },
            "marker": {
             "line": {
              "color": "#E5ECF6",
              "width": 0.5
             },
             "pattern": {
              "fillmode": "overlay",
              "size": 10,
              "solidity": 0.2
             }
            },
            "type": "bar"
           }
          ],
          "barpolar": [
           {
            "marker": {
             "line": {
              "color": "#E5ECF6",
              "width": 0.5
             },
             "pattern": {
              "fillmode": "overlay",
              "size": 10,
              "solidity": 0.2
             }
            },
            "type": "barpolar"
           }
          ],
          "carpet": [
           {
            "aaxis": {
             "endlinecolor": "#2a3f5f",
             "gridcolor": "white",
             "linecolor": "white",
             "minorgridcolor": "white",
             "startlinecolor": "#2a3f5f"
            },
            "baxis": {
             "endlinecolor": "#2a3f5f",
             "gridcolor": "white",
             "linecolor": "white",
             "minorgridcolor": "white",
             "startlinecolor": "#2a3f5f"
            },
            "type": "carpet"
           }
          ],
          "choropleth": [
           {
            "colorbar": {
             "outlinewidth": 0,
             "ticks": ""
            },
            "type": "choropleth"
           }
          ],
          "contour": [
           {
            "colorbar": {
             "outlinewidth": 0,
             "ticks": ""
            },
            "colorscale": [
             [
              0,
              "#0d0887"
             ],
             [
              0.1111111111111111,
              "#46039f"
             ],
             [
              0.2222222222222222,
              "#7201a8"
             ],
             [
              0.3333333333333333,
              "#9c179e"
             ],
             [
              0.4444444444444444,
              "#bd3786"
             ],
             [
              0.5555555555555556,
              "#d8576b"
             ],
             [
              0.6666666666666666,
              "#ed7953"
             ],
             [
              0.7777777777777778,
              "#fb9f3a"
             ],
             [
              0.8888888888888888,
              "#fdca26"
             ],
             [
              1,
              "#f0f921"
             ]
            ],
            "type": "contour"
           }
          ],
          "contourcarpet": [
           {
            "colorbar": {
             "outlinewidth": 0,
             "ticks": ""
            },
            "type": "contourcarpet"
           }
          ],
          "heatmap": [
           {
            "colorbar": {
             "outlinewidth": 0,
             "ticks": ""
            },
            "colorscale": [
             [
              0,
              "#0d0887"
             ],
             [
              0.1111111111111111,
              "#46039f"
             ],
             [
              0.2222222222222222,
              "#7201a8"
             ],
             [
              0.3333333333333333,
              "#9c179e"
             ],
             [
              0.4444444444444444,
              "#bd3786"
             ],
             [
              0.5555555555555556,
              "#d8576b"
             ],
             [
              0.6666666666666666,
              "#ed7953"
             ],
             [
              0.7777777777777778,
              "#fb9f3a"
             ],
             [
              0.8888888888888888,
              "#fdca26"
             ],
             [
              1,
              "#f0f921"
             ]
            ],
            "type": "heatmap"
           }
          ],
          "histogram": [
           {
            "marker": {
             "pattern": {
              "fillmode": "overlay",
              "size": 10,
              "solidity": 0.2
             }
            },
            "type": "histogram"
           }
          ],
          "histogram2d": [
           {
            "colorbar": {
             "outlinewidth": 0,
             "ticks": ""
            },
            "colorscale": [
             [
              0,
              "#0d0887"
             ],
             [
              0.1111111111111111,
              "#46039f"
             ],
             [
              0.2222222222222222,
              "#7201a8"
             ],
             [
              0.3333333333333333,
              "#9c179e"
             ],
             [
              0.4444444444444444,
              "#bd3786"
             ],
             [
              0.5555555555555556,
              "#d8576b"
             ],
             [
              0.6666666666666666,
              "#ed7953"
             ],
             [
              0.7777777777777778,
              "#fb9f3a"
             ],
             [
              0.8888888888888888,
              "#fdca26"
             ],
             [
              1,
              "#f0f921"
             ]
            ],
            "type": "histogram2d"
           }
          ],
          "histogram2dcontour": [
           {
            "colorbar": {
             "outlinewidth": 0,
             "ticks": ""
            },
            "colorscale": [
             [
              0,
              "#0d0887"
             ],
             [
              0.1111111111111111,
              "#46039f"
             ],
             [
              0.2222222222222222,
              "#7201a8"
             ],
             [
              0.3333333333333333,
              "#9c179e"
             ],
             [
              0.4444444444444444,
              "#bd3786"
             ],
             [
              0.5555555555555556,
              "#d8576b"
             ],
             [
              0.6666666666666666,
              "#ed7953"
             ],
             [
              0.7777777777777778,
              "#fb9f3a"
             ],
             [
              0.8888888888888888,
              "#fdca26"
             ],
             [
              1,
              "#f0f921"
             ]
            ],
            "type": "histogram2dcontour"
           }
          ],
          "mesh3d": [
           {
            "colorbar": {
             "outlinewidth": 0,
             "ticks": ""
            },
            "type": "mesh3d"
           }
          ],
          "parcoords": [
           {
            "line": {
             "colorbar": {
              "outlinewidth": 0,
              "ticks": ""
             }
            },
            "type": "parcoords"
           }
          ],
          "pie": [
           {
            "automargin": true,
            "type": "pie"
           }
          ],
          "scatter": [
           {
            "fillpattern": {
             "fillmode": "overlay",
             "size": 10,
             "solidity": 0.2
            },
            "type": "scatter"
           }
          ],
          "scatter3d": [
           {
            "line": {
             "colorbar": {
              "outlinewidth": 0,
              "ticks": ""
             }
            },
            "marker": {
             "colorbar": {
              "outlinewidth": 0,
              "ticks": ""
             }
            },
            "type": "scatter3d"
           }
          ],
          "scattercarpet": [
           {
            "marker": {
             "colorbar": {
              "outlinewidth": 0,
              "ticks": ""
             }
            },
            "type": "scattercarpet"
           }
          ],
          "scattergeo": [
           {
            "marker": {
             "colorbar": {
              "outlinewidth": 0,
              "ticks": ""
             }
            },
            "type": "scattergeo"
           }
          ],
          "scattergl": [
           {
            "marker": {
             "colorbar": {
              "outlinewidth": 0,
              "ticks": ""
             }
            },
            "type": "scattergl"
           }
          ],
          "scattermap": [
           {
            "marker": {
             "colorbar": {
              "outlinewidth": 0,
              "ticks": ""
             }
            },
            "type": "scattermap"
           }
          ],
          "scattermapbox": [
           {
            "marker": {
             "colorbar": {
              "outlinewidth": 0,
              "ticks": ""
             }
            },
            "type": "scattermapbox"
           }
          ],
          "scatterpolar": [
           {
            "marker": {
             "colorbar": {
              "outlinewidth": 0,
              "ticks": ""
             }
            },
            "type": "scatterpolar"
           }
          ],
          "scatterpolargl": [
           {
            "marker": {
             "colorbar": {
              "outlinewidth": 0,
              "ticks": ""
             }
            },
            "type": "scatterpolargl"
           }
          ],
          "scatterternary": [
           {
            "marker": {
             "colorbar": {
              "outlinewidth": 0,
              "ticks": ""
             }
            },
            "type": "scatterternary"
           }
          ],
          "surface": [
           {
            "colorbar": {
             "outlinewidth": 0,
             "ticks": ""
            },
            "colorscale": [
             [
              0,
              "#0d0887"
             ],
             [
              0.1111111111111111,
              "#46039f"
             ],
             [
              0.2222222222222222,
              "#7201a8"
             ],
             [
              0.3333333333333333,
              "#9c179e"
             ],
             [
              0.4444444444444444,
              "#bd3786"
             ],
             [
              0.5555555555555556,
              "#d8576b"
             ],
             [
              0.6666666666666666,
              "#ed7953"
             ],
             [
              0.7777777777777778,
              "#fb9f3a"
             ],
             [
              0.8888888888888888,
              "#fdca26"
             ],
             [
              1,
              "#f0f921"
             ]
            ],
            "type": "surface"
           }
          ],
          "table": [
           {
            "cells": {
             "fill": {
              "color": "#EBF0F8"
             },
             "line": {
              "color": "white"
             }
            },
            "header": {
             "fill": {
              "color": "#C8D4E3"
             },
             "line": {
              "color": "white"
             }
            },
            "type": "table"
           }
          ]
         },
         "layout": {
          "annotationdefaults": {
           "arrowcolor": "#2a3f5f",
           "arrowhead": 0,
           "arrowwidth": 1
          },
          "autotypenumbers": "strict",
          "coloraxis": {
           "colorbar": {
            "outlinewidth": 0,
            "ticks": ""
           }
          },
          "colorscale": {
           "diverging": [
            [
             0,
             "#8e0152"
            ],
            [
             0.1,
             "#c51b7d"
            ],
            [
             0.2,
             "#de77ae"
            ],
            [
             0.3,
             "#f1b6da"
            ],
            [
             0.4,
             "#fde0ef"
            ],
            [
             0.5,
             "#f7f7f7"
            ],
            [
             0.6,
             "#e6f5d0"
            ],
            [
             0.7,
             "#b8e186"
            ],
            [
             0.8,
             "#7fbc41"
            ],
            [
             0.9,
             "#4d9221"
            ],
            [
             1,
             "#276419"
            ]
           ],
           "sequential": [
            [
             0,
             "#0d0887"
            ],
            [
             0.1111111111111111,
             "#46039f"
            ],
            [
             0.2222222222222222,
             "#7201a8"
            ],
            [
             0.3333333333333333,
             "#9c179e"
            ],
            [
             0.4444444444444444,
             "#bd3786"
            ],
            [
             0.5555555555555556,
             "#d8576b"
            ],
            [
             0.6666666666666666,
             "#ed7953"
            ],
            [
             0.7777777777777778,
             "#fb9f3a"
            ],
            [
             0.8888888888888888,
             "#fdca26"
            ],
            [
             1,
             "#f0f921"
            ]
           ],
           "sequentialminus": [
            [
             0,
             "#0d0887"
            ],
            [
             0.1111111111111111,
             "#46039f"
            ],
            [
             0.2222222222222222,
             "#7201a8"
            ],
            [
             0.3333333333333333,
             "#9c179e"
            ],
            [
             0.4444444444444444,
             "#bd3786"
            ],
            [
             0.5555555555555556,
             "#d8576b"
            ],
            [
             0.6666666666666666,
             "#ed7953"
            ],
            [
             0.7777777777777778,
             "#fb9f3a"
            ],
            [
             0.8888888888888888,
             "#fdca26"
            ],
            [
             1,
             "#f0f921"
            ]
           ]
          },
          "colorway": [
           "#636efa",
           "#EF553B",
           "#00cc96",
           "#ab63fa",
           "#FFA15A",
           "#19d3f3",
           "#FF6692",
           "#B6E880",
           "#FF97FF",
           "#FECB52"
          ],
          "font": {
           "color": "#2a3f5f"
          },
          "geo": {
           "bgcolor": "white",
           "lakecolor": "white",
           "landcolor": "#E5ECF6",
           "showlakes": true,
           "showland": true,
           "subunitcolor": "white"
          },
          "hoverlabel": {
           "align": "left"
          },
          "hovermode": "closest",
          "mapbox": {
           "style": "light"
          },
          "paper_bgcolor": "white",
          "plot_bgcolor": "#E5ECF6",
          "polar": {
           "angularaxis": {
            "gridcolor": "white",
            "linecolor": "white",
            "ticks": ""
           },
           "bgcolor": "#E5ECF6",
           "radialaxis": {
            "gridcolor": "white",
            "linecolor": "white",
            "ticks": ""
           }
          },
          "scene": {
           "xaxis": {
            "backgroundcolor": "#E5ECF6",
            "gridcolor": "white",
            "gridwidth": 2,
            "linecolor": "white",
            "showbackground": true,
            "ticks": "",
            "zerolinecolor": "white"
           },
           "yaxis": {
            "backgroundcolor": "#E5ECF6",
            "gridcolor": "white",
            "gridwidth": 2,
            "linecolor": "white",
            "showbackground": true,
            "ticks": "",
            "zerolinecolor": "white"
           },
           "zaxis": {
            "backgroundcolor": "#E5ECF6",
            "gridcolor": "white",
            "gridwidth": 2,
            "linecolor": "white",
            "showbackground": true,
            "ticks": "",
            "zerolinecolor": "white"
           }
          },
          "shapedefaults": {
           "line": {
            "color": "#2a3f5f"
           }
          },
          "ternary": {
           "aaxis": {
            "gridcolor": "white",
            "linecolor": "white",
            "ticks": ""
           },
           "baxis": {
            "gridcolor": "white",
            "linecolor": "white",
            "ticks": ""
           },
           "bgcolor": "#E5ECF6",
           "caxis": {
            "gridcolor": "white",
            "linecolor": "white",
            "ticks": ""
           }
          },
          "title": {
           "x": 0.05
          },
          "xaxis": {
           "automargin": true,
           "gridcolor": "white",
           "linecolor": "white",
           "ticks": "",
           "title": {
            "standoff": 15
           },
           "zerolinecolor": "white",
           "zerolinewidth": 2
          },
          "yaxis": {
           "automargin": true,
           "gridcolor": "white",
           "linecolor": "white",
           "ticks": "",
           "title": {
            "standoff": 15
           },
           "zerolinecolor": "white",
           "zerolinewidth": 2
          }
         }
        },
        "title": {
         "text": "Manual NB — F1 Std vs Features (stability)"
        },
        "xaxis": {
         "anchor": "y",
         "domain": [
          0,
          1
         ],
         "title": {
          "text": "Top-N features"
         }
        },
        "yaxis": {
         "anchor": "x",
         "domain": [
          0,
          1
         ],
         "title": {
          "text": "F1 std (avg over K)"
         }
        }
       }
      },
      "image/png": "[encoded data removed]"
     },
     "metadata": {},
     "output_type": "display_data"
    }
   ],
   "source": [
    "std_agg = df_manual.groupby('topN')['f1_std'].mean().reset_index()\n",
    "fig6 = px.line(std_agg, x=\"topN\", y=\"f1_std\", markers=True,\n",
    "               title=\"Manual NB — F1 Std vs Features (stability)\",\n",
    "               labels={\"topN\": \"Top-N features\", \"f1_std\": \"F1 std (avg over K)\"})\n",
    "fig6.show()"
   ]
  },
  {
   "cell_type": "markdown",
   "id": "a11fdb45",
   "metadata": {},
   "source": [
    "\n",
    "# Findings and Conclussion\n",
    "\n",
    "Through the model imlementation, I found out that this dataset alongside this Naive Bayes implementation was a complete failure. With b oth the manual model implementation and the sklearn one, I just got a maximum of 54% accuracy using Kfold cross validation, which is a total waste of time and resources. The model acts slightly better than tossing a dice for classifying the sentiment on the given texts.\n",
    "\n",
    "What got my attention, is that even with the sklearn library, the model accuracy does not improve. \n",
    "\n",
    "I can conclude that the problem is the poor training a test data labeling. Inspecting the dataset manually, I found out that effectively the labeling is incongruent, and appears to be work of a randome classification, which explains a little bit the results I got\n",
    "\n",
    "Even though the result I got are not good, with this activity I learned the basics of the Naive Bayes algorithm and its use cases in real life scenarios"
   ]
  }
 ],
 "metadata": {
  "kernelspec": {
   "display_name": "Python 3 (ipykernel)",
   "language": "python",
   "name": "python3"
  },
  "language_info": {
   "codemirror_mode": {
    "name": "ipython",
    "version": 3
   },
   "file_extension": ".py",
   "mimetype": "text/x-python",
   "name": "python",
   "nbconvert_exporter": "python",
   "pygments_lexer": "ipython3",
   "version": "3.13.3"
  }
 },
 "nbformat": 4,
 "nbformat_minor": 5
}
